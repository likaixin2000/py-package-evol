{
 "cells": [
  {
   "cell_type": "markdown",
   "id": "07426780",
   "metadata": {},
   "source": [
    "# Visualization Examples with PyMevol Plus\n",
    "\n",
    "This notebook demonstrates how to create compelling visualizations of API evolution data using PyMevol Plus with various plotting libraries.\n",
    "\n",
    "## What You'll Learn:\n",
    "- 📊 Creating timeline charts of API evolution\n",
    "- 🏗️ Visualizing API type distributions\n",
    "- 🔄 Plotting change patterns and trends\n",
    "- 📈 Building interactive dashboards\n",
    "- 🎨 Customizing visualizations for reports\n",
    "\n",
    "## Libraries Used:\n",
    "- **Plotly**: Interactive charts and graphs\n",
    "- **Matplotlib**: Static publication-quality plots\n",
    "- **Seaborn**: Statistical visualizations\n",
    "- **Pandas**: Data manipulation and analysis"
   ]
  },
  {
   "cell_type": "markdown",
   "id": "9917fbd9",
   "metadata": {},
   "source": [
    "## 1. Setup and Sample Data\n",
    "\n",
    "Let's start by importing libraries and creating sample data for visualization."
   ]
  },
  {
   "cell_type": "code",
   "execution_count": 1,
   "id": "0e46073e",
   "metadata": {},
   "outputs": [
    {
     "data": {
      "text/html": [
       "        <script type=\"text/javascript\">\n",
       "        window.PlotlyConfig = {MathJaxConfig: 'local'};\n",
       "        if (window.MathJax && window.MathJax.Hub && window.MathJax.Hub.Config) {window.MathJax.Hub.Config({SVG: {font: \"STIX-Web\"}});}\n",
       "        </script>\n",
       "        <script type=\"module\">import \"https://cdn.plot.ly/plotly-3.0.1.min\"</script>\n",
       "        "
      ]
     },
     "metadata": {},
     "output_type": "display_data"
    },
    {
     "name": "stdout",
     "output_type": "stream",
     "text": [
      "🎨 Visualization libraries loaded!\n",
      "📊 Plotly available: ✅\n",
      "📈 Matplotlib/Seaborn available: ✅\n"
     ]
    }
   ],
   "source": [
    "# Core imports\n",
    "import json\n",
    "import pandas as pd\n",
    "import numpy as np\n",
    "from datetime import datetime, timedelta\n",
    "from collections import defaultdict, Counter\n",
    "\n",
    "# PyPevol imports - Updated to match actual available classes\n",
    "from pypevol.models import APIElement, APIType, VersionInfo, APIChange, AnalysisResult, ChangeType\n",
    "\n",
    "# Visualization libraries\n",
    "import plotly.graph_objects as go\n",
    "import plotly.express as px\n",
    "from plotly.subplots import make_subplots\n",
    "import plotly.offline as pyo\n",
    "\n",
    "# Enable offline plotting\n",
    "pyo.init_notebook_mode(connected=True)\n",
    "\n",
    "# Optional libraries (install if needed)\n",
    "try:\n",
    "    import matplotlib.pyplot as plt\n",
    "    import seaborn as sns\n",
    "    HAS_MPL = True\n",
    "    # Set style\n",
    "    plt.style.use('default')\n",
    "    sns.set_palette(\"husl\")\n",
    "except ImportError:\n",
    "    HAS_MPL = False\n",
    "    print(\"💡 Matplotlib/Seaborn not available. Install with: pip install matplotlib seaborn\")\n",
    "\n",
    "print(\"🎨 Visualization libraries loaded!\")\n",
    "print(f\"📊 Plotly available: ✅\")\n",
    "print(f\"📈 Matplotlib/Seaborn available: {'✅' if HAS_MPL else '❌'}\")"
   ]
  },
  {
   "cell_type": "code",
   "execution_count": 2,
   "id": "8afc6129",
   "metadata": {},
   "outputs": [
    {
     "name": "stdout",
     "output_type": "stream",
     "text": [
      "📊 Sample data created for 'mylib'\n",
      "📈 Versions: 7\n",
      "🔄 Changes: 29\n",
      "📋 API elements: 82\n"
     ]
    }
   ],
   "source": [
    "# Create rich sample data for visualization\n",
    "def create_sample_evolution_data():\n",
    "    \"\"\"Create a realistic dataset showing API evolution over time.\"\"\"\n",
    "    \n",
    "    # Define versions with realistic dates\n",
    "    base_date = datetime(2020, 1, 1)\n",
    "    versions = [\n",
    "        VersionInfo(\"1.0.0\", (base_date + timedelta(days=0)).strftime(\"%Y-%m-%d\")),\n",
    "        VersionInfo(\"1.1.0\", (base_date + timedelta(days=90)).strftime(\"%Y-%m-%d\")),\n",
    "        VersionInfo(\"1.2.0\", (base_date + timedelta(days=180)).strftime(\"%Y-%m-%d\")),\n",
    "        VersionInfo(\"2.0.0\", (base_date + timedelta(days=365)).strftime(\"%Y-%m-%d\")),\n",
    "        VersionInfo(\"2.1.0\", (base_date + timedelta(days=450)).strftime(\"%Y-%m-%d\")),\n",
    "        VersionInfo(\"2.2.0\", (base_date + timedelta(days=540)).strftime(\"%Y-%m-%d\")),\n",
    "        VersionInfo(\"3.0.0\", (base_date + timedelta(days=730)).strftime(\"%Y-%m-%d\")),\n",
    "    ]\n",
    "    \n",
    "    # Create API elements for each version (simulating evolution)\n",
    "    api_elements = {}\n",
    "    changes = []\n",
    "    \n",
    "    # Base APIs (v1.0.0)\n",
    "    v1_apis = [\n",
    "        APIElement(\"connect\", APIType.FUNCTION, \"mylib.core\"),\n",
    "        APIElement(\"disconnect\", APIType.FUNCTION, \"mylib.core\"),\n",
    "        APIElement(\"Client\", APIType.CLASS, \"mylib.client\"),\n",
    "        APIElement(\"Logger\", APIType.CLASS, \"mylib.utils\"),\n",
    "        APIElement(\"VERSION\", APIType.CONSTANT, \"mylib\"),\n",
    "    ]\n",
    "    api_elements[\"1.0.0\"] = v1_apis\n",
    "    \n",
    "    # v1.1.0 - Add some APIs\n",
    "    v1_1_apis = v1_apis.copy() + [\n",
    "        APIElement(\"reconnect\", APIType.FUNCTION, \"mylib.core\"),\n",
    "        APIElement(\"get_status\", APIType.METHOD, \"mylib.client.Client\"),\n",
    "        APIElement(\"Config\", APIType.CLASS, \"mylib.config\"),\n",
    "    ]\n",
    "    api_elements[\"1.1.0\"] = v1_1_apis\n",
    "    \n",
    "    # Create APIChange objects for additions\n",
    "    changes.extend([\n",
    "        APIChange(\n",
    "            element=APIElement(\"reconnect\", APIType.FUNCTION, \"mylib.core\"),\n",
    "            change_type=ChangeType.ADDED,\n",
    "            to_version=\"1.1.0\",\n",
    "            description=\"Added automatic reconnection function\"\n",
    "        ),\n",
    "        APIChange(\n",
    "            element=APIElement(\"get_status\", APIType.METHOD, \"mylib.client.Client\"),\n",
    "            change_type=ChangeType.ADDED,\n",
    "            to_version=\"1.1.0\",\n",
    "            description=\"Added status checking method to Client\"\n",
    "        ),\n",
    "        APIChange(\n",
    "            element=APIElement(\"Config\", APIType.CLASS, \"mylib.config\"),\n",
    "            change_type=ChangeType.ADDED,\n",
    "            to_version=\"1.1.0\",\n",
    "            description=\"Added configuration management class\"\n",
    "        ),\n",
    "    ])\n",
    "    \n",
    "    # v1.2.0 - More additions\n",
    "    v1_2_apis = v1_1_apis.copy() + [\n",
    "        APIElement(\"async_connect\", APIType.FUNCTION, \"mylib.async_core\"),\n",
    "        APIElement(\"AsyncClient\", APIType.CLASS, \"mylib.async_client\"),\n",
    "        APIElement(\"validate_config\", APIType.FUNCTION, \"mylib.config\"),\n",
    "    ]\n",
    "    api_elements[\"1.2.0\"] = v1_2_apis\n",
    "    changes.extend([\n",
    "        APIChange(\n",
    "            element=APIElement(\"async_connect\", APIType.FUNCTION, \"mylib.async_core\"),\n",
    "            change_type=ChangeType.ADDED,\n",
    "            to_version=\"1.2.0\",\n",
    "            description=\"Added async support\"\n",
    "        ),\n",
    "        APIChange(\n",
    "            element=APIElement(\"AsyncClient\", APIType.CLASS, \"mylib.async_client\"),\n",
    "            change_type=ChangeType.ADDED,\n",
    "            to_version=\"1.2.0\",\n",
    "            description=\"Added async client class\"\n",
    "        ),\n",
    "        APIChange(\n",
    "            element=APIElement(\"validate_config\", APIType.FUNCTION, \"mylib.config\"),\n",
    "            change_type=ChangeType.ADDED,\n",
    "            to_version=\"1.2.0\",\n",
    "            description=\"Added config validation\"\n",
    "        ),\n",
    "    ])\n",
    "    \n",
    "    # v2.0.0 - Major version with breaking changes\n",
    "    v2_0_apis = [\n",
    "        # Keep most APIs but modify some\n",
    "        APIElement(\"connect\", APIType.FUNCTION, \"mylib.core\"),  # Modified signature\n",
    "        APIElement(\"disconnect\", APIType.FUNCTION, \"mylib.core\"),\n",
    "        APIElement(\"Client\", APIType.CLASS, \"mylib.client\"),  # Modified\n",
    "        APIElement(\"Logger\", APIType.CLASS, \"mylib.logging\"),  # Moved module\n",
    "        APIElement(\"VERSION\", APIType.CONSTANT, \"mylib\"),\n",
    "        APIElement(\"reconnect\", APIType.FUNCTION, \"mylib.core\"),\n",
    "        APIElement(\"get_status\", APIType.METHOD, \"mylib.client.Client\"),\n",
    "        # Config class removed, replaced with new one\n",
    "        APIElement(\"Settings\", APIType.CLASS, \"mylib.config\"),  # Replaced Config\n",
    "        APIElement(\"async_connect\", APIType.FUNCTION, \"mylib.async_core\"),\n",
    "        APIElement(\"AsyncClient\", APIType.CLASS, \"mylib.async_client\"),\n",
    "        # validate_config removed\n",
    "        # New APIs\n",
    "        APIElement(\"Connection\", APIType.CLASS, \"mylib.connection\"),\n",
    "        APIElement(\"authenticate\", APIType.FUNCTION, \"mylib.auth\"),\n",
    "    ]\n",
    "    api_elements[\"2.0.0\"] = v2_0_apis\n",
    "    changes.extend([\n",
    "        APIChange(\n",
    "            element=APIElement(\"connect\", APIType.FUNCTION, \"mylib.core\"),\n",
    "            change_type=ChangeType.MODIFIED,\n",
    "            to_version=\"2.0.0\",\n",
    "            description=\"Changed signature - now requires auth\",\n",
    "            is_backwards_compatible=False\n",
    "        ),\n",
    "        APIChange(\n",
    "            element=APIElement(\"Client\", APIType.CLASS, \"mylib.client\"),\n",
    "            change_type=ChangeType.MODIFIED,\n",
    "            to_version=\"2.0.0\",\n",
    "            description=\"Restructured Client class\",\n",
    "            is_backwards_compatible=False\n",
    "        ),\n",
    "        APIChange(\n",
    "            element=APIElement(\"Logger\", APIType.CLASS, \"mylib.utils\"),\n",
    "            change_type=ChangeType.MODIFIED,\n",
    "            to_version=\"2.0.0\",\n",
    "            description=\"Moved to mylib.logging module\",\n",
    "            is_backwards_compatible=False\n",
    "        ),\n",
    "        APIChange(\n",
    "            element=APIElement(\"Config\", APIType.CLASS, \"mylib.config\"),\n",
    "            change_type=ChangeType.REMOVED,\n",
    "            to_version=\"2.0.0\",\n",
    "            description=\"Replaced with Settings class\",\n",
    "            is_backwards_compatible=False\n",
    "        ),\n",
    "        APIChange(\n",
    "            element=APIElement(\"validate_config\", APIType.FUNCTION, \"mylib.config\"),\n",
    "            change_type=ChangeType.REMOVED,\n",
    "            to_version=\"2.0.0\",\n",
    "            description=\"Validation now built into Settings\",\n",
    "            is_backwards_compatible=False\n",
    "        ),\n",
    "        APIChange(\n",
    "            element=APIElement(\"Settings\", APIType.CLASS, \"mylib.config\"),\n",
    "            change_type=ChangeType.ADDED,\n",
    "            to_version=\"2.0.0\",\n",
    "            description=\"New configuration management\"\n",
    "        ),\n",
    "        APIChange(\n",
    "            element=APIElement(\"Connection\", APIType.CLASS, \"mylib.connection\"),\n",
    "            change_type=ChangeType.ADDED,\n",
    "            to_version=\"2.0.0\",\n",
    "            description=\"New connection abstraction\"\n",
    "        ),\n",
    "        APIChange(\n",
    "            element=APIElement(\"authenticate\", APIType.FUNCTION, \"mylib.auth\"),\n",
    "            change_type=ChangeType.ADDED,\n",
    "            to_version=\"2.0.0\",\n",
    "            description=\"New authentication system\"\n",
    "        ),\n",
    "    ])\n",
    "    \n",
    "    # Continue evolution for remaining versions...\n",
    "    # v2.1.0 - Minor additions\n",
    "    v2_1_apis = v2_0_apis.copy() + [\n",
    "        APIElement(\"bulk_connect\", APIType.FUNCTION, \"mylib.core\"),\n",
    "        APIElement(\"ConnectionPool\", APIType.CLASS, \"mylib.connection\"),\n",
    "    ]\n",
    "    api_elements[\"2.1.0\"] = v2_1_apis\n",
    "    changes.extend([\n",
    "        APIChange(\n",
    "            element=APIElement(\"bulk_connect\", APIType.FUNCTION, \"mylib.core\"),\n",
    "            change_type=ChangeType.ADDED,\n",
    "            to_version=\"2.1.0\",\n",
    "            description=\"Added bulk connection support\"\n",
    "        ),\n",
    "        APIChange(\n",
    "            element=APIElement(\"ConnectionPool\", APIType.CLASS, \"mylib.connection\"),\n",
    "            change_type=ChangeType.ADDED,\n",
    "            to_version=\"2.1.0\",\n",
    "            description=\"Added connection pooling\"\n",
    "        ),\n",
    "    ])\n",
    "    \n",
    "    # v2.2.0 - More features\n",
    "    v2_2_apis = v2_1_apis.copy() + [\n",
    "        APIElement(\"monitor\", APIType.FUNCTION, \"mylib.monitoring\"),\n",
    "        APIElement(\"Metrics\", APIType.CLASS, \"mylib.monitoring\"),\n",
    "        APIElement(\"export_metrics\", APIType.FUNCTION, \"mylib.monitoring\"),\n",
    "    ]\n",
    "    api_elements[\"2.2.0\"] = v2_2_apis\n",
    "    changes.extend([\n",
    "        APIChange(\n",
    "            element=APIElement(\"monitor\", APIType.FUNCTION, \"mylib.monitoring\"),\n",
    "            change_type=ChangeType.ADDED,\n",
    "            to_version=\"2.2.0\",\n",
    "            description=\"Added monitoring capabilities\"\n",
    "        ),\n",
    "        APIChange(\n",
    "            element=APIElement(\"Metrics\", APIType.CLASS, \"mylib.monitoring\"),\n",
    "            change_type=ChangeType.ADDED,\n",
    "            to_version=\"2.2.0\",\n",
    "            description=\"Added metrics collection\"\n",
    "        ),\n",
    "        APIChange(\n",
    "            element=APIElement(\"export_metrics\", APIType.FUNCTION, \"mylib.monitoring\"),\n",
    "            change_type=ChangeType.ADDED,\n",
    "            to_version=\"2.2.0\",\n",
    "            description=\"Added metrics export\"\n",
    "        ),\n",
    "    ])\n",
    "    \n",
    "    # v3.0.0 - Another major version\n",
    "    v3_0_apis = [\n",
    "        # Streamlined API, some removals\n",
    "        APIElement(\"connect\", APIType.FUNCTION, \"mylib.core\"),\n",
    "        APIElement(\"disconnect\", APIType.FUNCTION, \"mylib.core\"),\n",
    "        APIElement(\"Client\", APIType.CLASS, \"mylib.client\"),\n",
    "        APIElement(\"Logger\", APIType.CLASS, \"mylib.logging\"),\n",
    "        APIElement(\"VERSION\", APIType.CONSTANT, \"mylib\"),\n",
    "        # reconnect removed in favor of auto-reconnection\n",
    "        APIElement(\"get_status\", APIType.METHOD, \"mylib.client.Client\"),\n",
    "        APIElement(\"Settings\", APIType.CLASS, \"mylib.config\"),\n",
    "        APIElement(\"Connection\", APIType.CLASS, \"mylib.connection\"),\n",
    "        APIElement(\"authenticate\", APIType.FUNCTION, \"mylib.auth\"),\n",
    "        APIElement(\"ConnectionPool\", APIType.CLASS, \"mylib.connection\"),\n",
    "        APIElement(\"Metrics\", APIType.CLASS, \"mylib.monitoring\"),\n",
    "        # New v3 APIs\n",
    "        APIElement(\"Session\", APIType.CLASS, \"mylib.session\"),\n",
    "        APIElement(\"create_session\", APIType.FUNCTION, \"mylib.session\"),\n",
    "        APIElement(\"Plugin\", APIType.CLASS, \"mylib.plugins\"),\n",
    "        APIElement(\"load_plugin\", APIType.FUNCTION, \"mylib.plugins\"),\n",
    "    ]\n",
    "    api_elements[\"3.0.0\"] = v3_0_apis\n",
    "    changes.extend([\n",
    "        APIChange(\n",
    "            element=APIElement(\"async_connect\", APIType.FUNCTION, \"mylib.async_core\"),\n",
    "            change_type=ChangeType.REMOVED,\n",
    "            to_version=\"3.0.0\",\n",
    "            description=\"Merged into main connect function\",\n",
    "            is_backwards_compatible=False\n",
    "        ),\n",
    "        APIChange(\n",
    "            element=APIElement(\"AsyncClient\", APIType.CLASS, \"mylib.async_client\"),\n",
    "            change_type=ChangeType.REMOVED,\n",
    "            to_version=\"3.0.0\",\n",
    "            description=\"Async support now built into Client\",\n",
    "            is_backwards_compatible=False\n",
    "        ),\n",
    "        APIChange(\n",
    "            element=APIElement(\"reconnect\", APIType.FUNCTION, \"mylib.core\"),\n",
    "            change_type=ChangeType.REMOVED,\n",
    "            to_version=\"3.0.0\",\n",
    "            description=\"Auto-reconnection now default\",\n",
    "            is_backwards_compatible=False\n",
    "        ),\n",
    "        APIChange(\n",
    "            element=APIElement(\"bulk_connect\", APIType.FUNCTION, \"mylib.core\"),\n",
    "            change_type=ChangeType.REMOVED,\n",
    "            to_version=\"3.0.0\",\n",
    "            description=\"Use ConnectionPool instead\",\n",
    "            is_backwards_compatible=False\n",
    "        ),\n",
    "        APIChange(\n",
    "            element=APIElement(\"monitor\", APIType.FUNCTION, \"mylib.monitoring\"),\n",
    "            change_type=ChangeType.REMOVED,\n",
    "            to_version=\"3.0.0\",\n",
    "            description=\"Integrated into Metrics class\",\n",
    "            is_backwards_compatible=False\n",
    "        ),\n",
    "        APIChange(\n",
    "            element=APIElement(\"export_metrics\", APIType.FUNCTION, \"mylib.monitoring\"),\n",
    "            change_type=ChangeType.REMOVED,\n",
    "            to_version=\"3.0.0\",\n",
    "            description=\"Now a method of Metrics\",\n",
    "            is_backwards_compatible=False\n",
    "        ),\n",
    "        APIChange(\n",
    "            element=APIElement(\"Session\", APIType.CLASS, \"mylib.session\"),\n",
    "            change_type=ChangeType.ADDED,\n",
    "            to_version=\"3.0.0\",\n",
    "            description=\"New session management system\"\n",
    "        ),\n",
    "        APIChange(\n",
    "            element=APIElement(\"create_session\", APIType.FUNCTION, \"mylib.session\"),\n",
    "            change_type=ChangeType.ADDED,\n",
    "            to_version=\"3.0.0\",\n",
    "            description=\"Session factory function\"\n",
    "        ),\n",
    "        APIChange(\n",
    "            element=APIElement(\"Plugin\", APIType.CLASS, \"mylib.plugins\"),\n",
    "            change_type=ChangeType.ADDED,\n",
    "            to_version=\"3.0.0\",\n",
    "            description=\"Plugin system for extensibility\"\n",
    "        ),\n",
    "        APIChange(\n",
    "            element=APIElement(\"load_plugin\", APIType.FUNCTION, \"mylib.plugins\"),\n",
    "            change_type=ChangeType.ADDED,\n",
    "            to_version=\"3.0.0\",\n",
    "            description=\"Plugin loading mechanism\"\n",
    "        ),\n",
    "    ])\n",
    "    \n",
    "    # Create the analysis result\n",
    "    result = AnalysisResult(\n",
    "        package_name=\"mylib\",\n",
    "        versions=versions,\n",
    "        api_elements=api_elements,\n",
    "        changes=changes,\n",
    "        metadata={\n",
    "            \"analysis_tool\": \"PyMevol Plus\",\n",
    "            \"sample_data\": True,\n",
    "            \"created_for\": \"visualization_demo\"\n",
    "        }\n",
    "    )\n",
    "    \n",
    "    return result\n",
    "\n",
    "# Create our sample data\n",
    "demo_result = create_sample_evolution_data()\n",
    "print(f\"📊 Sample data created for '{demo_result.package_name}'\")\n",
    "print(f\"📈 Versions: {len(demo_result.versions)}\")\n",
    "print(f\"🔄 Changes: {len(demo_result.changes)}\")\n",
    "print(f\"📋 API elements: {sum(len(apis) for apis in demo_result.api_elements.values())}\")"
   ]
  },
  {
   "cell_type": "markdown",
   "id": "54c2d337",
   "metadata": {},
   "source": [
    "## 2. API Evolution Timeline\n",
    "\n",
    "The timeline view is one of the most powerful ways to visualize API evolution, showing how APIs are introduced, modified, and removed over time."
   ]
  },
  {
   "cell_type": "code",
   "execution_count": 3,
   "id": "b70ed9e2",
   "metadata": {},
   "outputs": [
    {
     "data": {
      "application/vnd.plotly.v1+json": {
       "config": {
        "plotlyServerURL": "https://plot.ly"
       },
       "data": [
        {
         "customdata": [
          "function",
          "method",
          "class",
          "function",
          "class",
          "function",
          "class",
          "class",
          "function",
          "function",
          "class",
          "function",
          "class",
          "function",
          "class",
          "function",
          "class",
          "function"
         ],
         "hovertemplate": "<b>%{y}</b><br>Date: %{x}<br>Type: added<br>API Type: %{customdata}<br>Description: %{text}<br><extra></extra>",
         "marker": {
          "color": "#2E8B57",
          "line": {
           "color": "white",
           "width": 2
          },
          "size": 12,
          "symbol": "circle"
         },
         "mode": "markers",
         "name": "Added",
         "text": [
          "Added automatic reconnection function",
          "Added status checking method to Client",
          "Added configuration management class",
          "Added async support",
          "Added async client class",
          "Added config validation",
          "New configuration management",
          "New connection abstraction",
          "New authentication system",
          "Added bulk connection support",
          "Added connection pooling",
          "Added monitoring capabilities",
          "Added metrics collection",
          "Added metrics export",
          "New session management system",
          "Session factory function",
          "Plugin system for extensibility",
          "Plugin loading mechanism"
         ],
         "type": "scatter",
         "x": [
          "2020-03-31T00:00:00.000000000",
          "2020-03-31T00:00:00.000000000",
          "2020-03-31T00:00:00.000000000",
          "2020-06-29T00:00:00.000000000",
          "2020-06-29T00:00:00.000000000",
          "2020-06-29T00:00:00.000000000",
          "2020-12-31T00:00:00.000000000",
          "2020-12-31T00:00:00.000000000",
          "2020-12-31T00:00:00.000000000",
          "2021-03-26T00:00:00.000000000",
          "2021-03-26T00:00:00.000000000",
          "2021-06-24T00:00:00.000000000",
          "2021-06-24T00:00:00.000000000",
          "2021-06-24T00:00:00.000000000",
          "2021-12-31T00:00:00.000000000",
          "2021-12-31T00:00:00.000000000",
          "2021-12-31T00:00:00.000000000",
          "2021-12-31T00:00:00.000000000"
         ],
         "y": [
          "mylib.core.reconnect",
          "mylib.client.Client.get_status",
          "mylib.config.Config",
          "mylib.async_core.async_connect",
          "mylib.async_client.AsyncClient",
          "mylib.config.validate_config",
          "mylib.config.Settings",
          "mylib.connection.Connection",
          "mylib.auth.authenticate",
          "mylib.core.bulk_connect",
          "mylib.connection.ConnectionPool",
          "mylib.monitoring.monitor",
          "mylib.monitoring.Metrics",
          "mylib.monitoring.export_metrics",
          "mylib.session.Session",
          "mylib.session.create_session",
          "mylib.plugins.Plugin",
          "mylib.plugins.load_plugin"
         ]
        },
        {
         "customdata": [
          "function",
          "class",
          "class"
         ],
         "hovertemplate": "<b>%{y}</b><br>Date: %{x}<br>Type: modified<br>API Type: %{customdata}<br>Description: %{text}<br><extra></extra>",
         "marker": {
          "color": "#FF8C00",
          "line": {
           "color": "white",
           "width": 2
          },
          "size": 12,
          "symbol": "diamond"
         },
         "mode": "markers",
         "name": "Modified",
         "text": [
          "Changed signature - now requires auth",
          "Restructured Client class",
          "Moved to mylib.logging module"
         ],
         "type": "scatter",
         "x": [
          "2020-12-31T00:00:00.000000000",
          "2020-12-31T00:00:00.000000000",
          "2020-12-31T00:00:00.000000000"
         ],
         "y": [
          "mylib.core.connect",
          "mylib.client.Client",
          "mylib.utils.Logger"
         ]
        },
        {
         "customdata": [
          "class",
          "function",
          "function",
          "class",
          "function",
          "function",
          "function",
          "function"
         ],
         "hovertemplate": "<b>%{y}</b><br>Date: %{x}<br>Type: removed<br>API Type: %{customdata}<br>Description: %{text}<br><extra></extra>",
         "marker": {
          "color": "#DC143C",
          "line": {
           "color": "white",
           "width": 2
          },
          "size": 12,
          "symbol": "diamond"
         },
         "mode": "markers",
         "name": "Removed",
         "text": [
          "Replaced with Settings class",
          "Validation now built into Settings",
          "Merged into main connect function",
          "Async support now built into Client",
          "Auto-reconnection now default",
          "Use ConnectionPool instead",
          "Integrated into Metrics class",
          "Now a method of Metrics"
         ],
         "type": "scatter",
         "x": [
          "2020-12-31T00:00:00.000000000",
          "2020-12-31T00:00:00.000000000",
          "2021-12-31T00:00:00.000000000",
          "2021-12-31T00:00:00.000000000",
          "2021-12-31T00:00:00.000000000",
          "2021-12-31T00:00:00.000000000",
          "2021-12-31T00:00:00.000000000",
          "2021-12-31T00:00:00.000000000"
         ],
         "y": [
          "mylib.config.Config",
          "mylib.config.validate_config",
          "mylib.async_core.async_connect",
          "mylib.async_client.AsyncClient",
          "mylib.core.reconnect",
          "mylib.core.bulk_connect",
          "mylib.monitoring.monitor",
          "mylib.monitoring.export_metrics"
         ]
        }
       ],
       "layout": {
        "annotations": [
         {
          "font": {
           "color": "gray",
           "size": 10
          },
          "showarrow": false,
          "text": "v1.0.0",
          "textangle": -45,
          "x": "2020-01-01T00:00:00",
          "y": 1.02,
          "yref": "paper"
         },
         {
          "font": {
           "color": "gray",
           "size": 10
          },
          "showarrow": false,
          "text": "v1.1.0",
          "textangle": -45,
          "x": "2020-03-31T00:00:00",
          "y": 1.02,
          "yref": "paper"
         },
         {
          "font": {
           "color": "gray",
           "size": 10
          },
          "showarrow": false,
          "text": "v1.2.0",
          "textangle": -45,
          "x": "2020-06-29T00:00:00",
          "y": 1.02,
          "yref": "paper"
         },
         {
          "font": {
           "color": "gray",
           "size": 10
          },
          "showarrow": false,
          "text": "v2.0.0",
          "textangle": -45,
          "x": "2020-12-31T00:00:00",
          "y": 1.02,
          "yref": "paper"
         },
         {
          "font": {
           "color": "gray",
           "size": 10
          },
          "showarrow": false,
          "text": "v2.1.0",
          "textangle": -45,
          "x": "2021-03-26T00:00:00",
          "y": 1.02,
          "yref": "paper"
         },
         {
          "font": {
           "color": "gray",
           "size": 10
          },
          "showarrow": false,
          "text": "v2.2.0",
          "textangle": -45,
          "x": "2021-06-24T00:00:00",
          "y": 1.02,
          "yref": "paper"
         },
         {
          "font": {
           "color": "gray",
           "size": 10
          },
          "showarrow": false,
          "text": "v3.0.0",
          "textangle": -45,
          "x": "2021-12-31T00:00:00",
          "y": 1.02,
          "yref": "paper"
         }
        ],
        "font": {
         "size": 12
        },
        "height": 725,
        "hovermode": "closest",
        "legend": {
         "orientation": "h",
         "x": 1,
         "xanchor": "right",
         "y": 1.02,
         "yanchor": "bottom"
        },
        "shapes": [
         {
          "line": {
           "color": "gray",
           "dash": "dash",
           "width": 1
          },
          "type": "line",
          "x0": "2020-01-01T00:00:00",
          "x1": "2020-01-01T00:00:00",
          "y0": 0,
          "y1": 1,
          "yref": "paper"
         },
         {
          "line": {
           "color": "gray",
           "dash": "dash",
           "width": 1
          },
          "type": "line",
          "x0": "2020-03-31T00:00:00",
          "x1": "2020-03-31T00:00:00",
          "y0": 0,
          "y1": 1,
          "yref": "paper"
         },
         {
          "line": {
           "color": "gray",
           "dash": "dash",
           "width": 1
          },
          "type": "line",
          "x0": "2020-06-29T00:00:00",
          "x1": "2020-06-29T00:00:00",
          "y0": 0,
          "y1": 1,
          "yref": "paper"
         },
         {
          "line": {
           "color": "gray",
           "dash": "dash",
           "width": 1
          },
          "type": "line",
          "x0": "2020-12-31T00:00:00",
          "x1": "2020-12-31T00:00:00",
          "y0": 0,
          "y1": 1,
          "yref": "paper"
         },
         {
          "line": {
           "color": "gray",
           "dash": "dash",
           "width": 1
          },
          "type": "line",
          "x0": "2021-03-26T00:00:00",
          "x1": "2021-03-26T00:00:00",
          "y0": 0,
          "y1": 1,
          "yref": "paper"
         },
         {
          "line": {
           "color": "gray",
           "dash": "dash",
           "width": 1
          },
          "type": "line",
          "x0": "2021-06-24T00:00:00",
          "x1": "2021-06-24T00:00:00",
          "y0": 0,
          "y1": 1,
          "yref": "paper"
         },
         {
          "line": {
           "color": "gray",
           "dash": "dash",
           "width": 1
          },
          "type": "line",
          "x0": "2021-12-31T00:00:00",
          "x1": "2021-12-31T00:00:00",
          "y0": 0,
          "y1": 1,
          "yref": "paper"
         }
        ],
        "template": {
         "data": {
          "bar": [
           {
            "error_x": {
             "color": "#2a3f5f"
            },
            "error_y": {
             "color": "#2a3f5f"
            },
            "marker": {
             "line": {
              "color": "#E5ECF6",
              "width": 0.5
             },
             "pattern": {
              "fillmode": "overlay",
              "size": 10,
              "solidity": 0.2
             }
            },
            "type": "bar"
           }
          ],
          "barpolar": [
           {
            "marker": {
             "line": {
              "color": "#E5ECF6",
              "width": 0.5
             },
             "pattern": {
              "fillmode": "overlay",
              "size": 10,
              "solidity": 0.2
             }
            },
            "type": "barpolar"
           }
          ],
          "carpet": [
           {
            "aaxis": {
             "endlinecolor": "#2a3f5f",
             "gridcolor": "white",
             "linecolor": "white",
             "minorgridcolor": "white",
             "startlinecolor": "#2a3f5f"
            },
            "baxis": {
             "endlinecolor": "#2a3f5f",
             "gridcolor": "white",
             "linecolor": "white",
             "minorgridcolor": "white",
             "startlinecolor": "#2a3f5f"
            },
            "type": "carpet"
           }
          ],
          "choropleth": [
           {
            "colorbar": {
             "outlinewidth": 0,
             "ticks": ""
            },
            "type": "choropleth"
           }
          ],
          "contour": [
           {
            "colorbar": {
             "outlinewidth": 0,
             "ticks": ""
            },
            "colorscale": [
             [
              0,
              "#0d0887"
             ],
             [
              0.1111111111111111,
              "#46039f"
             ],
             [
              0.2222222222222222,
              "#7201a8"
             ],
             [
              0.3333333333333333,
              "#9c179e"
             ],
             [
              0.4444444444444444,
              "#bd3786"
             ],
             [
              0.5555555555555556,
              "#d8576b"
             ],
             [
              0.6666666666666666,
              "#ed7953"
             ],
             [
              0.7777777777777778,
              "#fb9f3a"
             ],
             [
              0.8888888888888888,
              "#fdca26"
             ],
             [
              1,
              "#f0f921"
             ]
            ],
            "type": "contour"
           }
          ],
          "contourcarpet": [
           {
            "colorbar": {
             "outlinewidth": 0,
             "ticks": ""
            },
            "type": "contourcarpet"
           }
          ],
          "heatmap": [
           {
            "colorbar": {
             "outlinewidth": 0,
             "ticks": ""
            },
            "colorscale": [
             [
              0,
              "#0d0887"
             ],
             [
              0.1111111111111111,
              "#46039f"
             ],
             [
              0.2222222222222222,
              "#7201a8"
             ],
             [
              0.3333333333333333,
              "#9c179e"
             ],
             [
              0.4444444444444444,
              "#bd3786"
             ],
             [
              0.5555555555555556,
              "#d8576b"
             ],
             [
              0.6666666666666666,
              "#ed7953"
             ],
             [
              0.7777777777777778,
              "#fb9f3a"
             ],
             [
              0.8888888888888888,
              "#fdca26"
             ],
             [
              1,
              "#f0f921"
             ]
            ],
            "type": "heatmap"
           }
          ],
          "histogram": [
           {
            "marker": {
             "pattern": {
              "fillmode": "overlay",
              "size": 10,
              "solidity": 0.2
             }
            },
            "type": "histogram"
           }
          ],
          "histogram2d": [
           {
            "colorbar": {
             "outlinewidth": 0,
             "ticks": ""
            },
            "colorscale": [
             [
              0,
              "#0d0887"
             ],
             [
              0.1111111111111111,
              "#46039f"
             ],
             [
              0.2222222222222222,
              "#7201a8"
             ],
             [
              0.3333333333333333,
              "#9c179e"
             ],
             [
              0.4444444444444444,
              "#bd3786"
             ],
             [
              0.5555555555555556,
              "#d8576b"
             ],
             [
              0.6666666666666666,
              "#ed7953"
             ],
             [
              0.7777777777777778,
              "#fb9f3a"
             ],
             [
              0.8888888888888888,
              "#fdca26"
             ],
             [
              1,
              "#f0f921"
             ]
            ],
            "type": "histogram2d"
           }
          ],
          "histogram2dcontour": [
           {
            "colorbar": {
             "outlinewidth": 0,
             "ticks": ""
            },
            "colorscale": [
             [
              0,
              "#0d0887"
             ],
             [
              0.1111111111111111,
              "#46039f"
             ],
             [
              0.2222222222222222,
              "#7201a8"
             ],
             [
              0.3333333333333333,
              "#9c179e"
             ],
             [
              0.4444444444444444,
              "#bd3786"
             ],
             [
              0.5555555555555556,
              "#d8576b"
             ],
             [
              0.6666666666666666,
              "#ed7953"
             ],
             [
              0.7777777777777778,
              "#fb9f3a"
             ],
             [
              0.8888888888888888,
              "#fdca26"
             ],
             [
              1,
              "#f0f921"
             ]
            ],
            "type": "histogram2dcontour"
           }
          ],
          "mesh3d": [
           {
            "colorbar": {
             "outlinewidth": 0,
             "ticks": ""
            },
            "type": "mesh3d"
           }
          ],
          "parcoords": [
           {
            "line": {
             "colorbar": {
              "outlinewidth": 0,
              "ticks": ""
             }
            },
            "type": "parcoords"
           }
          ],
          "pie": [
           {
            "automargin": true,
            "type": "pie"
           }
          ],
          "scatter": [
           {
            "fillpattern": {
             "fillmode": "overlay",
             "size": 10,
             "solidity": 0.2
            },
            "type": "scatter"
           }
          ],
          "scatter3d": [
           {
            "line": {
             "colorbar": {
              "outlinewidth": 0,
              "ticks": ""
             }
            },
            "marker": {
             "colorbar": {
              "outlinewidth": 0,
              "ticks": ""
             }
            },
            "type": "scatter3d"
           }
          ],
          "scattercarpet": [
           {
            "marker": {
             "colorbar": {
              "outlinewidth": 0,
              "ticks": ""
             }
            },
            "type": "scattercarpet"
           }
          ],
          "scattergeo": [
           {
            "marker": {
             "colorbar": {
              "outlinewidth": 0,
              "ticks": ""
             }
            },
            "type": "scattergeo"
           }
          ],
          "scattergl": [
           {
            "marker": {
             "colorbar": {
              "outlinewidth": 0,
              "ticks": ""
             }
            },
            "type": "scattergl"
           }
          ],
          "scattermap": [
           {
            "marker": {
             "colorbar": {
              "outlinewidth": 0,
              "ticks": ""
             }
            },
            "type": "scattermap"
           }
          ],
          "scattermapbox": [
           {
            "marker": {
             "colorbar": {
              "outlinewidth": 0,
              "ticks": ""
             }
            },
            "type": "scattermapbox"
           }
          ],
          "scatterpolar": [
           {
            "marker": {
             "colorbar": {
              "outlinewidth": 0,
              "ticks": ""
             }
            },
            "type": "scatterpolar"
           }
          ],
          "scatterpolargl": [
           {
            "marker": {
             "colorbar": {
              "outlinewidth": 0,
              "ticks": ""
             }
            },
            "type": "scatterpolargl"
           }
          ],
          "scatterternary": [
           {
            "marker": {
             "colorbar": {
              "outlinewidth": 0,
              "ticks": ""
             }
            },
            "type": "scatterternary"
           }
          ],
          "surface": [
           {
            "colorbar": {
             "outlinewidth": 0,
             "ticks": ""
            },
            "colorscale": [
             [
              0,
              "#0d0887"
             ],
             [
              0.1111111111111111,
              "#46039f"
             ],
             [
              0.2222222222222222,
              "#7201a8"
             ],
             [
              0.3333333333333333,
              "#9c179e"
             ],
             [
              0.4444444444444444,
              "#bd3786"
             ],
             [
              0.5555555555555556,
              "#d8576b"
             ],
             [
              0.6666666666666666,
              "#ed7953"
             ],
             [
              0.7777777777777778,
              "#fb9f3a"
             ],
             [
              0.8888888888888888,
              "#fdca26"
             ],
             [
              1,
              "#f0f921"
             ]
            ],
            "type": "surface"
           }
          ],
          "table": [
           {
            "cells": {
             "fill": {
              "color": "#EBF0F8"
             },
             "line": {
              "color": "white"
             }
            },
            "header": {
             "fill": {
              "color": "#C8D4E3"
             },
             "line": {
              "color": "white"
             }
            },
            "type": "table"
           }
          ]
         },
         "layout": {
          "annotationdefaults": {
           "arrowcolor": "#2a3f5f",
           "arrowhead": 0,
           "arrowwidth": 1
          },
          "autotypenumbers": "strict",
          "coloraxis": {
           "colorbar": {
            "outlinewidth": 0,
            "ticks": ""
           }
          },
          "colorscale": {
           "diverging": [
            [
             0,
             "#8e0152"
            ],
            [
             0.1,
             "#c51b7d"
            ],
            [
             0.2,
             "#de77ae"
            ],
            [
             0.3,
             "#f1b6da"
            ],
            [
             0.4,
             "#fde0ef"
            ],
            [
             0.5,
             "#f7f7f7"
            ],
            [
             0.6,
             "#e6f5d0"
            ],
            [
             0.7,
             "#b8e186"
            ],
            [
             0.8,
             "#7fbc41"
            ],
            [
             0.9,
             "#4d9221"
            ],
            [
             1,
             "#276419"
            ]
           ],
           "sequential": [
            [
             0,
             "#0d0887"
            ],
            [
             0.1111111111111111,
             "#46039f"
            ],
            [
             0.2222222222222222,
             "#7201a8"
            ],
            [
             0.3333333333333333,
             "#9c179e"
            ],
            [
             0.4444444444444444,
             "#bd3786"
            ],
            [
             0.5555555555555556,
             "#d8576b"
            ],
            [
             0.6666666666666666,
             "#ed7953"
            ],
            [
             0.7777777777777778,
             "#fb9f3a"
            ],
            [
             0.8888888888888888,
             "#fdca26"
            ],
            [
             1,
             "#f0f921"
            ]
           ],
           "sequentialminus": [
            [
             0,
             "#0d0887"
            ],
            [
             0.1111111111111111,
             "#46039f"
            ],
            [
             0.2222222222222222,
             "#7201a8"
            ],
            [
             0.3333333333333333,
             "#9c179e"
            ],
            [
             0.4444444444444444,
             "#bd3786"
            ],
            [
             0.5555555555555556,
             "#d8576b"
            ],
            [
             0.6666666666666666,
             "#ed7953"
            ],
            [
             0.7777777777777778,
             "#fb9f3a"
            ],
            [
             0.8888888888888888,
             "#fdca26"
            ],
            [
             1,
             "#f0f921"
            ]
           ]
          },
          "colorway": [
           "#636efa",
           "#EF553B",
           "#00cc96",
           "#ab63fa",
           "#FFA15A",
           "#19d3f3",
           "#FF6692",
           "#B6E880",
           "#FF97FF",
           "#FECB52"
          ],
          "font": {
           "color": "#2a3f5f"
          },
          "geo": {
           "bgcolor": "white",
           "lakecolor": "white",
           "landcolor": "#E5ECF6",
           "showlakes": true,
           "showland": true,
           "subunitcolor": "white"
          },
          "hoverlabel": {
           "align": "left"
          },
          "hovermode": "closest",
          "mapbox": {
           "style": "light"
          },
          "paper_bgcolor": "white",
          "plot_bgcolor": "#E5ECF6",
          "polar": {
           "angularaxis": {
            "gridcolor": "white",
            "linecolor": "white",
            "ticks": ""
           },
           "bgcolor": "#E5ECF6",
           "radialaxis": {
            "gridcolor": "white",
            "linecolor": "white",
            "ticks": ""
           }
          },
          "scene": {
           "xaxis": {
            "backgroundcolor": "#E5ECF6",
            "gridcolor": "white",
            "gridwidth": 2,
            "linecolor": "white",
            "showbackground": true,
            "ticks": "",
            "zerolinecolor": "white"
           },
           "yaxis": {
            "backgroundcolor": "#E5ECF6",
            "gridcolor": "white",
            "gridwidth": 2,
            "linecolor": "white",
            "showbackground": true,
            "ticks": "",
            "zerolinecolor": "white"
           },
           "zaxis": {
            "backgroundcolor": "#E5ECF6",
            "gridcolor": "white",
            "gridwidth": 2,
            "linecolor": "white",
            "showbackground": true,
            "ticks": "",
            "zerolinecolor": "white"
           }
          },
          "shapedefaults": {
           "line": {
            "color": "#2a3f5f"
           }
          },
          "ternary": {
           "aaxis": {
            "gridcolor": "white",
            "linecolor": "white",
            "ticks": ""
           },
           "baxis": {
            "gridcolor": "white",
            "linecolor": "white",
            "ticks": ""
           },
           "bgcolor": "#E5ECF6",
           "caxis": {
            "gridcolor": "white",
            "linecolor": "white",
            "ticks": ""
           }
          },
          "title": {
           "x": 0.05
          },
          "xaxis": {
           "automargin": true,
           "gridcolor": "white",
           "linecolor": "white",
           "ticks": "",
           "title": {
            "standoff": 15
           },
           "zerolinecolor": "white",
           "zerolinewidth": 2
          },
          "yaxis": {
           "automargin": true,
           "gridcolor": "white",
           "linecolor": "white",
           "ticks": "",
           "title": {
            "standoff": 15
           },
           "zerolinecolor": "white",
           "zerolinewidth": 2
          }
         }
        },
        "title": {
         "font": {
          "size": 20
         },
         "text": "API Evolution Timeline - mylib",
         "x": 0.5
        },
        "xaxis": {
         "title": {
          "text": "Release Date"
         }
        },
        "yaxis": {
         "title": {
          "text": "API Elements"
         }
        }
       }
      },
      "text/html": [
       "<div>            <script src=\"https://cdnjs.cloudflare.com/ajax/libs/mathjax/2.7.5/MathJax.js?config=TeX-AMS-MML_SVG\"></script><script type=\"text/javascript\">if (window.MathJax && window.MathJax.Hub && window.MathJax.Hub.Config) {window.MathJax.Hub.Config({SVG: {font: \"STIX-Web\"}});}</script>                <script type=\"text/javascript\">window.PlotlyConfig = {MathJaxConfig: 'local'};</script>\n",
       "        <script charset=\"utf-8\" src=\"https://cdn.plot.ly/plotly-3.0.1.min.js\" integrity=\"sha256-oy6Be7Eh6eiQFs5M7oXuPxxm9qbJXEtTpfSI93dW16Q=\" crossorigin=\"anonymous\"></script>                <div id=\"fffeae3c-aba5-4fa6-afa9-c2fbb6c797b9\" class=\"plotly-graph-div\" style=\"height:725px; width:100%;\"></div>            <script type=\"text/javascript\">                window.PLOTLYENV=window.PLOTLYENV || {};                                if (document.getElementById(\"fffeae3c-aba5-4fa6-afa9-c2fbb6c797b9\")) {                    Plotly.newPlot(                        \"fffeae3c-aba5-4fa6-afa9-c2fbb6c797b9\",                        [{\"customdata\":[\"function\",\"method\",\"class\",\"function\",\"class\",\"function\",\"class\",\"class\",\"function\",\"function\",\"class\",\"function\",\"class\",\"function\",\"class\",\"function\",\"class\",\"function\"],\"hovertemplate\":\"\\u003cb\\u003e%{y}\\u003c\\u002fb\\u003e\\u003cbr\\u003eDate: %{x}\\u003cbr\\u003eType: added\\u003cbr\\u003eAPI Type: %{customdata}\\u003cbr\\u003eDescription: %{text}\\u003cbr\\u003e\\u003cextra\\u003e\\u003c\\u002fextra\\u003e\",\"marker\":{\"color\":\"#2E8B57\",\"line\":{\"color\":\"white\",\"width\":2},\"size\":12,\"symbol\":\"circle\"},\"mode\":\"markers\",\"name\":\"Added\",\"text\":[\"Added automatic reconnection function\",\"Added status checking method to Client\",\"Added configuration management class\",\"Added async support\",\"Added async client class\",\"Added config validation\",\"New configuration management\",\"New connection abstraction\",\"New authentication system\",\"Added bulk connection support\",\"Added connection pooling\",\"Added monitoring capabilities\",\"Added metrics collection\",\"Added metrics export\",\"New session management system\",\"Session factory function\",\"Plugin system for extensibility\",\"Plugin loading mechanism\"],\"x\":[\"2020-03-31T00:00:00.000000000\",\"2020-03-31T00:00:00.000000000\",\"2020-03-31T00:00:00.000000000\",\"2020-06-29T00:00:00.000000000\",\"2020-06-29T00:00:00.000000000\",\"2020-06-29T00:00:00.000000000\",\"2020-12-31T00:00:00.000000000\",\"2020-12-31T00:00:00.000000000\",\"2020-12-31T00:00:00.000000000\",\"2021-03-26T00:00:00.000000000\",\"2021-03-26T00:00:00.000000000\",\"2021-06-24T00:00:00.000000000\",\"2021-06-24T00:00:00.000000000\",\"2021-06-24T00:00:00.000000000\",\"2021-12-31T00:00:00.000000000\",\"2021-12-31T00:00:00.000000000\",\"2021-12-31T00:00:00.000000000\",\"2021-12-31T00:00:00.000000000\"],\"y\":[\"mylib.core.reconnect\",\"mylib.client.Client.get_status\",\"mylib.config.Config\",\"mylib.async_core.async_connect\",\"mylib.async_client.AsyncClient\",\"mylib.config.validate_config\",\"mylib.config.Settings\",\"mylib.connection.Connection\",\"mylib.auth.authenticate\",\"mylib.core.bulk_connect\",\"mylib.connection.ConnectionPool\",\"mylib.monitoring.monitor\",\"mylib.monitoring.Metrics\",\"mylib.monitoring.export_metrics\",\"mylib.session.Session\",\"mylib.session.create_session\",\"mylib.plugins.Plugin\",\"mylib.plugins.load_plugin\"],\"type\":\"scatter\"},{\"customdata\":[\"function\",\"class\",\"class\"],\"hovertemplate\":\"\\u003cb\\u003e%{y}\\u003c\\u002fb\\u003e\\u003cbr\\u003eDate: %{x}\\u003cbr\\u003eType: modified\\u003cbr\\u003eAPI Type: %{customdata}\\u003cbr\\u003eDescription: %{text}\\u003cbr\\u003e\\u003cextra\\u003e\\u003c\\u002fextra\\u003e\",\"marker\":{\"color\":\"#FF8C00\",\"line\":{\"color\":\"white\",\"width\":2},\"size\":12,\"symbol\":\"diamond\"},\"mode\":\"markers\",\"name\":\"Modified\",\"text\":[\"Changed signature - now requires auth\",\"Restructured Client class\",\"Moved to mylib.logging module\"],\"x\":[\"2020-12-31T00:00:00.000000000\",\"2020-12-31T00:00:00.000000000\",\"2020-12-31T00:00:00.000000000\"],\"y\":[\"mylib.core.connect\",\"mylib.client.Client\",\"mylib.utils.Logger\"],\"type\":\"scatter\"},{\"customdata\":[\"class\",\"function\",\"function\",\"class\",\"function\",\"function\",\"function\",\"function\"],\"hovertemplate\":\"\\u003cb\\u003e%{y}\\u003c\\u002fb\\u003e\\u003cbr\\u003eDate: %{x}\\u003cbr\\u003eType: removed\\u003cbr\\u003eAPI Type: %{customdata}\\u003cbr\\u003eDescription: %{text}\\u003cbr\\u003e\\u003cextra\\u003e\\u003c\\u002fextra\\u003e\",\"marker\":{\"color\":\"#DC143C\",\"line\":{\"color\":\"white\",\"width\":2},\"size\":12,\"symbol\":\"diamond\"},\"mode\":\"markers\",\"name\":\"Removed\",\"text\":[\"Replaced with Settings class\",\"Validation now built into Settings\",\"Merged into main connect function\",\"Async support now built into Client\",\"Auto-reconnection now default\",\"Use ConnectionPool instead\",\"Integrated into Metrics class\",\"Now a method of Metrics\"],\"x\":[\"2020-12-31T00:00:00.000000000\",\"2020-12-31T00:00:00.000000000\",\"2021-12-31T00:00:00.000000000\",\"2021-12-31T00:00:00.000000000\",\"2021-12-31T00:00:00.000000000\",\"2021-12-31T00:00:00.000000000\",\"2021-12-31T00:00:00.000000000\",\"2021-12-31T00:00:00.000000000\"],\"y\":[\"mylib.config.Config\",\"mylib.config.validate_config\",\"mylib.async_core.async_connect\",\"mylib.async_client.AsyncClient\",\"mylib.core.reconnect\",\"mylib.core.bulk_connect\",\"mylib.monitoring.monitor\",\"mylib.monitoring.export_metrics\"],\"type\":\"scatter\"}],                        {\"template\":{\"data\":{\"histogram2dcontour\":[{\"type\":\"histogram2dcontour\",\"colorbar\":{\"outlinewidth\":0,\"ticks\":\"\"},\"colorscale\":[[0.0,\"#0d0887\"],[0.1111111111111111,\"#46039f\"],[0.2222222222222222,\"#7201a8\"],[0.3333333333333333,\"#9c179e\"],[0.4444444444444444,\"#bd3786\"],[0.5555555555555556,\"#d8576b\"],[0.6666666666666666,\"#ed7953\"],[0.7777777777777778,\"#fb9f3a\"],[0.8888888888888888,\"#fdca26\"],[1.0,\"#f0f921\"]]}],\"choropleth\":[{\"type\":\"choropleth\",\"colorbar\":{\"outlinewidth\":0,\"ticks\":\"\"}}],\"histogram2d\":[{\"type\":\"histogram2d\",\"colorbar\":{\"outlinewidth\":0,\"ticks\":\"\"},\"colorscale\":[[0.0,\"#0d0887\"],[0.1111111111111111,\"#46039f\"],[0.2222222222222222,\"#7201a8\"],[0.3333333333333333,\"#9c179e\"],[0.4444444444444444,\"#bd3786\"],[0.5555555555555556,\"#d8576b\"],[0.6666666666666666,\"#ed7953\"],[0.7777777777777778,\"#fb9f3a\"],[0.8888888888888888,\"#fdca26\"],[1.0,\"#f0f921\"]]}],\"heatmap\":[{\"type\":\"heatmap\",\"colorbar\":{\"outlinewidth\":0,\"ticks\":\"\"},\"colorscale\":[[0.0,\"#0d0887\"],[0.1111111111111111,\"#46039f\"],[0.2222222222222222,\"#7201a8\"],[0.3333333333333333,\"#9c179e\"],[0.4444444444444444,\"#bd3786\"],[0.5555555555555556,\"#d8576b\"],[0.6666666666666666,\"#ed7953\"],[0.7777777777777778,\"#fb9f3a\"],[0.8888888888888888,\"#fdca26\"],[1.0,\"#f0f921\"]]}],\"contourcarpet\":[{\"type\":\"contourcarpet\",\"colorbar\":{\"outlinewidth\":0,\"ticks\":\"\"}}],\"contour\":[{\"type\":\"contour\",\"colorbar\":{\"outlinewidth\":0,\"ticks\":\"\"},\"colorscale\":[[0.0,\"#0d0887\"],[0.1111111111111111,\"#46039f\"],[0.2222222222222222,\"#7201a8\"],[0.3333333333333333,\"#9c179e\"],[0.4444444444444444,\"#bd3786\"],[0.5555555555555556,\"#d8576b\"],[0.6666666666666666,\"#ed7953\"],[0.7777777777777778,\"#fb9f3a\"],[0.8888888888888888,\"#fdca26\"],[1.0,\"#f0f921\"]]}],\"surface\":[{\"type\":\"surface\",\"colorbar\":{\"outlinewidth\":0,\"ticks\":\"\"},\"colorscale\":[[0.0,\"#0d0887\"],[0.1111111111111111,\"#46039f\"],[0.2222222222222222,\"#7201a8\"],[0.3333333333333333,\"#9c179e\"],[0.4444444444444444,\"#bd3786\"],[0.5555555555555556,\"#d8576b\"],[0.6666666666666666,\"#ed7953\"],[0.7777777777777778,\"#fb9f3a\"],[0.8888888888888888,\"#fdca26\"],[1.0,\"#f0f921\"]]}],\"mesh3d\":[{\"type\":\"mesh3d\",\"colorbar\":{\"outlinewidth\":0,\"ticks\":\"\"}}],\"scatter\":[{\"fillpattern\":{\"fillmode\":\"overlay\",\"size\":10,\"solidity\":0.2},\"type\":\"scatter\"}],\"parcoords\":[{\"type\":\"parcoords\",\"line\":{\"colorbar\":{\"outlinewidth\":0,\"ticks\":\"\"}}}],\"scatterpolargl\":[{\"type\":\"scatterpolargl\",\"marker\":{\"colorbar\":{\"outlinewidth\":0,\"ticks\":\"\"}}}],\"bar\":[{\"error_x\":{\"color\":\"#2a3f5f\"},\"error_y\":{\"color\":\"#2a3f5f\"},\"marker\":{\"line\":{\"color\":\"#E5ECF6\",\"width\":0.5},\"pattern\":{\"fillmode\":\"overlay\",\"size\":10,\"solidity\":0.2}},\"type\":\"bar\"}],\"scattergeo\":[{\"type\":\"scattergeo\",\"marker\":{\"colorbar\":{\"outlinewidth\":0,\"ticks\":\"\"}}}],\"scatterpolar\":[{\"type\":\"scatterpolar\",\"marker\":{\"colorbar\":{\"outlinewidth\":0,\"ticks\":\"\"}}}],\"histogram\":[{\"marker\":{\"pattern\":{\"fillmode\":\"overlay\",\"size\":10,\"solidity\":0.2}},\"type\":\"histogram\"}],\"scattergl\":[{\"type\":\"scattergl\",\"marker\":{\"colorbar\":{\"outlinewidth\":0,\"ticks\":\"\"}}}],\"scatter3d\":[{\"type\":\"scatter3d\",\"line\":{\"colorbar\":{\"outlinewidth\":0,\"ticks\":\"\"}},\"marker\":{\"colorbar\":{\"outlinewidth\":0,\"ticks\":\"\"}}}],\"scattermap\":[{\"type\":\"scattermap\",\"marker\":{\"colorbar\":{\"outlinewidth\":0,\"ticks\":\"\"}}}],\"scattermapbox\":[{\"type\":\"scattermapbox\",\"marker\":{\"colorbar\":{\"outlinewidth\":0,\"ticks\":\"\"}}}],\"scatterternary\":[{\"type\":\"scatterternary\",\"marker\":{\"colorbar\":{\"outlinewidth\":0,\"ticks\":\"\"}}}],\"scattercarpet\":[{\"type\":\"scattercarpet\",\"marker\":{\"colorbar\":{\"outlinewidth\":0,\"ticks\":\"\"}}}],\"carpet\":[{\"aaxis\":{\"endlinecolor\":\"#2a3f5f\",\"gridcolor\":\"white\",\"linecolor\":\"white\",\"minorgridcolor\":\"white\",\"startlinecolor\":\"#2a3f5f\"},\"baxis\":{\"endlinecolor\":\"#2a3f5f\",\"gridcolor\":\"white\",\"linecolor\":\"white\",\"minorgridcolor\":\"white\",\"startlinecolor\":\"#2a3f5f\"},\"type\":\"carpet\"}],\"table\":[{\"cells\":{\"fill\":{\"color\":\"#EBF0F8\"},\"line\":{\"color\":\"white\"}},\"header\":{\"fill\":{\"color\":\"#C8D4E3\"},\"line\":{\"color\":\"white\"}},\"type\":\"table\"}],\"barpolar\":[{\"marker\":{\"line\":{\"color\":\"#E5ECF6\",\"width\":0.5},\"pattern\":{\"fillmode\":\"overlay\",\"size\":10,\"solidity\":0.2}},\"type\":\"barpolar\"}],\"pie\":[{\"automargin\":true,\"type\":\"pie\"}]},\"layout\":{\"autotypenumbers\":\"strict\",\"colorway\":[\"#636efa\",\"#EF553B\",\"#00cc96\",\"#ab63fa\",\"#FFA15A\",\"#19d3f3\",\"#FF6692\",\"#B6E880\",\"#FF97FF\",\"#FECB52\"],\"font\":{\"color\":\"#2a3f5f\"},\"hovermode\":\"closest\",\"hoverlabel\":{\"align\":\"left\"},\"paper_bgcolor\":\"white\",\"plot_bgcolor\":\"#E5ECF6\",\"polar\":{\"bgcolor\":\"#E5ECF6\",\"angularaxis\":{\"gridcolor\":\"white\",\"linecolor\":\"white\",\"ticks\":\"\"},\"radialaxis\":{\"gridcolor\":\"white\",\"linecolor\":\"white\",\"ticks\":\"\"}},\"ternary\":{\"bgcolor\":\"#E5ECF6\",\"aaxis\":{\"gridcolor\":\"white\",\"linecolor\":\"white\",\"ticks\":\"\"},\"baxis\":{\"gridcolor\":\"white\",\"linecolor\":\"white\",\"ticks\":\"\"},\"caxis\":{\"gridcolor\":\"white\",\"linecolor\":\"white\",\"ticks\":\"\"}},\"coloraxis\":{\"colorbar\":{\"outlinewidth\":0,\"ticks\":\"\"}},\"colorscale\":{\"sequential\":[[0.0,\"#0d0887\"],[0.1111111111111111,\"#46039f\"],[0.2222222222222222,\"#7201a8\"],[0.3333333333333333,\"#9c179e\"],[0.4444444444444444,\"#bd3786\"],[0.5555555555555556,\"#d8576b\"],[0.6666666666666666,\"#ed7953\"],[0.7777777777777778,\"#fb9f3a\"],[0.8888888888888888,\"#fdca26\"],[1.0,\"#f0f921\"]],\"sequentialminus\":[[0.0,\"#0d0887\"],[0.1111111111111111,\"#46039f\"],[0.2222222222222222,\"#7201a8\"],[0.3333333333333333,\"#9c179e\"],[0.4444444444444444,\"#bd3786\"],[0.5555555555555556,\"#d8576b\"],[0.6666666666666666,\"#ed7953\"],[0.7777777777777778,\"#fb9f3a\"],[0.8888888888888888,\"#fdca26\"],[1.0,\"#f0f921\"]],\"diverging\":[[0,\"#8e0152\"],[0.1,\"#c51b7d\"],[0.2,\"#de77ae\"],[0.3,\"#f1b6da\"],[0.4,\"#fde0ef\"],[0.5,\"#f7f7f7\"],[0.6,\"#e6f5d0\"],[0.7,\"#b8e186\"],[0.8,\"#7fbc41\"],[0.9,\"#4d9221\"],[1,\"#276419\"]]},\"xaxis\":{\"gridcolor\":\"white\",\"linecolor\":\"white\",\"ticks\":\"\",\"title\":{\"standoff\":15},\"zerolinecolor\":\"white\",\"automargin\":true,\"zerolinewidth\":2},\"yaxis\":{\"gridcolor\":\"white\",\"linecolor\":\"white\",\"ticks\":\"\",\"title\":{\"standoff\":15},\"zerolinecolor\":\"white\",\"automargin\":true,\"zerolinewidth\":2},\"scene\":{\"xaxis\":{\"backgroundcolor\":\"#E5ECF6\",\"gridcolor\":\"white\",\"linecolor\":\"white\",\"showbackground\":true,\"ticks\":\"\",\"zerolinecolor\":\"white\",\"gridwidth\":2},\"yaxis\":{\"backgroundcolor\":\"#E5ECF6\",\"gridcolor\":\"white\",\"linecolor\":\"white\",\"showbackground\":true,\"ticks\":\"\",\"zerolinecolor\":\"white\",\"gridwidth\":2},\"zaxis\":{\"backgroundcolor\":\"#E5ECF6\",\"gridcolor\":\"white\",\"linecolor\":\"white\",\"showbackground\":true,\"ticks\":\"\",\"zerolinecolor\":\"white\",\"gridwidth\":2}},\"shapedefaults\":{\"line\":{\"color\":\"#2a3f5f\"}},\"annotationdefaults\":{\"arrowcolor\":\"#2a3f5f\",\"arrowhead\":0,\"arrowwidth\":1},\"geo\":{\"bgcolor\":\"white\",\"landcolor\":\"#E5ECF6\",\"subunitcolor\":\"white\",\"showland\":true,\"showlakes\":true,\"lakecolor\":\"white\"},\"title\":{\"x\":0.05},\"mapbox\":{\"style\":\"light\"}}},\"title\":{\"font\":{\"size\":20},\"text\":\"API Evolution Timeline - mylib\",\"x\":0.5},\"legend\":{\"orientation\":\"h\",\"yanchor\":\"bottom\",\"y\":1.02,\"xanchor\":\"right\",\"x\":1},\"font\":{\"size\":12},\"xaxis\":{\"title\":{\"text\":\"Release Date\"}},\"yaxis\":{\"title\":{\"text\":\"API Elements\"}},\"height\":725,\"hovermode\":\"closest\",\"shapes\":[{\"line\":{\"color\":\"gray\",\"dash\":\"dash\",\"width\":1},\"type\":\"line\",\"x0\":\"2020-01-01T00:00:00\",\"x1\":\"2020-01-01T00:00:00\",\"y0\":0,\"y1\":1,\"yref\":\"paper\"},{\"line\":{\"color\":\"gray\",\"dash\":\"dash\",\"width\":1},\"type\":\"line\",\"x0\":\"2020-03-31T00:00:00\",\"x1\":\"2020-03-31T00:00:00\",\"y0\":0,\"y1\":1,\"yref\":\"paper\"},{\"line\":{\"color\":\"gray\",\"dash\":\"dash\",\"width\":1},\"type\":\"line\",\"x0\":\"2020-06-29T00:00:00\",\"x1\":\"2020-06-29T00:00:00\",\"y0\":0,\"y1\":1,\"yref\":\"paper\"},{\"line\":{\"color\":\"gray\",\"dash\":\"dash\",\"width\":1},\"type\":\"line\",\"x0\":\"2020-12-31T00:00:00\",\"x1\":\"2020-12-31T00:00:00\",\"y0\":0,\"y1\":1,\"yref\":\"paper\"},{\"line\":{\"color\":\"gray\",\"dash\":\"dash\",\"width\":1},\"type\":\"line\",\"x0\":\"2021-03-26T00:00:00\",\"x1\":\"2021-03-26T00:00:00\",\"y0\":0,\"y1\":1,\"yref\":\"paper\"},{\"line\":{\"color\":\"gray\",\"dash\":\"dash\",\"width\":1},\"type\":\"line\",\"x0\":\"2021-06-24T00:00:00\",\"x1\":\"2021-06-24T00:00:00\",\"y0\":0,\"y1\":1,\"yref\":\"paper\"},{\"line\":{\"color\":\"gray\",\"dash\":\"dash\",\"width\":1},\"type\":\"line\",\"x0\":\"2021-12-31T00:00:00\",\"x1\":\"2021-12-31T00:00:00\",\"y0\":0,\"y1\":1,\"yref\":\"paper\"}],\"annotations\":[{\"font\":{\"color\":\"gray\",\"size\":10},\"showarrow\":false,\"text\":\"v1.0.0\",\"textangle\":-45,\"x\":\"2020-01-01T00:00:00\",\"y\":1.02,\"yref\":\"paper\"},{\"font\":{\"color\":\"gray\",\"size\":10},\"showarrow\":false,\"text\":\"v1.1.0\",\"textangle\":-45,\"x\":\"2020-03-31T00:00:00\",\"y\":1.02,\"yref\":\"paper\"},{\"font\":{\"color\":\"gray\",\"size\":10},\"showarrow\":false,\"text\":\"v1.2.0\",\"textangle\":-45,\"x\":\"2020-06-29T00:00:00\",\"y\":1.02,\"yref\":\"paper\"},{\"font\":{\"color\":\"gray\",\"size\":10},\"showarrow\":false,\"text\":\"v2.0.0\",\"textangle\":-45,\"x\":\"2020-12-31T00:00:00\",\"y\":1.02,\"yref\":\"paper\"},{\"font\":{\"color\":\"gray\",\"size\":10},\"showarrow\":false,\"text\":\"v2.1.0\",\"textangle\":-45,\"x\":\"2021-03-26T00:00:00\",\"y\":1.02,\"yref\":\"paper\"},{\"font\":{\"color\":\"gray\",\"size\":10},\"showarrow\":false,\"text\":\"v2.2.0\",\"textangle\":-45,\"x\":\"2021-06-24T00:00:00\",\"y\":1.02,\"yref\":\"paper\"},{\"font\":{\"color\":\"gray\",\"size\":10},\"showarrow\":false,\"text\":\"v3.0.0\",\"textangle\":-45,\"x\":\"2021-12-31T00:00:00\",\"y\":1.02,\"yref\":\"paper\"}]},                        {\"responsive\": true}                    ).then(function(){\n",
       "                            \n",
       "var gd = document.getElementById('fffeae3c-aba5-4fa6-afa9-c2fbb6c797b9');\n",
       "var x = new MutationObserver(function (mutations, observer) {{\n",
       "        var display = window.getComputedStyle(gd).display;\n",
       "        if (!display || display === 'none') {{\n",
       "            console.log([gd, 'removed!']);\n",
       "            Plotly.purge(gd);\n",
       "            observer.disconnect();\n",
       "        }}\n",
       "}});\n",
       "\n",
       "// Listen for the removal of the full notebook cells\n",
       "var notebookContainer = gd.closest('#notebook-container');\n",
       "if (notebookContainer) {{\n",
       "    x.observe(notebookContainer, {childList: true});\n",
       "}}\n",
       "\n",
       "// Listen for the clearing of the current output cell\n",
       "var outputEl = gd.closest('.output');\n",
       "if (outputEl) {{\n",
       "    x.observe(outputEl, {childList: true});\n",
       "}}\n",
       "\n",
       "                        })                };            </script>        </div>"
      ]
     },
     "metadata": {},
     "output_type": "display_data"
    },
    {
     "name": "stdout",
     "output_type": "stream",
     "text": [
      "📊 Interactive timeline created! Click and drag to zoom, hover for details.\n"
     ]
    }
   ],
   "source": [
    "# Create API evolution timeline\n",
    "def create_api_timeline(result):\n",
    "    \"\"\"Create an interactive timeline showing API lifecycle.\"\"\"\n",
    "    \n",
    "    # Prepare data for timeline\n",
    "    timeline_data = []\n",
    "    colors = {\n",
    "        'added': '#2E8B57',      # Sea Green\n",
    "        'modified': '#FF8C00',   # Dark Orange  \n",
    "        'removed': '#DC143C',    # Crimson\n",
    "        'deprecated': '#B8860B'  # Dark Goldenrod\n",
    "    }\n",
    "    \n",
    "    # Convert version dates for plotting\n",
    "    version_dates = {}\n",
    "    for version in result.versions:\n",
    "        try:\n",
    "            if hasattr(version, 'release_date') and version.release_date:\n",
    "                if isinstance(version.release_date, str):\n",
    "                    version_dates[version.version] = pd.to_datetime(version.release_date)\n",
    "                else:\n",
    "                    version_dates[version.version] = pd.to_datetime(version.release_date)\n",
    "            else:\n",
    "                # Fallback if date parsing fails\n",
    "                version_dates[version.version] = pd.to_datetime('2020-01-01')\n",
    "        except:\n",
    "            # Fallback if date parsing fails\n",
    "            version_dates[version.version] = pd.to_datetime('2020-01-01')\n",
    "    \n",
    "    # Process each change\n",
    "    for change in result.changes:\n",
    "        if change.to_version in version_dates:\n",
    "            timeline_data.append({\n",
    "                'version': change.to_version,\n",
    "                'date': version_dates[change.to_version],\n",
    "                'api_name': change.element.name,\n",
    "                'full_api_name': change.element.full_name,\n",
    "                'change_type': change.change_type.value,\n",
    "                'description': change.description or f\"{change.change_type.value.title()} {change.element.name}\",\n",
    "                'is_breaking': not change.is_backwards_compatible,\n",
    "                'color': colors.get(change.change_type.value, '#808080'),\n",
    "                'api_type': change.element.type.value\n",
    "            })\n",
    "    \n",
    "    # Create DataFrame\n",
    "    df = pd.DataFrame(timeline_data)\n",
    "    \n",
    "    if df.empty:\n",
    "        print(\"No timeline data available\")\n",
    "        return None\n",
    "    \n",
    "    # Create the timeline plot\n",
    "    fig = go.Figure()\n",
    "    \n",
    "    # Add traces for each change type\n",
    "    for change_type in df['change_type'].unique():\n",
    "        type_data = df[df['change_type'] == change_type]\n",
    "        \n",
    "        # Use diamonds for breaking changes, circles for non-breaking\n",
    "        symbol = 'diamond' if type_data['is_breaking'].any() else 'circle'\n",
    "        \n",
    "        fig.add_trace(go.Scatter(\n",
    "            x=type_data['date'],\n",
    "            y=type_data['full_api_name'],\n",
    "            mode='markers',\n",
    "            name=change_type.title(),\n",
    "            marker=dict(\n",
    "                size=12,\n",
    "                color=colors.get(change_type, '#808080'),\n",
    "                symbol=symbol,\n",
    "                line=dict(width=2, color='white')\n",
    "            ),\n",
    "            text=type_data['description'],\n",
    "            customdata=type_data['api_type'],\n",
    "            hovertemplate=\n",
    "                \"<b>%{y}</b><br>\" +\n",
    "                \"Date: %{x}<br>\" +\n",
    "                \"Type: \" + change_type + \"<br>\" +\n",
    "                \"API Type: %{customdata}<br>\" +\n",
    "                \"Description: %{text}<br>\" +\n",
    "                \"<extra></extra>\"\n",
    "        ))\n",
    "    \n",
    "    # Customize layout\n",
    "    fig.update_layout(\n",
    "        title={\n",
    "            'text': f'API Evolution Timeline - {result.package_name}',\n",
    "            'x': 0.5,\n",
    "            'font': {'size': 20}\n",
    "        },\n",
    "        xaxis_title='Release Date',\n",
    "        yaxis_title='API Elements',\n",
    "        height=max(600, len(df) * 25),  # Adjust height based on data\n",
    "        hovermode='closest',\n",
    "        legend=dict(\n",
    "            orientation=\"h\",\n",
    "            yanchor=\"bottom\",\n",
    "            y=1.02,\n",
    "            xanchor=\"right\",\n",
    "            x=1\n",
    "        ),\n",
    "        font=dict(size=12)\n",
    "    )\n",
    "    \n",
    "    # Add version lines using shapes instead of add_vline to avoid timestamp issues\n",
    "    for version, date in version_dates.items():\n",
    "        # Convert timestamp to string for the shape\n",
    "        date_str = date.strftime('%Y-%m-%d') if hasattr(date, 'strftime') else str(date)\n",
    "        \n",
    "        fig.add_shape(\n",
    "            type=\"line\",\n",
    "            x0=date, x1=date,\n",
    "            y0=0, y1=1,\n",
    "            yref=\"paper\",\n",
    "            line=dict(color=\"gray\", width=1, dash=\"dash\")\n",
    "        )\n",
    "        \n",
    "        # Add annotation for version label\n",
    "        fig.add_annotation(\n",
    "            x=date,\n",
    "            y=1.02,\n",
    "            yref=\"paper\",\n",
    "            text=f\"v{version}\",\n",
    "            showarrow=False,\n",
    "            textangle=-45,\n",
    "            font=dict(size=10, color=\"gray\")\n",
    "        )\n",
    "    \n",
    "    return fig\n",
    "\n",
    "# Create and display the timeline\n",
    "timeline_fig = create_api_timeline(demo_result)\n",
    "if timeline_fig:\n",
    "    timeline_fig.show()\n",
    "    print(\"📊 Interactive timeline created! Click and drag to zoom, hover for details.\")\n",
    "else:\n",
    "    print(\"❌ Could not create timeline visualization\")"
   ]
  },
  {
   "cell_type": "markdown",
   "id": "3b956007",
   "metadata": {},
   "source": [
    "## 3. API Type Distribution\n",
    "\n",
    "Understanding the composition of your API in terms of functions, classes, methods, etc. helps identify architectural patterns and evolution trends."
   ]
  },
  {
   "cell_type": "code",
   "execution_count": 4,
   "id": "5a4afffa",
   "metadata": {},
   "outputs": [
    {
     "data": {
      "application/vnd.plotly.v1+json": {
       "config": {
        "plotlyServerURL": "https://plot.ly"
       },
       "data": [
        {
         "legendgroup": "function",
         "marker": {
          "color": "#1f77b4"
         },
         "name": "Function",
         "showlegend": true,
         "type": "bar",
         "x": [
          "1.0.0",
          "1.1.0",
          "1.2.0",
          "2.0.0",
          "2.1.0",
          "2.2.0",
          "3.0.0"
         ],
         "xaxis": "x",
         "y": {
          "bdata": "AgMFBQYIBQ==",
          "dtype": "i1"
         },
         "yaxis": "y"
        },
        {
         "legendgroup": "class",
         "marker": {
          "color": "#ff7f0e"
         },
         "name": "Class",
         "showlegend": true,
         "type": "bar",
         "x": [
          "1.0.0",
          "1.1.0",
          "1.2.0",
          "2.0.0",
          "2.1.0",
          "2.2.0",
          "3.0.0"
         ],
         "xaxis": "x",
         "y": {
          "bdata": "AgMEBQYHCA==",
          "dtype": "i1"
         },
         "yaxis": "y"
        },
        {
         "legendgroup": "constant",
         "marker": {
          "color": "#9467bd"
         },
         "name": "Constant",
         "showlegend": true,
         "type": "bar",
         "x": [
          "1.0.0",
          "1.1.0",
          "1.2.0",
          "2.0.0",
          "2.1.0",
          "2.2.0",
          "3.0.0"
         ],
         "xaxis": "x",
         "y": {
          "bdata": "AQEBAQEBAQ==",
          "dtype": "i1"
         },
         "yaxis": "y"
        },
        {
         "legendgroup": "method",
         "marker": {
          "color": "#2ca02c"
         },
         "name": "Method",
         "showlegend": true,
         "type": "bar",
         "x": [
          "1.1.0",
          "1.2.0",
          "2.0.0",
          "2.1.0",
          "2.2.0",
          "3.0.0"
         ],
         "xaxis": "x",
         "y": {
          "bdata": "AQEBAQEB",
          "dtype": "i1"
         },
         "yaxis": "y"
        },
        {
         "domain": {
          "x": [
           0.55,
           1
          ],
          "y": [
           0,
           1
          ]
         },
         "labels": [
          "function",
          "class",
          "method",
          "constant"
         ],
         "marker": {
          "colors": [
           "#1f77b4",
           "#ff7f0e",
           "#2ca02c",
           "#9467bd"
          ]
         },
         "name": "API Types",
         "showlegend": false,
         "textinfo": "label+percent+value",
         "type": "pie",
         "values": {
          "bdata": "BQgBAQ==",
          "dtype": "i1"
         }
        }
       ],
       "layout": {
        "annotations": [
         {
          "font": {
           "size": 16
          },
          "showarrow": false,
          "text": "API Types Over Time",
          "x": 0.225,
          "xanchor": "center",
          "xref": "paper",
          "y": 1,
          "yanchor": "bottom",
          "yref": "paper"
         },
         {
          "font": {
           "size": 16
          },
          "showarrow": false,
          "text": "API Composition - Latest Version",
          "x": 0.775,
          "xanchor": "center",
          "xref": "paper",
          "y": 1,
          "yanchor": "bottom",
          "yref": "paper"
         }
        ],
        "barmode": "stack",
        "height": 500,
        "template": {
         "data": {
          "bar": [
           {
            "error_x": {
             "color": "#2a3f5f"
            },
            "error_y": {
             "color": "#2a3f5f"
            },
            "marker": {
             "line": {
              "color": "#E5ECF6",
              "width": 0.5
             },
             "pattern": {
              "fillmode": "overlay",
              "size": 10,
              "solidity": 0.2
             }
            },
            "type": "bar"
           }
          ],
          "barpolar": [
           {
            "marker": {
             "line": {
              "color": "#E5ECF6",
              "width": 0.5
             },
             "pattern": {
              "fillmode": "overlay",
              "size": 10,
              "solidity": 0.2
             }
            },
            "type": "barpolar"
           }
          ],
          "carpet": [
           {
            "aaxis": {
             "endlinecolor": "#2a3f5f",
             "gridcolor": "white",
             "linecolor": "white",
             "minorgridcolor": "white",
             "startlinecolor": "#2a3f5f"
            },
            "baxis": {
             "endlinecolor": "#2a3f5f",
             "gridcolor": "white",
             "linecolor": "white",
             "minorgridcolor": "white",
             "startlinecolor": "#2a3f5f"
            },
            "type": "carpet"
           }
          ],
          "choropleth": [
           {
            "colorbar": {
             "outlinewidth": 0,
             "ticks": ""
            },
            "type": "choropleth"
           }
          ],
          "contour": [
           {
            "colorbar": {
             "outlinewidth": 0,
             "ticks": ""
            },
            "colorscale": [
             [
              0,
              "#0d0887"
             ],
             [
              0.1111111111111111,
              "#46039f"
             ],
             [
              0.2222222222222222,
              "#7201a8"
             ],
             [
              0.3333333333333333,
              "#9c179e"
             ],
             [
              0.4444444444444444,
              "#bd3786"
             ],
             [
              0.5555555555555556,
              "#d8576b"
             ],
             [
              0.6666666666666666,
              "#ed7953"
             ],
             [
              0.7777777777777778,
              "#fb9f3a"
             ],
             [
              0.8888888888888888,
              "#fdca26"
             ],
             [
              1,
              "#f0f921"
             ]
            ],
            "type": "contour"
           }
          ],
          "contourcarpet": [
           {
            "colorbar": {
             "outlinewidth": 0,
             "ticks": ""
            },
            "type": "contourcarpet"
           }
          ],
          "heatmap": [
           {
            "colorbar": {
             "outlinewidth": 0,
             "ticks": ""
            },
            "colorscale": [
             [
              0,
              "#0d0887"
             ],
             [
              0.1111111111111111,
              "#46039f"
             ],
             [
              0.2222222222222222,
              "#7201a8"
             ],
             [
              0.3333333333333333,
              "#9c179e"
             ],
             [
              0.4444444444444444,
              "#bd3786"
             ],
             [
              0.5555555555555556,
              "#d8576b"
             ],
             [
              0.6666666666666666,
              "#ed7953"
             ],
             [
              0.7777777777777778,
              "#fb9f3a"
             ],
             [
              0.8888888888888888,
              "#fdca26"
             ],
             [
              1,
              "#f0f921"
             ]
            ],
            "type": "heatmap"
           }
          ],
          "histogram": [
           {
            "marker": {
             "pattern": {
              "fillmode": "overlay",
              "size": 10,
              "solidity": 0.2
             }
            },
            "type": "histogram"
           }
          ],
          "histogram2d": [
           {
            "colorbar": {
             "outlinewidth": 0,
             "ticks": ""
            },
            "colorscale": [
             [
              0,
              "#0d0887"
             ],
             [
              0.1111111111111111,
              "#46039f"
             ],
             [
              0.2222222222222222,
              "#7201a8"
             ],
             [
              0.3333333333333333,
              "#9c179e"
             ],
             [
              0.4444444444444444,
              "#bd3786"
             ],
             [
              0.5555555555555556,
              "#d8576b"
             ],
             [
              0.6666666666666666,
              "#ed7953"
             ],
             [
              0.7777777777777778,
              "#fb9f3a"
             ],
             [
              0.8888888888888888,
              "#fdca26"
             ],
             [
              1,
              "#f0f921"
             ]
            ],
            "type": "histogram2d"
           }
          ],
          "histogram2dcontour": [
           {
            "colorbar": {
             "outlinewidth": 0,
             "ticks": ""
            },
            "colorscale": [
             [
              0,
              "#0d0887"
             ],
             [
              0.1111111111111111,
              "#46039f"
             ],
             [
              0.2222222222222222,
              "#7201a8"
             ],
             [
              0.3333333333333333,
              "#9c179e"
             ],
             [
              0.4444444444444444,
              "#bd3786"
             ],
             [
              0.5555555555555556,
              "#d8576b"
             ],
             [
              0.6666666666666666,
              "#ed7953"
             ],
             [
              0.7777777777777778,
              "#fb9f3a"
             ],
             [
              0.8888888888888888,
              "#fdca26"
             ],
             [
              1,
              "#f0f921"
             ]
            ],
            "type": "histogram2dcontour"
           }
          ],
          "mesh3d": [
           {
            "colorbar": {
             "outlinewidth": 0,
             "ticks": ""
            },
            "type": "mesh3d"
           }
          ],
          "parcoords": [
           {
            "line": {
             "colorbar": {
              "outlinewidth": 0,
              "ticks": ""
             }
            },
            "type": "parcoords"
           }
          ],
          "pie": [
           {
            "automargin": true,
            "type": "pie"
           }
          ],
          "scatter": [
           {
            "fillpattern": {
             "fillmode": "overlay",
             "size": 10,
             "solidity": 0.2
            },
            "type": "scatter"
           }
          ],
          "scatter3d": [
           {
            "line": {
             "colorbar": {
              "outlinewidth": 0,
              "ticks": ""
             }
            },
            "marker": {
             "colorbar": {
              "outlinewidth": 0,
              "ticks": ""
             }
            },
            "type": "scatter3d"
           }
          ],
          "scattercarpet": [
           {
            "marker": {
             "colorbar": {
              "outlinewidth": 0,
              "ticks": ""
             }
            },
            "type": "scattercarpet"
           }
          ],
          "scattergeo": [
           {
            "marker": {
             "colorbar": {
              "outlinewidth": 0,
              "ticks": ""
             }
            },
            "type": "scattergeo"
           }
          ],
          "scattergl": [
           {
            "marker": {
             "colorbar": {
              "outlinewidth": 0,
              "ticks": ""
             }
            },
            "type": "scattergl"
           }
          ],
          "scattermap": [
           {
            "marker": {
             "colorbar": {
              "outlinewidth": 0,
              "ticks": ""
             }
            },
            "type": "scattermap"
           }
          ],
          "scattermapbox": [
           {
            "marker": {
             "colorbar": {
              "outlinewidth": 0,
              "ticks": ""
             }
            },
            "type": "scattermapbox"
           }
          ],
          "scatterpolar": [
           {
            "marker": {
             "colorbar": {
              "outlinewidth": 0,
              "ticks": ""
             }
            },
            "type": "scatterpolar"
           }
          ],
          "scatterpolargl": [
           {
            "marker": {
             "colorbar": {
              "outlinewidth": 0,
              "ticks": ""
             }
            },
            "type": "scatterpolargl"
           }
          ],
          "scatterternary": [
           {
            "marker": {
             "colorbar": {
              "outlinewidth": 0,
              "ticks": ""
             }
            },
            "type": "scatterternary"
           }
          ],
          "surface": [
           {
            "colorbar": {
             "outlinewidth": 0,
             "ticks": ""
            },
            "colorscale": [
             [
              0,
              "#0d0887"
             ],
             [
              0.1111111111111111,
              "#46039f"
             ],
             [
              0.2222222222222222,
              "#7201a8"
             ],
             [
              0.3333333333333333,
              "#9c179e"
             ],
             [
              0.4444444444444444,
              "#bd3786"
             ],
             [
              0.5555555555555556,
              "#d8576b"
             ],
             [
              0.6666666666666666,
              "#ed7953"
             ],
             [
              0.7777777777777778,
              "#fb9f3a"
             ],
             [
              0.8888888888888888,
              "#fdca26"
             ],
             [
              1,
              "#f0f921"
             ]
            ],
            "type": "surface"
           }
          ],
          "table": [
           {
            "cells": {
             "fill": {
              "color": "#EBF0F8"
             },
             "line": {
              "color": "white"
             }
            },
            "header": {
             "fill": {
              "color": "#C8D4E3"
             },
             "line": {
              "color": "white"
             }
            },
            "type": "table"
           }
          ]
         },
         "layout": {
          "annotationdefaults": {
           "arrowcolor": "#2a3f5f",
           "arrowhead": 0,
           "arrowwidth": 1
          },
          "autotypenumbers": "strict",
          "coloraxis": {
           "colorbar": {
            "outlinewidth": 0,
            "ticks": ""
           }
          },
          "colorscale": {
           "diverging": [
            [
             0,
             "#8e0152"
            ],
            [
             0.1,
             "#c51b7d"
            ],
            [
             0.2,
             "#de77ae"
            ],
            [
             0.3,
             "#f1b6da"
            ],
            [
             0.4,
             "#fde0ef"
            ],
            [
             0.5,
             "#f7f7f7"
            ],
            [
             0.6,
             "#e6f5d0"
            ],
            [
             0.7,
             "#b8e186"
            ],
            [
             0.8,
             "#7fbc41"
            ],
            [
             0.9,
             "#4d9221"
            ],
            [
             1,
             "#276419"
            ]
           ],
           "sequential": [
            [
             0,
             "#0d0887"
            ],
            [
             0.1111111111111111,
             "#46039f"
            ],
            [
             0.2222222222222222,
             "#7201a8"
            ],
            [
             0.3333333333333333,
             "#9c179e"
            ],
            [
             0.4444444444444444,
             "#bd3786"
            ],
            [
             0.5555555555555556,
             "#d8576b"
            ],
            [
             0.6666666666666666,
             "#ed7953"
            ],
            [
             0.7777777777777778,
             "#fb9f3a"
            ],
            [
             0.8888888888888888,
             "#fdca26"
            ],
            [
             1,
             "#f0f921"
            ]
           ],
           "sequentialminus": [
            [
             0,
             "#0d0887"
            ],
            [
             0.1111111111111111,
             "#46039f"
            ],
            [
             0.2222222222222222,
             "#7201a8"
            ],
            [
             0.3333333333333333,
             "#9c179e"
            ],
            [
             0.4444444444444444,
             "#bd3786"
            ],
            [
             0.5555555555555556,
             "#d8576b"
            ],
            [
             0.6666666666666666,
             "#ed7953"
            ],
            [
             0.7777777777777778,
             "#fb9f3a"
            ],
            [
             0.8888888888888888,
             "#fdca26"
            ],
            [
             1,
             "#f0f921"
            ]
           ]
          },
          "colorway": [
           "#636efa",
           "#EF553B",
           "#00cc96",
           "#ab63fa",
           "#FFA15A",
           "#19d3f3",
           "#FF6692",
           "#B6E880",
           "#FF97FF",
           "#FECB52"
          ],
          "font": {
           "color": "#2a3f5f"
          },
          "geo": {
           "bgcolor": "white",
           "lakecolor": "white",
           "landcolor": "#E5ECF6",
           "showlakes": true,
           "showland": true,
           "subunitcolor": "white"
          },
          "hoverlabel": {
           "align": "left"
          },
          "hovermode": "closest",
          "mapbox": {
           "style": "light"
          },
          "paper_bgcolor": "white",
          "plot_bgcolor": "#E5ECF6",
          "polar": {
           "angularaxis": {
            "gridcolor": "white",
            "linecolor": "white",
            "ticks": ""
           },
           "bgcolor": "#E5ECF6",
           "radialaxis": {
            "gridcolor": "white",
            "linecolor": "white",
            "ticks": ""
           }
          },
          "scene": {
           "xaxis": {
            "backgroundcolor": "#E5ECF6",
            "gridcolor": "white",
            "gridwidth": 2,
            "linecolor": "white",
            "showbackground": true,
            "ticks": "",
            "zerolinecolor": "white"
           },
           "yaxis": {
            "backgroundcolor": "#E5ECF6",
            "gridcolor": "white",
            "gridwidth": 2,
            "linecolor": "white",
            "showbackground": true,
            "ticks": "",
            "zerolinecolor": "white"
           },
           "zaxis": {
            "backgroundcolor": "#E5ECF6",
            "gridcolor": "white",
            "gridwidth": 2,
            "linecolor": "white",
            "showbackground": true,
            "ticks": "",
            "zerolinecolor": "white"
           }
          },
          "shapedefaults": {
           "line": {
            "color": "#2a3f5f"
           }
          },
          "ternary": {
           "aaxis": {
            "gridcolor": "white",
            "linecolor": "white",
            "ticks": ""
           },
           "baxis": {
            "gridcolor": "white",
            "linecolor": "white",
            "ticks": ""
           },
           "bgcolor": "#E5ECF6",
           "caxis": {
            "gridcolor": "white",
            "linecolor": "white",
            "ticks": ""
           }
          },
          "title": {
           "x": 0.05
          },
          "xaxis": {
           "automargin": true,
           "gridcolor": "white",
           "linecolor": "white",
           "ticks": "",
           "title": {
            "standoff": 15
           },
           "zerolinecolor": "white",
           "zerolinewidth": 2
          },
          "yaxis": {
           "automargin": true,
           "gridcolor": "white",
           "linecolor": "white",
           "ticks": "",
           "title": {
            "standoff": 15
           },
           "zerolinecolor": "white",
           "zerolinewidth": 2
          }
         }
        },
        "title": {
         "font": {
          "size": 18
         },
         "text": "API Type Distribution - mylib",
         "x": 0.5
        },
        "xaxis": {
         "anchor": "y",
         "domain": [
          0,
          0.45
         ],
         "title": {
          "text": "Version"
         }
        },
        "yaxis": {
         "anchor": "x",
         "domain": [
          0,
          1
         ],
         "title": {
          "text": "Number of APIs"
         }
        }
       }
      },
      "text/html": [
       "<div>            <script src=\"https://cdnjs.cloudflare.com/ajax/libs/mathjax/2.7.5/MathJax.js?config=TeX-AMS-MML_SVG\"></script><script type=\"text/javascript\">if (window.MathJax && window.MathJax.Hub && window.MathJax.Hub.Config) {window.MathJax.Hub.Config({SVG: {font: \"STIX-Web\"}});}</script>                <script type=\"text/javascript\">window.PlotlyConfig = {MathJaxConfig: 'local'};</script>\n",
       "        <script charset=\"utf-8\" src=\"https://cdn.plot.ly/plotly-3.0.1.min.js\" integrity=\"sha256-oy6Be7Eh6eiQFs5M7oXuPxxm9qbJXEtTpfSI93dW16Q=\" crossorigin=\"anonymous\"></script>                <div id=\"8d8e14e9-6dea-4b49-99b9-4fb55bad5e7d\" class=\"plotly-graph-div\" style=\"height:500px; width:100%;\"></div>            <script type=\"text/javascript\">                window.PLOTLYENV=window.PLOTLYENV || {};                                if (document.getElementById(\"8d8e14e9-6dea-4b49-99b9-4fb55bad5e7d\")) {                    Plotly.newPlot(                        \"8d8e14e9-6dea-4b49-99b9-4fb55bad5e7d\",                        [{\"legendgroup\":\"function\",\"marker\":{\"color\":\"#1f77b4\"},\"name\":\"Function\",\"showlegend\":true,\"x\":[\"1.0.0\",\"1.1.0\",\"1.2.0\",\"2.0.0\",\"2.1.0\",\"2.2.0\",\"3.0.0\"],\"y\":{\"dtype\":\"i1\",\"bdata\":\"AgMFBQYIBQ==\"},\"type\":\"bar\",\"xaxis\":\"x\",\"yaxis\":\"y\"},{\"legendgroup\":\"class\",\"marker\":{\"color\":\"#ff7f0e\"},\"name\":\"Class\",\"showlegend\":true,\"x\":[\"1.0.0\",\"1.1.0\",\"1.2.0\",\"2.0.0\",\"2.1.0\",\"2.2.0\",\"3.0.0\"],\"y\":{\"dtype\":\"i1\",\"bdata\":\"AgMEBQYHCA==\"},\"type\":\"bar\",\"xaxis\":\"x\",\"yaxis\":\"y\"},{\"legendgroup\":\"constant\",\"marker\":{\"color\":\"#9467bd\"},\"name\":\"Constant\",\"showlegend\":true,\"x\":[\"1.0.0\",\"1.1.0\",\"1.2.0\",\"2.0.0\",\"2.1.0\",\"2.2.0\",\"3.0.0\"],\"y\":{\"dtype\":\"i1\",\"bdata\":\"AQEBAQEBAQ==\"},\"type\":\"bar\",\"xaxis\":\"x\",\"yaxis\":\"y\"},{\"legendgroup\":\"method\",\"marker\":{\"color\":\"#2ca02c\"},\"name\":\"Method\",\"showlegend\":true,\"x\":[\"1.1.0\",\"1.2.0\",\"2.0.0\",\"2.1.0\",\"2.2.0\",\"3.0.0\"],\"y\":{\"dtype\":\"i1\",\"bdata\":\"AQEBAQEB\"},\"type\":\"bar\",\"xaxis\":\"x\",\"yaxis\":\"y\"},{\"labels\":[\"function\",\"class\",\"method\",\"constant\"],\"marker\":{\"colors\":[\"#1f77b4\",\"#ff7f0e\",\"#2ca02c\",\"#9467bd\"]},\"name\":\"API Types\",\"showlegend\":false,\"textinfo\":\"label+percent+value\",\"values\":{\"dtype\":\"i1\",\"bdata\":\"BQgBAQ==\"},\"type\":\"pie\",\"domain\":{\"x\":[0.55,1.0],\"y\":[0.0,1.0]}}],                        {\"template\":{\"data\":{\"histogram2dcontour\":[{\"type\":\"histogram2dcontour\",\"colorbar\":{\"outlinewidth\":0,\"ticks\":\"\"},\"colorscale\":[[0.0,\"#0d0887\"],[0.1111111111111111,\"#46039f\"],[0.2222222222222222,\"#7201a8\"],[0.3333333333333333,\"#9c179e\"],[0.4444444444444444,\"#bd3786\"],[0.5555555555555556,\"#d8576b\"],[0.6666666666666666,\"#ed7953\"],[0.7777777777777778,\"#fb9f3a\"],[0.8888888888888888,\"#fdca26\"],[1.0,\"#f0f921\"]]}],\"choropleth\":[{\"type\":\"choropleth\",\"colorbar\":{\"outlinewidth\":0,\"ticks\":\"\"}}],\"histogram2d\":[{\"type\":\"histogram2d\",\"colorbar\":{\"outlinewidth\":0,\"ticks\":\"\"},\"colorscale\":[[0.0,\"#0d0887\"],[0.1111111111111111,\"#46039f\"],[0.2222222222222222,\"#7201a8\"],[0.3333333333333333,\"#9c179e\"],[0.4444444444444444,\"#bd3786\"],[0.5555555555555556,\"#d8576b\"],[0.6666666666666666,\"#ed7953\"],[0.7777777777777778,\"#fb9f3a\"],[0.8888888888888888,\"#fdca26\"],[1.0,\"#f0f921\"]]}],\"heatmap\":[{\"type\":\"heatmap\",\"colorbar\":{\"outlinewidth\":0,\"ticks\":\"\"},\"colorscale\":[[0.0,\"#0d0887\"],[0.1111111111111111,\"#46039f\"],[0.2222222222222222,\"#7201a8\"],[0.3333333333333333,\"#9c179e\"],[0.4444444444444444,\"#bd3786\"],[0.5555555555555556,\"#d8576b\"],[0.6666666666666666,\"#ed7953\"],[0.7777777777777778,\"#fb9f3a\"],[0.8888888888888888,\"#fdca26\"],[1.0,\"#f0f921\"]]}],\"contourcarpet\":[{\"type\":\"contourcarpet\",\"colorbar\":{\"outlinewidth\":0,\"ticks\":\"\"}}],\"contour\":[{\"type\":\"contour\",\"colorbar\":{\"outlinewidth\":0,\"ticks\":\"\"},\"colorscale\":[[0.0,\"#0d0887\"],[0.1111111111111111,\"#46039f\"],[0.2222222222222222,\"#7201a8\"],[0.3333333333333333,\"#9c179e\"],[0.4444444444444444,\"#bd3786\"],[0.5555555555555556,\"#d8576b\"],[0.6666666666666666,\"#ed7953\"],[0.7777777777777778,\"#fb9f3a\"],[0.8888888888888888,\"#fdca26\"],[1.0,\"#f0f921\"]]}],\"surface\":[{\"type\":\"surface\",\"colorbar\":{\"outlinewidth\":0,\"ticks\":\"\"},\"colorscale\":[[0.0,\"#0d0887\"],[0.1111111111111111,\"#46039f\"],[0.2222222222222222,\"#7201a8\"],[0.3333333333333333,\"#9c179e\"],[0.4444444444444444,\"#bd3786\"],[0.5555555555555556,\"#d8576b\"],[0.6666666666666666,\"#ed7953\"],[0.7777777777777778,\"#fb9f3a\"],[0.8888888888888888,\"#fdca26\"],[1.0,\"#f0f921\"]]}],\"mesh3d\":[{\"type\":\"mesh3d\",\"colorbar\":{\"outlinewidth\":0,\"ticks\":\"\"}}],\"scatter\":[{\"fillpattern\":{\"fillmode\":\"overlay\",\"size\":10,\"solidity\":0.2},\"type\":\"scatter\"}],\"parcoords\":[{\"type\":\"parcoords\",\"line\":{\"colorbar\":{\"outlinewidth\":0,\"ticks\":\"\"}}}],\"scatterpolargl\":[{\"type\":\"scatterpolargl\",\"marker\":{\"colorbar\":{\"outlinewidth\":0,\"ticks\":\"\"}}}],\"bar\":[{\"error_x\":{\"color\":\"#2a3f5f\"},\"error_y\":{\"color\":\"#2a3f5f\"},\"marker\":{\"line\":{\"color\":\"#E5ECF6\",\"width\":0.5},\"pattern\":{\"fillmode\":\"overlay\",\"size\":10,\"solidity\":0.2}},\"type\":\"bar\"}],\"scattergeo\":[{\"type\":\"scattergeo\",\"marker\":{\"colorbar\":{\"outlinewidth\":0,\"ticks\":\"\"}}}],\"scatterpolar\":[{\"type\":\"scatterpolar\",\"marker\":{\"colorbar\":{\"outlinewidth\":0,\"ticks\":\"\"}}}],\"histogram\":[{\"marker\":{\"pattern\":{\"fillmode\":\"overlay\",\"size\":10,\"solidity\":0.2}},\"type\":\"histogram\"}],\"scattergl\":[{\"type\":\"scattergl\",\"marker\":{\"colorbar\":{\"outlinewidth\":0,\"ticks\":\"\"}}}],\"scatter3d\":[{\"type\":\"scatter3d\",\"line\":{\"colorbar\":{\"outlinewidth\":0,\"ticks\":\"\"}},\"marker\":{\"colorbar\":{\"outlinewidth\":0,\"ticks\":\"\"}}}],\"scattermap\":[{\"type\":\"scattermap\",\"marker\":{\"colorbar\":{\"outlinewidth\":0,\"ticks\":\"\"}}}],\"scattermapbox\":[{\"type\":\"scattermapbox\",\"marker\":{\"colorbar\":{\"outlinewidth\":0,\"ticks\":\"\"}}}],\"scatterternary\":[{\"type\":\"scatterternary\",\"marker\":{\"colorbar\":{\"outlinewidth\":0,\"ticks\":\"\"}}}],\"scattercarpet\":[{\"type\":\"scattercarpet\",\"marker\":{\"colorbar\":{\"outlinewidth\":0,\"ticks\":\"\"}}}],\"carpet\":[{\"aaxis\":{\"endlinecolor\":\"#2a3f5f\",\"gridcolor\":\"white\",\"linecolor\":\"white\",\"minorgridcolor\":\"white\",\"startlinecolor\":\"#2a3f5f\"},\"baxis\":{\"endlinecolor\":\"#2a3f5f\",\"gridcolor\":\"white\",\"linecolor\":\"white\",\"minorgridcolor\":\"white\",\"startlinecolor\":\"#2a3f5f\"},\"type\":\"carpet\"}],\"table\":[{\"cells\":{\"fill\":{\"color\":\"#EBF0F8\"},\"line\":{\"color\":\"white\"}},\"header\":{\"fill\":{\"color\":\"#C8D4E3\"},\"line\":{\"color\":\"white\"}},\"type\":\"table\"}],\"barpolar\":[{\"marker\":{\"line\":{\"color\":\"#E5ECF6\",\"width\":0.5},\"pattern\":{\"fillmode\":\"overlay\",\"size\":10,\"solidity\":0.2}},\"type\":\"barpolar\"}],\"pie\":[{\"automargin\":true,\"type\":\"pie\"}]},\"layout\":{\"autotypenumbers\":\"strict\",\"colorway\":[\"#636efa\",\"#EF553B\",\"#00cc96\",\"#ab63fa\",\"#FFA15A\",\"#19d3f3\",\"#FF6692\",\"#B6E880\",\"#FF97FF\",\"#FECB52\"],\"font\":{\"color\":\"#2a3f5f\"},\"hovermode\":\"closest\",\"hoverlabel\":{\"align\":\"left\"},\"paper_bgcolor\":\"white\",\"plot_bgcolor\":\"#E5ECF6\",\"polar\":{\"bgcolor\":\"#E5ECF6\",\"angularaxis\":{\"gridcolor\":\"white\",\"linecolor\":\"white\",\"ticks\":\"\"},\"radialaxis\":{\"gridcolor\":\"white\",\"linecolor\":\"white\",\"ticks\":\"\"}},\"ternary\":{\"bgcolor\":\"#E5ECF6\",\"aaxis\":{\"gridcolor\":\"white\",\"linecolor\":\"white\",\"ticks\":\"\"},\"baxis\":{\"gridcolor\":\"white\",\"linecolor\":\"white\",\"ticks\":\"\"},\"caxis\":{\"gridcolor\":\"white\",\"linecolor\":\"white\",\"ticks\":\"\"}},\"coloraxis\":{\"colorbar\":{\"outlinewidth\":0,\"ticks\":\"\"}},\"colorscale\":{\"sequential\":[[0.0,\"#0d0887\"],[0.1111111111111111,\"#46039f\"],[0.2222222222222222,\"#7201a8\"],[0.3333333333333333,\"#9c179e\"],[0.4444444444444444,\"#bd3786\"],[0.5555555555555556,\"#d8576b\"],[0.6666666666666666,\"#ed7953\"],[0.7777777777777778,\"#fb9f3a\"],[0.8888888888888888,\"#fdca26\"],[1.0,\"#f0f921\"]],\"sequentialminus\":[[0.0,\"#0d0887\"],[0.1111111111111111,\"#46039f\"],[0.2222222222222222,\"#7201a8\"],[0.3333333333333333,\"#9c179e\"],[0.4444444444444444,\"#bd3786\"],[0.5555555555555556,\"#d8576b\"],[0.6666666666666666,\"#ed7953\"],[0.7777777777777778,\"#fb9f3a\"],[0.8888888888888888,\"#fdca26\"],[1.0,\"#f0f921\"]],\"diverging\":[[0,\"#8e0152\"],[0.1,\"#c51b7d\"],[0.2,\"#de77ae\"],[0.3,\"#f1b6da\"],[0.4,\"#fde0ef\"],[0.5,\"#f7f7f7\"],[0.6,\"#e6f5d0\"],[0.7,\"#b8e186\"],[0.8,\"#7fbc41\"],[0.9,\"#4d9221\"],[1,\"#276419\"]]},\"xaxis\":{\"gridcolor\":\"white\",\"linecolor\":\"white\",\"ticks\":\"\",\"title\":{\"standoff\":15},\"zerolinecolor\":\"white\",\"automargin\":true,\"zerolinewidth\":2},\"yaxis\":{\"gridcolor\":\"white\",\"linecolor\":\"white\",\"ticks\":\"\",\"title\":{\"standoff\":15},\"zerolinecolor\":\"white\",\"automargin\":true,\"zerolinewidth\":2},\"scene\":{\"xaxis\":{\"backgroundcolor\":\"#E5ECF6\",\"gridcolor\":\"white\",\"linecolor\":\"white\",\"showbackground\":true,\"ticks\":\"\",\"zerolinecolor\":\"white\",\"gridwidth\":2},\"yaxis\":{\"backgroundcolor\":\"#E5ECF6\",\"gridcolor\":\"white\",\"linecolor\":\"white\",\"showbackground\":true,\"ticks\":\"\",\"zerolinecolor\":\"white\",\"gridwidth\":2},\"zaxis\":{\"backgroundcolor\":\"#E5ECF6\",\"gridcolor\":\"white\",\"linecolor\":\"white\",\"showbackground\":true,\"ticks\":\"\",\"zerolinecolor\":\"white\",\"gridwidth\":2}},\"shapedefaults\":{\"line\":{\"color\":\"#2a3f5f\"}},\"annotationdefaults\":{\"arrowcolor\":\"#2a3f5f\",\"arrowhead\":0,\"arrowwidth\":1},\"geo\":{\"bgcolor\":\"white\",\"landcolor\":\"#E5ECF6\",\"subunitcolor\":\"white\",\"showland\":true,\"showlakes\":true,\"lakecolor\":\"white\"},\"title\":{\"x\":0.05},\"mapbox\":{\"style\":\"light\"}}},\"xaxis\":{\"anchor\":\"y\",\"domain\":[0.0,0.45],\"title\":{\"text\":\"Version\"}},\"yaxis\":{\"anchor\":\"x\",\"domain\":[0.0,1.0],\"title\":{\"text\":\"Number of APIs\"}},\"annotations\":[{\"font\":{\"size\":16},\"showarrow\":false,\"text\":\"API Types Over Time\",\"x\":0.225,\"xanchor\":\"center\",\"xref\":\"paper\",\"y\":1.0,\"yanchor\":\"bottom\",\"yref\":\"paper\"},{\"font\":{\"size\":16},\"showarrow\":false,\"text\":\"API Composition - Latest Version\",\"x\":0.775,\"xanchor\":\"center\",\"xref\":\"paper\",\"y\":1.0,\"yanchor\":\"bottom\",\"yref\":\"paper\"}],\"title\":{\"font\":{\"size\":18},\"text\":\"API Type Distribution - mylib\",\"x\":0.5},\"height\":500,\"barmode\":\"stack\"},                        {\"responsive\": true}                    ).then(function(){\n",
       "                            \n",
       "var gd = document.getElementById('8d8e14e9-6dea-4b49-99b9-4fb55bad5e7d');\n",
       "var x = new MutationObserver(function (mutations, observer) {{\n",
       "        var display = window.getComputedStyle(gd).display;\n",
       "        if (!display || display === 'none') {{\n",
       "            console.log([gd, 'removed!']);\n",
       "            Plotly.purge(gd);\n",
       "            observer.disconnect();\n",
       "        }}\n",
       "}});\n",
       "\n",
       "// Listen for the removal of the full notebook cells\n",
       "var notebookContainer = gd.closest('#notebook-container');\n",
       "if (notebookContainer) {{\n",
       "    x.observe(notebookContainer, {childList: true});\n",
       "}}\n",
       "\n",
       "// Listen for the clearing of the current output cell\n",
       "var outputEl = gd.closest('.output');\n",
       "if (outputEl) {{\n",
       "    x.observe(outputEl, {childList: true});\n",
       "}}\n",
       "\n",
       "                        })                };            </script>        </div>"
      ]
     },
     "metadata": {},
     "output_type": "display_data"
    },
    {
     "name": "stdout",
     "output_type": "stream",
     "text": [
      "📊 API type distribution created!\n",
      "\n",
      "📈 Summary Statistics:\n",
      "          mean  max  sum\n",
      "api_type                \n",
      "class      5.0    8   35\n",
      "constant   1.0    1    7\n",
      "function   4.9    8   34\n",
      "method     1.0    1    6\n"
     ]
    }
   ],
   "source": [
    "def create_api_type_distribution(result):\n",
    "    \"\"\"Create visualizations showing the distribution of API types across versions.\"\"\"\n",
    "    \n",
    "    # Collect data for each version\n",
    "    version_data = []\n",
    "    for version, elements in result.api_elements.items():\n",
    "        type_counts = {}\n",
    "        for api_type in APIType:\n",
    "            type_counts[api_type.value] = len([\n",
    "                e for e in elements if e.type == api_type\n",
    "            ])\n",
    "        \n",
    "        for api_type, count in type_counts.items():\n",
    "            if count > 0:  # Only include types that exist\n",
    "                version_data.append({\n",
    "                    'version': version,\n",
    "                    'api_type': api_type,\n",
    "                    'count': count\n",
    "                })\n",
    "    \n",
    "    df = pd.DataFrame(version_data)\n",
    "    \n",
    "    if df.empty:\n",
    "        print(\"No API type data available\")\n",
    "        return None, None\n",
    "    \n",
    "    # Create two subplots: stacked bar chart and pie chart for latest version\n",
    "    fig = make_subplots(\n",
    "        rows=1, cols=2,\n",
    "        subplot_titles=('API Types Over Time', f'API Composition - Latest Version'),\n",
    "        specs=[[{\"type\": \"bar\"}, {\"type\": \"pie\"}]]\n",
    "    )\n",
    "    \n",
    "    # Color palette for API types\n",
    "    api_colors = {\n",
    "        'function': '#1f77b4',\n",
    "        'class': '#ff7f0e', \n",
    "        'method': '#2ca02c',\n",
    "        'property': '#d62728',\n",
    "        'constant': '#9467bd',\n",
    "        'module': '#8c564b'\n",
    "    }\n",
    "    \n",
    "    # Stacked bar chart\n",
    "    for api_type in df['api_type'].unique():\n",
    "        type_data = df[df['api_type'] == api_type]\n",
    "        fig.add_trace(\n",
    "            go.Bar(\n",
    "                x=type_data['version'],\n",
    "                y=type_data['count'],\n",
    "                name=api_type.title(),\n",
    "                marker_color=api_colors.get(api_type, '#gray'),\n",
    "                legendgroup=api_type,\n",
    "                showlegend=True\n",
    "            ),\n",
    "            row=1, col=1\n",
    "        )\n",
    "    \n",
    "    # Pie chart for latest version\n",
    "    latest_version = max(result.versions, key=lambda v: v.version).version\n",
    "    latest_data = df[df['version'] == latest_version]\n",
    "    \n",
    "    fig.add_trace(\n",
    "        go.Pie(\n",
    "            labels=latest_data['api_type'],\n",
    "            values=latest_data['count'],\n",
    "            name=\"API Types\",\n",
    "            marker_colors=[api_colors.get(t, '#gray') for t in latest_data['api_type']],\n",
    "            textinfo='label+percent+value',\n",
    "            showlegend=False\n",
    "        ),\n",
    "        row=1, col=2\n",
    "    )\n",
    "    \n",
    "    # Update layout\n",
    "    fig.update_layout(\n",
    "        title={\n",
    "            'text': f'API Type Distribution - {result.package_name}',\n",
    "            'x': 0.5,\n",
    "            'font': {'size': 18}\n",
    "        },\n",
    "        height=500,\n",
    "        barmode='stack'\n",
    "    )\n",
    "    \n",
    "    # Update x-axis for the bar chart\n",
    "    fig.update_xaxes(title_text=\"Version\", row=1, col=1)\n",
    "    fig.update_yaxes(title_text=\"Number of APIs\", row=1, col=1)\n",
    "    \n",
    "    return fig, df\n",
    "\n",
    "# Create the API type distribution chart\n",
    "type_fig, type_df = create_api_type_distribution(demo_result)\n",
    "if type_fig:\n",
    "    type_fig.show()\n",
    "    print(\"📊 API type distribution created!\")\n",
    "    \n",
    "    # Show some summary statistics\n",
    "    if type_df is not None and not type_df.empty:\n",
    "        print(\"\\n📈 Summary Statistics:\")\n",
    "        summary = type_df.groupby('api_type')['count'].agg(['mean', 'max', 'sum']).round(1)\n",
    "        print(summary)\n",
    "else:\n",
    "    print(\"❌ Could not create API type distribution visualization\")"
   ]
  },
  {
   "cell_type": "markdown",
   "id": "9b1d9fc9",
   "metadata": {},
   "source": [
    "## 4. Change Patterns and Trends\n",
    "\n",
    "Analyzing how your API changes over time reveals important patterns about stability, breaking changes, and development velocity."
   ]
  },
  {
   "cell_type": "code",
   "execution_count": 5,
   "id": "e7a0611e",
   "metadata": {},
   "outputs": [
    {
     "data": {
      "application/vnd.plotly.v1+json": {
       "config": {
        "plotlyServerURL": "https://plot.ly"
       },
       "data": [
        {
         "legendgroup": "change_types",
         "marker": {
          "color": "#2E8B57"
         },
         "name": "Added",
         "showlegend": true,
         "type": "bar",
         "x": [
          "1.1.0",
          "1.2.0",
          "2.0.0",
          "2.1.0",
          "2.2.0",
          "3.0.0"
         ],
         "xaxis": "x",
         "y": {
          "bdata": "AwMDAgME",
          "dtype": "i1"
         },
         "yaxis": "y"
        },
        {
         "legendgroup": "change_types",
         "marker": {
          "color": "#FF8C00"
         },
         "name": "Modified",
         "showlegend": true,
         "type": "bar",
         "x": [
          "2.0.0"
         ],
         "xaxis": "x",
         "y": {
          "bdata": "Aw==",
          "dtype": "i1"
         },
         "yaxis": "y"
        },
        {
         "legendgroup": "change_types",
         "marker": {
          "color": "#DC143C"
         },
         "name": "Removed",
         "showlegend": true,
         "type": "bar",
         "x": [
          "2.0.0",
          "3.0.0"
         ],
         "xaxis": "x",
         "y": {
          "bdata": "AgY=",
          "dtype": "i1"
         },
         "yaxis": "y"
        },
        {
         "legendgroup": "breaking",
         "marker": {
          "color": "#DC143C"
         },
         "name": "Breaking",
         "showlegend": true,
         "type": "bar",
         "x": [
          "2.0.0",
          "3.0.0"
         ],
         "xaxis": "x2",
         "y": {
          "bdata": "BQY=",
          "dtype": "i1"
         },
         "yaxis": "y2"
        },
        {
         "legendgroup": "breaking",
         "marker": {
          "color": "#2E8B57"
         },
         "name": "Non-Breaking",
         "showlegend": true,
         "type": "bar",
         "x": [
          "1.1.0",
          "1.2.0",
          "2.0.0",
          "2.1.0",
          "2.2.0",
          "3.0.0"
         ],
         "xaxis": "x2",
         "y": {
          "bdata": "AwMDAgME",
          "dtype": "i1"
         },
         "yaxis": "y2"
        },
        {
         "domain": {
          "x": [
           0,
           0.45
          ],
          "y": [
           0,
           0.375
          ]
         },
         "labels": [
          "function",
          "class",
          "method"
         ],
         "name": "API Types",
         "showlegend": false,
         "textinfo": "label+percent",
         "type": "pie",
         "values": {
          "bdata": "EAwB",
          "dtype": "i1"
         }
        },
        {
         "line": {
          "color": "#1f77b4",
          "width": 3
         },
         "marker": {
          "size": 8
         },
         "mode": "lines+markers",
         "name": "Total Changes",
         "showlegend": false,
         "type": "scatter",
         "x": [
          "1.1.0",
          "1.2.0",
          "2.0.0",
          "2.1.0",
          "2.2.0",
          "3.0.0"
         ],
         "xaxis": "x3",
         "y": {
          "bdata": "AwMIAgMK",
          "dtype": "i1"
         },
         "yaxis": "y3"
        }
       ],
       "layout": {
        "annotations": [
         {
          "font": {
           "size": 16
          },
          "showarrow": false,
          "text": "Changes by Type and Version",
          "x": 0.225,
          "xanchor": "center",
          "xref": "paper",
          "y": 1,
          "yanchor": "bottom",
          "yref": "paper"
         },
         {
          "font": {
           "size": 16
          },
          "showarrow": false,
          "text": "Breaking vs Non-Breaking Changes",
          "x": 0.775,
          "xanchor": "center",
          "xref": "paper",
          "y": 1,
          "yanchor": "bottom",
          "yref": "paper"
         },
         {
          "font": {
           "size": 16
          },
          "showarrow": false,
          "text": "API Types Affected",
          "x": 0.225,
          "xanchor": "center",
          "xref": "paper",
          "y": 0.375,
          "yanchor": "bottom",
          "yref": "paper"
         },
         {
          "font": {
           "size": 16
          },
          "showarrow": false,
          "text": "Change Velocity Over Time",
          "x": 0.775,
          "xanchor": "center",
          "xref": "paper",
          "y": 0.375,
          "yanchor": "bottom",
          "yref": "paper"
         }
        ],
        "height": 800,
        "showlegend": true,
        "template": {
         "data": {
          "bar": [
           {
            "error_x": {
             "color": "#2a3f5f"
            },
            "error_y": {
             "color": "#2a3f5f"
            },
            "marker": {
             "line": {
              "color": "#E5ECF6",
              "width": 0.5
             },
             "pattern": {
              "fillmode": "overlay",
              "size": 10,
              "solidity": 0.2
             }
            },
            "type": "bar"
           }
          ],
          "barpolar": [
           {
            "marker": {
             "line": {
              "color": "#E5ECF6",
              "width": 0.5
             },
             "pattern": {
              "fillmode": "overlay",
              "size": 10,
              "solidity": 0.2
             }
            },
            "type": "barpolar"
           }
          ],
          "carpet": [
           {
            "aaxis": {
             "endlinecolor": "#2a3f5f",
             "gridcolor": "white",
             "linecolor": "white",
             "minorgridcolor": "white",
             "startlinecolor": "#2a3f5f"
            },
            "baxis": {
             "endlinecolor": "#2a3f5f",
             "gridcolor": "white",
             "linecolor": "white",
             "minorgridcolor": "white",
             "startlinecolor": "#2a3f5f"
            },
            "type": "carpet"
           }
          ],
          "choropleth": [
           {
            "colorbar": {
             "outlinewidth": 0,
             "ticks": ""
            },
            "type": "choropleth"
           }
          ],
          "contour": [
           {
            "colorbar": {
             "outlinewidth": 0,
             "ticks": ""
            },
            "colorscale": [
             [
              0,
              "#0d0887"
             ],
             [
              0.1111111111111111,
              "#46039f"
             ],
             [
              0.2222222222222222,
              "#7201a8"
             ],
             [
              0.3333333333333333,
              "#9c179e"
             ],
             [
              0.4444444444444444,
              "#bd3786"
             ],
             [
              0.5555555555555556,
              "#d8576b"
             ],
             [
              0.6666666666666666,
              "#ed7953"
             ],
             [
              0.7777777777777778,
              "#fb9f3a"
             ],
             [
              0.8888888888888888,
              "#fdca26"
             ],
             [
              1,
              "#f0f921"
             ]
            ],
            "type": "contour"
           }
          ],
          "contourcarpet": [
           {
            "colorbar": {
             "outlinewidth": 0,
             "ticks": ""
            },
            "type": "contourcarpet"
           }
          ],
          "heatmap": [
           {
            "colorbar": {
             "outlinewidth": 0,
             "ticks": ""
            },
            "colorscale": [
             [
              0,
              "#0d0887"
             ],
             [
              0.1111111111111111,
              "#46039f"
             ],
             [
              0.2222222222222222,
              "#7201a8"
             ],
             [
              0.3333333333333333,
              "#9c179e"
             ],
             [
              0.4444444444444444,
              "#bd3786"
             ],
             [
              0.5555555555555556,
              "#d8576b"
             ],
             [
              0.6666666666666666,
              "#ed7953"
             ],
             [
              0.7777777777777778,
              "#fb9f3a"
             ],
             [
              0.8888888888888888,
              "#fdca26"
             ],
             [
              1,
              "#f0f921"
             ]
            ],
            "type": "heatmap"
           }
          ],
          "histogram": [
           {
            "marker": {
             "pattern": {
              "fillmode": "overlay",
              "size": 10,
              "solidity": 0.2
             }
            },
            "type": "histogram"
           }
          ],
          "histogram2d": [
           {
            "colorbar": {
             "outlinewidth": 0,
             "ticks": ""
            },
            "colorscale": [
             [
              0,
              "#0d0887"
             ],
             [
              0.1111111111111111,
              "#46039f"
             ],
             [
              0.2222222222222222,
              "#7201a8"
             ],
             [
              0.3333333333333333,
              "#9c179e"
             ],
             [
              0.4444444444444444,
              "#bd3786"
             ],
             [
              0.5555555555555556,
              "#d8576b"
             ],
             [
              0.6666666666666666,
              "#ed7953"
             ],
             [
              0.7777777777777778,
              "#fb9f3a"
             ],
             [
              0.8888888888888888,
              "#fdca26"
             ],
             [
              1,
              "#f0f921"
             ]
            ],
            "type": "histogram2d"
           }
          ],
          "histogram2dcontour": [
           {
            "colorbar": {
             "outlinewidth": 0,
             "ticks": ""
            },
            "colorscale": [
             [
              0,
              "#0d0887"
             ],
             [
              0.1111111111111111,
              "#46039f"
             ],
             [
              0.2222222222222222,
              "#7201a8"
             ],
             [
              0.3333333333333333,
              "#9c179e"
             ],
             [
              0.4444444444444444,
              "#bd3786"
             ],
             [
              0.5555555555555556,
              "#d8576b"
             ],
             [
              0.6666666666666666,
              "#ed7953"
             ],
             [
              0.7777777777777778,
              "#fb9f3a"
             ],
             [
              0.8888888888888888,
              "#fdca26"
             ],
             [
              1,
              "#f0f921"
             ]
            ],
            "type": "histogram2dcontour"
           }
          ],
          "mesh3d": [
           {
            "colorbar": {
             "outlinewidth": 0,
             "ticks": ""
            },
            "type": "mesh3d"
           }
          ],
          "parcoords": [
           {
            "line": {
             "colorbar": {
              "outlinewidth": 0,
              "ticks": ""
             }
            },
            "type": "parcoords"
           }
          ],
          "pie": [
           {
            "automargin": true,
            "type": "pie"
           }
          ],
          "scatter": [
           {
            "fillpattern": {
             "fillmode": "overlay",
             "size": 10,
             "solidity": 0.2
            },
            "type": "scatter"
           }
          ],
          "scatter3d": [
           {
            "line": {
             "colorbar": {
              "outlinewidth": 0,
              "ticks": ""
             }
            },
            "marker": {
             "colorbar": {
              "outlinewidth": 0,
              "ticks": ""
             }
            },
            "type": "scatter3d"
           }
          ],
          "scattercarpet": [
           {
            "marker": {
             "colorbar": {
              "outlinewidth": 0,
              "ticks": ""
             }
            },
            "type": "scattercarpet"
           }
          ],
          "scattergeo": [
           {
            "marker": {
             "colorbar": {
              "outlinewidth": 0,
              "ticks": ""
             }
            },
            "type": "scattergeo"
           }
          ],
          "scattergl": [
           {
            "marker": {
             "colorbar": {
              "outlinewidth": 0,
              "ticks": ""
             }
            },
            "type": "scattergl"
           }
          ],
          "scattermap": [
           {
            "marker": {
             "colorbar": {
              "outlinewidth": 0,
              "ticks": ""
             }
            },
            "type": "scattermap"
           }
          ],
          "scattermapbox": [
           {
            "marker": {
             "colorbar": {
              "outlinewidth": 0,
              "ticks": ""
             }
            },
            "type": "scattermapbox"
           }
          ],
          "scatterpolar": [
           {
            "marker": {
             "colorbar": {
              "outlinewidth": 0,
              "ticks": ""
             }
            },
            "type": "scatterpolar"
           }
          ],
          "scatterpolargl": [
           {
            "marker": {
             "colorbar": {
              "outlinewidth": 0,
              "ticks": ""
             }
            },
            "type": "scatterpolargl"
           }
          ],
          "scatterternary": [
           {
            "marker": {
             "colorbar": {
              "outlinewidth": 0,
              "ticks": ""
             }
            },
            "type": "scatterternary"
           }
          ],
          "surface": [
           {
            "colorbar": {
             "outlinewidth": 0,
             "ticks": ""
            },
            "colorscale": [
             [
              0,
              "#0d0887"
             ],
             [
              0.1111111111111111,
              "#46039f"
             ],
             [
              0.2222222222222222,
              "#7201a8"
             ],
             [
              0.3333333333333333,
              "#9c179e"
             ],
             [
              0.4444444444444444,
              "#bd3786"
             ],
             [
              0.5555555555555556,
              "#d8576b"
             ],
             [
              0.6666666666666666,
              "#ed7953"
             ],
             [
              0.7777777777777778,
              "#fb9f3a"
             ],
             [
              0.8888888888888888,
              "#fdca26"
             ],
             [
              1,
              "#f0f921"
             ]
            ],
            "type": "surface"
           }
          ],
          "table": [
           {
            "cells": {
             "fill": {
              "color": "#EBF0F8"
             },
             "line": {
              "color": "white"
             }
            },
            "header": {
             "fill": {
              "color": "#C8D4E3"
             },
             "line": {
              "color": "white"
             }
            },
            "type": "table"
           }
          ]
         },
         "layout": {
          "annotationdefaults": {
           "arrowcolor": "#2a3f5f",
           "arrowhead": 0,
           "arrowwidth": 1
          },
          "autotypenumbers": "strict",
          "coloraxis": {
           "colorbar": {
            "outlinewidth": 0,
            "ticks": ""
           }
          },
          "colorscale": {
           "diverging": [
            [
             0,
             "#8e0152"
            ],
            [
             0.1,
             "#c51b7d"
            ],
            [
             0.2,
             "#de77ae"
            ],
            [
             0.3,
             "#f1b6da"
            ],
            [
             0.4,
             "#fde0ef"
            ],
            [
             0.5,
             "#f7f7f7"
            ],
            [
             0.6,
             "#e6f5d0"
            ],
            [
             0.7,
             "#b8e186"
            ],
            [
             0.8,
             "#7fbc41"
            ],
            [
             0.9,
             "#4d9221"
            ],
            [
             1,
             "#276419"
            ]
           ],
           "sequential": [
            [
             0,
             "#0d0887"
            ],
            [
             0.1111111111111111,
             "#46039f"
            ],
            [
             0.2222222222222222,
             "#7201a8"
            ],
            [
             0.3333333333333333,
             "#9c179e"
            ],
            [
             0.4444444444444444,
             "#bd3786"
            ],
            [
             0.5555555555555556,
             "#d8576b"
            ],
            [
             0.6666666666666666,
             "#ed7953"
            ],
            [
             0.7777777777777778,
             "#fb9f3a"
            ],
            [
             0.8888888888888888,
             "#fdca26"
            ],
            [
             1,
             "#f0f921"
            ]
           ],
           "sequentialminus": [
            [
             0,
             "#0d0887"
            ],
            [
             0.1111111111111111,
             "#46039f"
            ],
            [
             0.2222222222222222,
             "#7201a8"
            ],
            [
             0.3333333333333333,
             "#9c179e"
            ],
            [
             0.4444444444444444,
             "#bd3786"
            ],
            [
             0.5555555555555556,
             "#d8576b"
            ],
            [
             0.6666666666666666,
             "#ed7953"
            ],
            [
             0.7777777777777778,
             "#fb9f3a"
            ],
            [
             0.8888888888888888,
             "#fdca26"
            ],
            [
             1,
             "#f0f921"
            ]
           ]
          },
          "colorway": [
           "#636efa",
           "#EF553B",
           "#00cc96",
           "#ab63fa",
           "#FFA15A",
           "#19d3f3",
           "#FF6692",
           "#B6E880",
           "#FF97FF",
           "#FECB52"
          ],
          "font": {
           "color": "#2a3f5f"
          },
          "geo": {
           "bgcolor": "white",
           "lakecolor": "white",
           "landcolor": "#E5ECF6",
           "showlakes": true,
           "showland": true,
           "subunitcolor": "white"
          },
          "hoverlabel": {
           "align": "left"
          },
          "hovermode": "closest",
          "mapbox": {
           "style": "light"
          },
          "paper_bgcolor": "white",
          "plot_bgcolor": "#E5ECF6",
          "polar": {
           "angularaxis": {
            "gridcolor": "white",
            "linecolor": "white",
            "ticks": ""
           },
           "bgcolor": "#E5ECF6",
           "radialaxis": {
            "gridcolor": "white",
            "linecolor": "white",
            "ticks": ""
           }
          },
          "scene": {
           "xaxis": {
            "backgroundcolor": "#E5ECF6",
            "gridcolor": "white",
            "gridwidth": 2,
            "linecolor": "white",
            "showbackground": true,
            "ticks": "",
            "zerolinecolor": "white"
           },
           "yaxis": {
            "backgroundcolor": "#E5ECF6",
            "gridcolor": "white",
            "gridwidth": 2,
            "linecolor": "white",
            "showbackground": true,
            "ticks": "",
            "zerolinecolor": "white"
           },
           "zaxis": {
            "backgroundcolor": "#E5ECF6",
            "gridcolor": "white",
            "gridwidth": 2,
            "linecolor": "white",
            "showbackground": true,
            "ticks": "",
            "zerolinecolor": "white"
           }
          },
          "shapedefaults": {
           "line": {
            "color": "#2a3f5f"
           }
          },
          "ternary": {
           "aaxis": {
            "gridcolor": "white",
            "linecolor": "white",
            "ticks": ""
           },
           "baxis": {
            "gridcolor": "white",
            "linecolor": "white",
            "ticks": ""
           },
           "bgcolor": "#E5ECF6",
           "caxis": {
            "gridcolor": "white",
            "linecolor": "white",
            "ticks": ""
           }
          },
          "title": {
           "x": 0.05
          },
          "xaxis": {
           "automargin": true,
           "gridcolor": "white",
           "linecolor": "white",
           "ticks": "",
           "title": {
            "standoff": 15
           },
           "zerolinecolor": "white",
           "zerolinewidth": 2
          },
          "yaxis": {
           "automargin": true,
           "gridcolor": "white",
           "linecolor": "white",
           "ticks": "",
           "title": {
            "standoff": 15
           },
           "zerolinecolor": "white",
           "zerolinewidth": 2
          }
         }
        },
        "title": {
         "font": {
          "size": 18
         },
         "text": "API Change Patterns Dashboard - mylib",
         "x": 0.5
        },
        "xaxis": {
         "anchor": "y",
         "domain": [
          0,
          0.45
         ],
         "title": {
          "text": "Version"
         }
        },
        "xaxis2": {
         "anchor": "y2",
         "domain": [
          0.55,
          1
         ],
         "title": {
          "text": "Version"
         }
        },
        "xaxis3": {
         "anchor": "y3",
         "domain": [
          0.55,
          1
         ],
         "title": {
          "text": "Version"
         }
        },
        "yaxis": {
         "anchor": "x",
         "domain": [
          0.625,
          1
         ],
         "title": {
          "text": "Number of Changes"
         }
        },
        "yaxis2": {
         "anchor": "x2",
         "domain": [
          0.625,
          1
         ],
         "title": {
          "text": "Number of Changes"
         }
        },
        "yaxis3": {
         "anchor": "x3",
         "domain": [
          0,
          0.375
         ],
         "title": {
          "text": "Total Changes"
         }
        }
       }
      },
      "text/html": [
       "<div>            <script src=\"https://cdnjs.cloudflare.com/ajax/libs/mathjax/2.7.5/MathJax.js?config=TeX-AMS-MML_SVG\"></script><script type=\"text/javascript\">if (window.MathJax && window.MathJax.Hub && window.MathJax.Hub.Config) {window.MathJax.Hub.Config({SVG: {font: \"STIX-Web\"}});}</script>                <script type=\"text/javascript\">window.PlotlyConfig = {MathJaxConfig: 'local'};</script>\n",
       "        <script charset=\"utf-8\" src=\"https://cdn.plot.ly/plotly-3.0.1.min.js\" integrity=\"sha256-oy6Be7Eh6eiQFs5M7oXuPxxm9qbJXEtTpfSI93dW16Q=\" crossorigin=\"anonymous\"></script>                <div id=\"9138138d-988c-4046-b481-aa1956870ee0\" class=\"plotly-graph-div\" style=\"height:800px; width:100%;\"></div>            <script type=\"text/javascript\">                window.PLOTLYENV=window.PLOTLYENV || {};                                if (document.getElementById(\"9138138d-988c-4046-b481-aa1956870ee0\")) {                    Plotly.newPlot(                        \"9138138d-988c-4046-b481-aa1956870ee0\",                        [{\"legendgroup\":\"change_types\",\"marker\":{\"color\":\"#2E8B57\"},\"name\":\"Added\",\"showlegend\":true,\"x\":[\"1.1.0\",\"1.2.0\",\"2.0.0\",\"2.1.0\",\"2.2.0\",\"3.0.0\"],\"y\":{\"dtype\":\"i1\",\"bdata\":\"AwMDAgME\"},\"type\":\"bar\",\"xaxis\":\"x\",\"yaxis\":\"y\"},{\"legendgroup\":\"change_types\",\"marker\":{\"color\":\"#FF8C00\"},\"name\":\"Modified\",\"showlegend\":true,\"x\":[\"2.0.0\"],\"y\":{\"dtype\":\"i1\",\"bdata\":\"Aw==\"},\"type\":\"bar\",\"xaxis\":\"x\",\"yaxis\":\"y\"},{\"legendgroup\":\"change_types\",\"marker\":{\"color\":\"#DC143C\"},\"name\":\"Removed\",\"showlegend\":true,\"x\":[\"2.0.0\",\"3.0.0\"],\"y\":{\"dtype\":\"i1\",\"bdata\":\"AgY=\"},\"type\":\"bar\",\"xaxis\":\"x\",\"yaxis\":\"y\"},{\"legendgroup\":\"breaking\",\"marker\":{\"color\":\"#DC143C\"},\"name\":\"Breaking\",\"showlegend\":true,\"x\":[\"2.0.0\",\"3.0.0\"],\"y\":{\"dtype\":\"i1\",\"bdata\":\"BQY=\"},\"type\":\"bar\",\"xaxis\":\"x2\",\"yaxis\":\"y2\"},{\"legendgroup\":\"breaking\",\"marker\":{\"color\":\"#2E8B57\"},\"name\":\"Non-Breaking\",\"showlegend\":true,\"x\":[\"1.1.0\",\"1.2.0\",\"2.0.0\",\"2.1.0\",\"2.2.0\",\"3.0.0\"],\"y\":{\"dtype\":\"i1\",\"bdata\":\"AwMDAgME\"},\"type\":\"bar\",\"xaxis\":\"x2\",\"yaxis\":\"y2\"},{\"labels\":[\"function\",\"class\",\"method\"],\"name\":\"API Types\",\"showlegend\":false,\"textinfo\":\"label+percent\",\"values\":{\"dtype\":\"i1\",\"bdata\":\"EAwB\"},\"type\":\"pie\",\"domain\":{\"x\":[0.0,0.45],\"y\":[0.0,0.375]}},{\"line\":{\"color\":\"#1f77b4\",\"width\":3},\"marker\":{\"size\":8},\"mode\":\"lines+markers\",\"name\":\"Total Changes\",\"showlegend\":false,\"x\":[\"1.1.0\",\"1.2.0\",\"2.0.0\",\"2.1.0\",\"2.2.0\",\"3.0.0\"],\"y\":{\"dtype\":\"i1\",\"bdata\":\"AwMIAgMK\"},\"type\":\"scatter\",\"xaxis\":\"x3\",\"yaxis\":\"y3\"}],                        {\"template\":{\"data\":{\"histogram2dcontour\":[{\"type\":\"histogram2dcontour\",\"colorbar\":{\"outlinewidth\":0,\"ticks\":\"\"},\"colorscale\":[[0.0,\"#0d0887\"],[0.1111111111111111,\"#46039f\"],[0.2222222222222222,\"#7201a8\"],[0.3333333333333333,\"#9c179e\"],[0.4444444444444444,\"#bd3786\"],[0.5555555555555556,\"#d8576b\"],[0.6666666666666666,\"#ed7953\"],[0.7777777777777778,\"#fb9f3a\"],[0.8888888888888888,\"#fdca26\"],[1.0,\"#f0f921\"]]}],\"choropleth\":[{\"type\":\"choropleth\",\"colorbar\":{\"outlinewidth\":0,\"ticks\":\"\"}}],\"histogram2d\":[{\"type\":\"histogram2d\",\"colorbar\":{\"outlinewidth\":0,\"ticks\":\"\"},\"colorscale\":[[0.0,\"#0d0887\"],[0.1111111111111111,\"#46039f\"],[0.2222222222222222,\"#7201a8\"],[0.3333333333333333,\"#9c179e\"],[0.4444444444444444,\"#bd3786\"],[0.5555555555555556,\"#d8576b\"],[0.6666666666666666,\"#ed7953\"],[0.7777777777777778,\"#fb9f3a\"],[0.8888888888888888,\"#fdca26\"],[1.0,\"#f0f921\"]]}],\"heatmap\":[{\"type\":\"heatmap\",\"colorbar\":{\"outlinewidth\":0,\"ticks\":\"\"},\"colorscale\":[[0.0,\"#0d0887\"],[0.1111111111111111,\"#46039f\"],[0.2222222222222222,\"#7201a8\"],[0.3333333333333333,\"#9c179e\"],[0.4444444444444444,\"#bd3786\"],[0.5555555555555556,\"#d8576b\"],[0.6666666666666666,\"#ed7953\"],[0.7777777777777778,\"#fb9f3a\"],[0.8888888888888888,\"#fdca26\"],[1.0,\"#f0f921\"]]}],\"contourcarpet\":[{\"type\":\"contourcarpet\",\"colorbar\":{\"outlinewidth\":0,\"ticks\":\"\"}}],\"contour\":[{\"type\":\"contour\",\"colorbar\":{\"outlinewidth\":0,\"ticks\":\"\"},\"colorscale\":[[0.0,\"#0d0887\"],[0.1111111111111111,\"#46039f\"],[0.2222222222222222,\"#7201a8\"],[0.3333333333333333,\"#9c179e\"],[0.4444444444444444,\"#bd3786\"],[0.5555555555555556,\"#d8576b\"],[0.6666666666666666,\"#ed7953\"],[0.7777777777777778,\"#fb9f3a\"],[0.8888888888888888,\"#fdca26\"],[1.0,\"#f0f921\"]]}],\"surface\":[{\"type\":\"surface\",\"colorbar\":{\"outlinewidth\":0,\"ticks\":\"\"},\"colorscale\":[[0.0,\"#0d0887\"],[0.1111111111111111,\"#46039f\"],[0.2222222222222222,\"#7201a8\"],[0.3333333333333333,\"#9c179e\"],[0.4444444444444444,\"#bd3786\"],[0.5555555555555556,\"#d8576b\"],[0.6666666666666666,\"#ed7953\"],[0.7777777777777778,\"#fb9f3a\"],[0.8888888888888888,\"#fdca26\"],[1.0,\"#f0f921\"]]}],\"mesh3d\":[{\"type\":\"mesh3d\",\"colorbar\":{\"outlinewidth\":0,\"ticks\":\"\"}}],\"scatter\":[{\"fillpattern\":{\"fillmode\":\"overlay\",\"size\":10,\"solidity\":0.2},\"type\":\"scatter\"}],\"parcoords\":[{\"type\":\"parcoords\",\"line\":{\"colorbar\":{\"outlinewidth\":0,\"ticks\":\"\"}}}],\"scatterpolargl\":[{\"type\":\"scatterpolargl\",\"marker\":{\"colorbar\":{\"outlinewidth\":0,\"ticks\":\"\"}}}],\"bar\":[{\"error_x\":{\"color\":\"#2a3f5f\"},\"error_y\":{\"color\":\"#2a3f5f\"},\"marker\":{\"line\":{\"color\":\"#E5ECF6\",\"width\":0.5},\"pattern\":{\"fillmode\":\"overlay\",\"size\":10,\"solidity\":0.2}},\"type\":\"bar\"}],\"scattergeo\":[{\"type\":\"scattergeo\",\"marker\":{\"colorbar\":{\"outlinewidth\":0,\"ticks\":\"\"}}}],\"scatterpolar\":[{\"type\":\"scatterpolar\",\"marker\":{\"colorbar\":{\"outlinewidth\":0,\"ticks\":\"\"}}}],\"histogram\":[{\"marker\":{\"pattern\":{\"fillmode\":\"overlay\",\"size\":10,\"solidity\":0.2}},\"type\":\"histogram\"}],\"scattergl\":[{\"type\":\"scattergl\",\"marker\":{\"colorbar\":{\"outlinewidth\":0,\"ticks\":\"\"}}}],\"scatter3d\":[{\"type\":\"scatter3d\",\"line\":{\"colorbar\":{\"outlinewidth\":0,\"ticks\":\"\"}},\"marker\":{\"colorbar\":{\"outlinewidth\":0,\"ticks\":\"\"}}}],\"scattermap\":[{\"type\":\"scattermap\",\"marker\":{\"colorbar\":{\"outlinewidth\":0,\"ticks\":\"\"}}}],\"scattermapbox\":[{\"type\":\"scattermapbox\",\"marker\":{\"colorbar\":{\"outlinewidth\":0,\"ticks\":\"\"}}}],\"scatterternary\":[{\"type\":\"scatterternary\",\"marker\":{\"colorbar\":{\"outlinewidth\":0,\"ticks\":\"\"}}}],\"scattercarpet\":[{\"type\":\"scattercarpet\",\"marker\":{\"colorbar\":{\"outlinewidth\":0,\"ticks\":\"\"}}}],\"carpet\":[{\"aaxis\":{\"endlinecolor\":\"#2a3f5f\",\"gridcolor\":\"white\",\"linecolor\":\"white\",\"minorgridcolor\":\"white\",\"startlinecolor\":\"#2a3f5f\"},\"baxis\":{\"endlinecolor\":\"#2a3f5f\",\"gridcolor\":\"white\",\"linecolor\":\"white\",\"minorgridcolor\":\"white\",\"startlinecolor\":\"#2a3f5f\"},\"type\":\"carpet\"}],\"table\":[{\"cells\":{\"fill\":{\"color\":\"#EBF0F8\"},\"line\":{\"color\":\"white\"}},\"header\":{\"fill\":{\"color\":\"#C8D4E3\"},\"line\":{\"color\":\"white\"}},\"type\":\"table\"}],\"barpolar\":[{\"marker\":{\"line\":{\"color\":\"#E5ECF6\",\"width\":0.5},\"pattern\":{\"fillmode\":\"overlay\",\"size\":10,\"solidity\":0.2}},\"type\":\"barpolar\"}],\"pie\":[{\"automargin\":true,\"type\":\"pie\"}]},\"layout\":{\"autotypenumbers\":\"strict\",\"colorway\":[\"#636efa\",\"#EF553B\",\"#00cc96\",\"#ab63fa\",\"#FFA15A\",\"#19d3f3\",\"#FF6692\",\"#B6E880\",\"#FF97FF\",\"#FECB52\"],\"font\":{\"color\":\"#2a3f5f\"},\"hovermode\":\"closest\",\"hoverlabel\":{\"align\":\"left\"},\"paper_bgcolor\":\"white\",\"plot_bgcolor\":\"#E5ECF6\",\"polar\":{\"bgcolor\":\"#E5ECF6\",\"angularaxis\":{\"gridcolor\":\"white\",\"linecolor\":\"white\",\"ticks\":\"\"},\"radialaxis\":{\"gridcolor\":\"white\",\"linecolor\":\"white\",\"ticks\":\"\"}},\"ternary\":{\"bgcolor\":\"#E5ECF6\",\"aaxis\":{\"gridcolor\":\"white\",\"linecolor\":\"white\",\"ticks\":\"\"},\"baxis\":{\"gridcolor\":\"white\",\"linecolor\":\"white\",\"ticks\":\"\"},\"caxis\":{\"gridcolor\":\"white\",\"linecolor\":\"white\",\"ticks\":\"\"}},\"coloraxis\":{\"colorbar\":{\"outlinewidth\":0,\"ticks\":\"\"}},\"colorscale\":{\"sequential\":[[0.0,\"#0d0887\"],[0.1111111111111111,\"#46039f\"],[0.2222222222222222,\"#7201a8\"],[0.3333333333333333,\"#9c179e\"],[0.4444444444444444,\"#bd3786\"],[0.5555555555555556,\"#d8576b\"],[0.6666666666666666,\"#ed7953\"],[0.7777777777777778,\"#fb9f3a\"],[0.8888888888888888,\"#fdca26\"],[1.0,\"#f0f921\"]],\"sequentialminus\":[[0.0,\"#0d0887\"],[0.1111111111111111,\"#46039f\"],[0.2222222222222222,\"#7201a8\"],[0.3333333333333333,\"#9c179e\"],[0.4444444444444444,\"#bd3786\"],[0.5555555555555556,\"#d8576b\"],[0.6666666666666666,\"#ed7953\"],[0.7777777777777778,\"#fb9f3a\"],[0.8888888888888888,\"#fdca26\"],[1.0,\"#f0f921\"]],\"diverging\":[[0,\"#8e0152\"],[0.1,\"#c51b7d\"],[0.2,\"#de77ae\"],[0.3,\"#f1b6da\"],[0.4,\"#fde0ef\"],[0.5,\"#f7f7f7\"],[0.6,\"#e6f5d0\"],[0.7,\"#b8e186\"],[0.8,\"#7fbc41\"],[0.9,\"#4d9221\"],[1,\"#276419\"]]},\"xaxis\":{\"gridcolor\":\"white\",\"linecolor\":\"white\",\"ticks\":\"\",\"title\":{\"standoff\":15},\"zerolinecolor\":\"white\",\"automargin\":true,\"zerolinewidth\":2},\"yaxis\":{\"gridcolor\":\"white\",\"linecolor\":\"white\",\"ticks\":\"\",\"title\":{\"standoff\":15},\"zerolinecolor\":\"white\",\"automargin\":true,\"zerolinewidth\":2},\"scene\":{\"xaxis\":{\"backgroundcolor\":\"#E5ECF6\",\"gridcolor\":\"white\",\"linecolor\":\"white\",\"showbackground\":true,\"ticks\":\"\",\"zerolinecolor\":\"white\",\"gridwidth\":2},\"yaxis\":{\"backgroundcolor\":\"#E5ECF6\",\"gridcolor\":\"white\",\"linecolor\":\"white\",\"showbackground\":true,\"ticks\":\"\",\"zerolinecolor\":\"white\",\"gridwidth\":2},\"zaxis\":{\"backgroundcolor\":\"#E5ECF6\",\"gridcolor\":\"white\",\"linecolor\":\"white\",\"showbackground\":true,\"ticks\":\"\",\"zerolinecolor\":\"white\",\"gridwidth\":2}},\"shapedefaults\":{\"line\":{\"color\":\"#2a3f5f\"}},\"annotationdefaults\":{\"arrowcolor\":\"#2a3f5f\",\"arrowhead\":0,\"arrowwidth\":1},\"geo\":{\"bgcolor\":\"white\",\"landcolor\":\"#E5ECF6\",\"subunitcolor\":\"white\",\"showland\":true,\"showlakes\":true,\"lakecolor\":\"white\"},\"title\":{\"x\":0.05},\"mapbox\":{\"style\":\"light\"}}},\"xaxis\":{\"anchor\":\"y\",\"domain\":[0.0,0.45],\"title\":{\"text\":\"Version\"}},\"yaxis\":{\"anchor\":\"x\",\"domain\":[0.625,1.0],\"title\":{\"text\":\"Number of Changes\"}},\"xaxis2\":{\"anchor\":\"y2\",\"domain\":[0.55,1.0],\"title\":{\"text\":\"Version\"}},\"yaxis2\":{\"anchor\":\"x2\",\"domain\":[0.625,1.0],\"title\":{\"text\":\"Number of Changes\"}},\"xaxis3\":{\"anchor\":\"y3\",\"domain\":[0.55,1.0],\"title\":{\"text\":\"Version\"}},\"yaxis3\":{\"anchor\":\"x3\",\"domain\":[0.0,0.375],\"title\":{\"text\":\"Total Changes\"}},\"annotations\":[{\"font\":{\"size\":16},\"showarrow\":false,\"text\":\"Changes by Type and Version\",\"x\":0.225,\"xanchor\":\"center\",\"xref\":\"paper\",\"y\":1.0,\"yanchor\":\"bottom\",\"yref\":\"paper\"},{\"font\":{\"size\":16},\"showarrow\":false,\"text\":\"Breaking vs Non-Breaking Changes\",\"x\":0.775,\"xanchor\":\"center\",\"xref\":\"paper\",\"y\":1.0,\"yanchor\":\"bottom\",\"yref\":\"paper\"},{\"font\":{\"size\":16},\"showarrow\":false,\"text\":\"API Types Affected\",\"x\":0.225,\"xanchor\":\"center\",\"xref\":\"paper\",\"y\":0.375,\"yanchor\":\"bottom\",\"yref\":\"paper\"},{\"font\":{\"size\":16},\"showarrow\":false,\"text\":\"Change Velocity Over Time\",\"x\":0.775,\"xanchor\":\"center\",\"xref\":\"paper\",\"y\":0.375,\"yanchor\":\"bottom\",\"yref\":\"paper\"}],\"title\":{\"font\":{\"size\":18},\"text\":\"API Change Patterns Dashboard - mylib\",\"x\":0.5},\"height\":800,\"showlegend\":true},                        {\"responsive\": true}                    ).then(function(){\n",
       "                            \n",
       "var gd = document.getElementById('9138138d-988c-4046-b481-aa1956870ee0');\n",
       "var x = new MutationObserver(function (mutations, observer) {{\n",
       "        var display = window.getComputedStyle(gd).display;\n",
       "        if (!display || display === 'none') {{\n",
       "            console.log([gd, 'removed!']);\n",
       "            Plotly.purge(gd);\n",
       "            observer.disconnect();\n",
       "        }}\n",
       "}});\n",
       "\n",
       "// Listen for the removal of the full notebook cells\n",
       "var notebookContainer = gd.closest('#notebook-container');\n",
       "if (notebookContainer) {{\n",
       "    x.observe(notebookContainer, {childList: true});\n",
       "}}\n",
       "\n",
       "// Listen for the clearing of the current output cell\n",
       "var outputEl = gd.closest('.output');\n",
       "if (outputEl) {{\n",
       "    x.observe(outputEl, {childList: true});\n",
       "}}\n",
       "\n",
       "                        })                };            </script>        </div>"
      ]
     },
     "metadata": {},
     "output_type": "display_data"
    },
    {
     "name": "stdout",
     "output_type": "stream",
     "text": [
      "📊 Change patterns dashboard created!\n",
      "\n",
      "🔍 Key Insights:\n",
      "• Total changes across all versions: 29\n",
      "• Breaking changes: 11\n",
      "• Most active version: 3.0.0\n",
      "• Most affected API type: function\n"
     ]
    }
   ],
   "source": [
    "def create_change_patterns_dashboard(result):\n",
    "    \"\"\"Create a comprehensive dashboard showing change patterns.\"\"\"\n",
    "    \n",
    "    # Prepare change data\n",
    "    change_data = []\n",
    "    for change in result.changes:\n",
    "        change_data.append({\n",
    "            'version': change.to_version,\n",
    "            'change_type': change.change_type.value,\n",
    "            'api_name': change.element.name,\n",
    "            'api_type': change.element.type.value,\n",
    "            'is_breaking': not change.is_backwards_compatible,\n",
    "            'description': change.description\n",
    "        })\n",
    "    \n",
    "    df = pd.DataFrame(change_data)\n",
    "    \n",
    "    if df.empty:\n",
    "        print(\"No change data available\")\n",
    "        return None\n",
    "    \n",
    "    # Create subplots\n",
    "    fig = make_subplots(\n",
    "        rows=2, cols=2,\n",
    "        subplot_titles=(\n",
    "            'Changes by Type and Version',\n",
    "            'Breaking vs Non-Breaking Changes',\n",
    "            'API Types Affected',\n",
    "            'Change Velocity Over Time'\n",
    "        ),\n",
    "        specs=[\n",
    "            [{\"type\": \"bar\"}, {\"type\": \"bar\"}],\n",
    "            [{\"type\": \"pie\"}, {\"type\": \"scatter\"}]\n",
    "        ]\n",
    "    )\n",
    "    \n",
    "    # 1. Changes by type and version (stacked bar)\n",
    "    change_type_colors = {\n",
    "        'added': '#2E8B57',\n",
    "        'modified': '#FF8C00',\n",
    "        'removed': '#DC143C',\n",
    "        'deprecated': '#B8860B'\n",
    "    }\n",
    "    \n",
    "    for change_type in df['change_type'].unique():\n",
    "        type_data = df[df['change_type'] == change_type]\n",
    "        version_counts = type_data.groupby('version').size().reset_index(name='count')\n",
    "        \n",
    "        fig.add_trace(\n",
    "            go.Bar(\n",
    "                x=version_counts['version'],\n",
    "                y=version_counts['count'],\n",
    "                name=change_type.title(),\n",
    "                marker_color=change_type_colors.get(change_type, '#gray'),\n",
    "                legendgroup='change_types',\n",
    "                showlegend=True\n",
    "            ),\n",
    "            row=1, col=1\n",
    "        )\n",
    "    \n",
    "    # 2. Breaking vs non-breaking changes\n",
    "    breaking_counts = df.groupby(['version', 'is_breaking']).size().reset_index(name='count')\n",
    "    \n",
    "    for is_breaking in [True, False]:\n",
    "        breaking_data = breaking_counts[breaking_counts['is_breaking'] == is_breaking]\n",
    "        color = '#DC143C' if is_breaking else '#2E8B57'\n",
    "        name = 'Breaking' if is_breaking else 'Non-Breaking'\n",
    "        \n",
    "        fig.add_trace(\n",
    "            go.Bar(\n",
    "                x=breaking_data['version'],\n",
    "                y=breaking_data['count'],\n",
    "                name=name,\n",
    "                marker_color=color,\n",
    "                legendgroup='breaking',\n",
    "                showlegend=True\n",
    "            ),\n",
    "            row=1, col=2\n",
    "        )\n",
    "    \n",
    "    # 3. API types affected (pie chart)\n",
    "    api_type_counts = df['api_type'].value_counts()\n",
    "    fig.add_trace(\n",
    "        go.Pie(\n",
    "            labels=api_type_counts.index,\n",
    "            values=api_type_counts.values,\n",
    "            name=\"API Types\",\n",
    "            showlegend=False,\n",
    "            textinfo='label+percent'\n",
    "        ),\n",
    "        row=2, col=1\n",
    "    )\n",
    "    \n",
    "    # 4. Change velocity over time (line chart)\n",
    "    velocity_data = df.groupby('version').size().reset_index(name='total_changes')\n",
    "    \n",
    "    fig.add_trace(\n",
    "        go.Scatter(\n",
    "            x=velocity_data['version'],\n",
    "            y=velocity_data['total_changes'],\n",
    "            mode='lines+markers',\n",
    "            name='Total Changes',\n",
    "            line=dict(color='#1f77b4', width=3),\n",
    "            marker=dict(size=8),\n",
    "            showlegend=False\n",
    "        ),\n",
    "        row=2, col=2\n",
    "    )\n",
    "    \n",
    "    # Update layout\n",
    "    fig.update_layout(\n",
    "        title={\n",
    "            'text': f'API Change Patterns Dashboard - {result.package_name}',\n",
    "            'x': 0.5,\n",
    "            'font': {'size': 18}\n",
    "        },\n",
    "        height=800,\n",
    "        showlegend=True\n",
    "    )\n",
    "    \n",
    "    # Update subplot titles and axes\n",
    "    fig.update_xaxes(title_text=\"Version\", row=1, col=1)\n",
    "    fig.update_yaxes(title_text=\"Number of Changes\", row=1, col=1)\n",
    "    fig.update_xaxes(title_text=\"Version\", row=1, col=2)\n",
    "    fig.update_yaxes(title_text=\"Number of Changes\", row=1, col=2)\n",
    "    fig.update_xaxes(title_text=\"Version\", row=2, col=2)\n",
    "    fig.update_yaxes(title_text=\"Total Changes\", row=2, col=2)\n",
    "    \n",
    "    return fig, df\n",
    "\n",
    "# Create the change patterns dashboard\n",
    "patterns_fig, patterns_df = create_change_patterns_dashboard(demo_result)\n",
    "if patterns_fig:\n",
    "    patterns_fig.show()\n",
    "    print(\"📊 Change patterns dashboard created!\")\n",
    "    \n",
    "    # Show some insights\n",
    "    if patterns_df is not None and not patterns_df.empty:\n",
    "        print(\"\\n🔍 Key Insights:\")\n",
    "        print(f\"• Total changes across all versions: {len(patterns_df)}\")\n",
    "        print(f\"• Breaking changes: {patterns_df['is_breaking'].sum()}\")\n",
    "        print(f\"• Most active version: {patterns_df['version'].value_counts().index[0]}\")\n",
    "        print(f\"• Most affected API type: {patterns_df['api_type'].value_counts().index[0]}\")\n",
    "else:\n",
    "    print(\"❌ Could not create change patterns visualization\")"
   ]
  },
  {
   "cell_type": "markdown",
   "id": "da7066bb",
   "metadata": {},
   "source": [
    "## 5. Publication-Quality Static Visualizations\n",
    "\n",
    "For reports, papers, and documentation, static plots with matplotlib and seaborn provide publication-quality graphics."
   ]
  },
  {
   "cell_type": "code",
   "execution_count": 6,
   "id": "f8a5b4d5",
   "metadata": {},
   "outputs": [
    {
     "data": {
      "image/png": "[encoded data removed]",
      "text/plain": [
       "<Figure size 1500x1200 with 5 Axes>"
      ]
     },
     "metadata": {},
     "output_type": "display_data"
    },
    {
     "data": {
      "image/png": "[encoded data removed]",
      "text/plain": [
       "<Figure size 1400x800 with 1 Axes>"
      ]
     },
     "metadata": {},
     "output_type": "display_data"
    },
    {
     "name": "stdout",
     "output_type": "stream",
     "text": [
      "📊 Static visualizations created!\n"
     ]
    }
   ],
   "source": [
    "def create_static_visualizations(result):\n",
    "    \"\"\"Create publication-quality static visualizations with matplotlib/seaborn.\"\"\"\n",
    "    \n",
    "    if not HAS_MPL:\n",
    "        print(\"⚠️  Matplotlib/Seaborn not available. Please install with: pip install matplotlib seaborn\")\n",
    "        return\n",
    "    \n",
    "    # Prepare data\n",
    "    change_data = []\n",
    "    for change in result.changes:\n",
    "        change_data.append({\n",
    "            'version': change.to_version,\n",
    "            'change_type': change.change_type.value,\n",
    "            'api_type': change.element.type.value,\n",
    "            'is_breaking': not change.is_backwards_compatible\n",
    "        })\n",
    "    \n",
    "    df = pd.DataFrame(change_data)\n",
    "    \n",
    "    if df.empty:\n",
    "        print(\"No data available for static visualizations\")\n",
    "        return\n",
    "    \n",
    "    # Create a figure with multiple subplots\n",
    "    plt.style.use('seaborn-v0_8')  # Use updated seaborn style\n",
    "    fig, axes = plt.subplots(2, 2, figsize=(15, 12))\n",
    "    fig.suptitle(f'API Evolution Analysis - {result.package_name}', fontsize=16, fontweight='bold')\n",
    "    \n",
    "    # 1. Change types over versions (stacked bar)\n",
    "    ax1 = axes[0, 0]\n",
    "    change_pivot = df.groupby(['version', 'change_type']).size().unstack(fill_value=0)\n",
    "    change_pivot.plot(kind='bar', stacked=True, ax=ax1, \n",
    "                     color=['#2E8B57', '#FF8C00', '#DC143C', '#B8860B'])\n",
    "    ax1.set_title('Changes by Type and Version', fontweight='bold')\n",
    "    ax1.set_xlabel('Version')\n",
    "    ax1.set_ylabel('Number of Changes')\n",
    "    ax1.legend(title='Change Type', bbox_to_anchor=(1.05, 1), loc='upper left')\n",
    "    ax1.tick_params(axis='x', rotation=45)\n",
    "    \n",
    "    # 2. API types affected (pie chart)\n",
    "    ax2 = axes[0, 1]\n",
    "    api_counts = df['api_type'].value_counts()\n",
    "    colors = plt.cm.Set3(np.linspace(0, 1, len(api_counts)))\n",
    "    wedges, texts, autotexts = ax2.pie(api_counts.values, labels=api_counts.index, \n",
    "                                       autopct='%1.1f%%', colors=colors)\n",
    "    ax2.set_title('API Types Affected by Changes', fontweight='bold')\n",
    "    \n",
    "    # 3. Breaking vs non-breaking changes\n",
    "    ax3 = axes[1, 0]\n",
    "    breaking_counts = df.groupby(['version', 'is_breaking']).size().unstack(fill_value=0)\n",
    "    breaking_counts.plot(kind='bar', ax=ax3, color=['#2E8B57', '#DC143C'])\n",
    "    ax3.set_title('Breaking vs Non-Breaking Changes', fontweight='bold')\n",
    "    ax3.set_xlabel('Version')\n",
    "    ax3.set_ylabel('Number of Changes')\n",
    "    ax3.legend(['Non-Breaking', 'Breaking'], title='Change Impact')\n",
    "    ax3.tick_params(axis='x', rotation=45)\n",
    "    \n",
    "    # 4. Change velocity heatmap\n",
    "    ax4 = axes[1, 1]\n",
    "    # Create a pivot table for heatmap\n",
    "    heatmap_data = df.groupby(['version', 'change_type']).size().unstack(fill_value=0)\n",
    "    sns.heatmap(heatmap_data.T, annot=True, fmt='d', cmap='YlOrRd', ax=ax4)\n",
    "    ax4.set_title('Change Intensity Heatmap', fontweight='bold')\n",
    "    ax4.set_xlabel('Version')\n",
    "    ax4.set_ylabel('Change Type')\n",
    "    \n",
    "    plt.tight_layout()\n",
    "    plt.show()\n",
    "    \n",
    "    # Create a separate figure for timeline visualization\n",
    "    plt.figure(figsize=(14, 8))\n",
    "    \n",
    "    # Timeline scatter plot\n",
    "    change_type_colors = {'added': '#2E8B57', 'modified': '#FF8C00', \n",
    "                         'removed': '#DC143C', 'deprecated': '#B8860B'}\n",
    "    \n",
    "    for i, (change_type, color) in enumerate(change_type_colors.items()):\n",
    "        type_data = df[df['change_type'] == change_type]\n",
    "        if not type_data.empty:\n",
    "            # Create numeric positions for versions\n",
    "            version_positions = {v: i for i, v in enumerate(sorted(df['version'].unique()))}\n",
    "            x_positions = [version_positions[v] for v in type_data['version']]\n",
    "            y_positions = np.random.normal(i, 0.1, len(type_data))  # Add some jitter\n",
    "            \n",
    "            plt.scatter(x_positions, y_positions, c=color, label=change_type.title(), \n",
    "                       s=60, alpha=0.7, edgecolors='white', linewidth=1)\n",
    "    \n",
    "    plt.xlabel('Version', fontweight='bold')\n",
    "    plt.ylabel('Change Type', fontweight='bold')\n",
    "    plt.title(f'API Change Timeline - {result.package_name}', fontsize=14, fontweight='bold')\n",
    "    plt.legend(title='Change Type', bbox_to_anchor=(1.05, 1), loc='upper left')\n",
    "    \n",
    "    # Set x-axis labels\n",
    "    version_labels = sorted(df['version'].unique())\n",
    "    plt.xticks(range(len(version_labels)), version_labels, rotation=45)\n",
    "    \n",
    "    # Set y-axis labels\n",
    "    plt.yticks(range(len(change_type_colors)), list(change_type_colors.keys()))\n",
    "    \n",
    "    plt.grid(True, alpha=0.3)\n",
    "    plt.tight_layout()\n",
    "    plt.show()\n",
    "    \n",
    "    print(\"📊 Static visualizations created!\")\n",
    "\n",
    "# Create static visualizations\n",
    "create_static_visualizations(demo_result)"
   ]
  },
  {
   "cell_type": "markdown",
   "id": "2a4dd3ae",
   "metadata": {},
   "source": [
    "## 6. API Lifecycle Analysis\n",
    "\n",
    "Understanding the complete lifecycle of individual APIs helps identify stability patterns and plan deprecations."
   ]
  },
  {
   "cell_type": "code",
   "execution_count": 7,
   "id": "d3bc4164",
   "metadata": {},
   "outputs": [
    {
     "data": {
      "application/vnd.plotly.v1+json": {
       "config": {
        "plotlyServerURL": "https://plot.ly"
       },
       "data": [
        {
         "hovertemplate": "<b>mylib.client.Client</b><br>Type: class<br>Introduced: v1.0.0<br>Removed: Still Active<br>Modifications: 1<br><extra></extra>",
         "legendgroup": "class",
         "line": {
          "color": "#ff7f0e",
          "width": 8
         },
         "mode": "lines",
         "name": "class",
         "showlegend": true,
         "type": "scatter",
         "x": [
          0,
          6
         ],
         "y": [
          0,
          0
         ]
        },
        {
         "hovertemplate": "<b>mylib.client.Client</b><br>Modified in: v2.0.0<br><extra></extra>",
         "legendgroup": "modifications",
         "marker": {
          "color": "red",
          "size": 10,
          "symbol": "diamond"
         },
         "mode": "markers",
         "name": "Modification",
         "showlegend": true,
         "type": "scatter",
         "x": [
          3
         ],
         "y": [
          0
         ]
        },
        {
         "hovertemplate": "<b>mylib.core.connect</b><br>Type: function<br>Introduced: v1.0.0<br>Removed: Still Active<br>Modifications: 1<br><extra></extra>",
         "legendgroup": "function",
         "line": {
          "color": "#1f77b4",
          "width": 8
         },
         "mode": "lines",
         "name": "function",
         "showlegend": true,
         "type": "scatter",
         "x": [
          0,
          6
         ],
         "y": [
          1,
          1
         ]
        },
        {
         "hovertemplate": "<b>mylib.core.connect</b><br>Modified in: v2.0.0<br><extra></extra>",
         "legendgroup": "modifications",
         "marker": {
          "color": "red",
          "size": 10,
          "symbol": "diamond"
         },
         "mode": "markers",
         "name": "",
         "showlegend": false,
         "type": "scatter",
         "x": [
          3
         ],
         "y": [
          1
         ]
        },
        {
         "hovertemplate": "<b>mylib.utils.Logger</b><br>Type: class<br>Introduced: v1.0.0<br>Removed: Still Active<br>Modifications: 1<br><extra></extra>",
         "legendgroup": "class",
         "line": {
          "color": "#ff7f0e",
          "width": 8
         },
         "mode": "lines",
         "name": "",
         "showlegend": false,
         "type": "scatter",
         "x": [
          0,
          6
         ],
         "y": [
          2,
          2
         ]
        },
        {
         "hovertemplate": "<b>mylib.utils.Logger</b><br>Modified in: v2.0.0<br><extra></extra>",
         "legendgroup": "modifications",
         "marker": {
          "color": "red",
          "size": 10,
          "symbol": "diamond"
         },
         "mode": "markers",
         "name": "",
         "showlegend": false,
         "type": "scatter",
         "x": [
          3
         ],
         "y": [
          2
         ]
        },
        {
         "hovertemplate": "<b>mylib.core.disconnect</b><br>Type: function<br>Introduced: v1.0.0<br>Removed: Still Active<br>Modifications: 0<br><extra></extra>",
         "legendgroup": "function",
         "line": {
          "color": "#1f77b4",
          "width": 8
         },
         "mode": "lines",
         "name": "",
         "showlegend": false,
         "type": "scatter",
         "x": [
          0,
          6
         ],
         "y": [
          3,
          3
         ]
        },
        {
         "hovertemplate": "<b>mylib.VERSION</b><br>Type: constant<br>Introduced: v1.0.0<br>Removed: Still Active<br>Modifications: 0<br><extra></extra>",
         "legendgroup": "constant",
         "line": {
          "color": "#9467bd",
          "width": 8
         },
         "mode": "lines",
         "name": "constant",
         "showlegend": true,
         "type": "scatter",
         "x": [
          0,
          6
         ],
         "y": [
          4,
          4
         ]
        },
        {
         "hovertemplate": "<b>mylib.client.Client.get_status</b><br>Type: method<br>Introduced: v1.1.0<br>Removed: Still Active<br>Modifications: 0<br><extra></extra>",
         "legendgroup": "method",
         "line": {
          "color": "#2ca02c",
          "width": 8
         },
         "mode": "lines",
         "name": "method",
         "showlegend": true,
         "type": "scatter",
         "x": [
          1,
          6
         ],
         "y": [
          5,
          5
         ]
        },
        {
         "hovertemplate": "<b>mylib.core.reconnect</b><br>Type: function<br>Introduced: v1.1.0<br>Removed: v3.0.0<br>Modifications: 0<br><extra></extra>",
         "legendgroup": "function",
         "line": {
          "color": "#1f77b4",
          "width": 8
         },
         "mode": "lines",
         "name": "",
         "showlegend": false,
         "type": "scatter",
         "x": [
          1,
          6
         ],
         "y": [
          6,
          6
         ]
        },
        {
         "hovertemplate": "<b>mylib.config.Config</b><br>Type: class<br>Introduced: v1.1.0<br>Removed: v2.0.0<br>Modifications: 0<br><extra></extra>",
         "legendgroup": "class",
         "line": {
          "color": "#ff7f0e",
          "width": 8
         },
         "mode": "lines",
         "name": "",
         "showlegend": false,
         "type": "scatter",
         "x": [
          1,
          3
         ],
         "y": [
          7,
          7
         ]
        },
        {
         "hovertemplate": "<b>mylib.async_core.async_connect</b><br>Type: function<br>Introduced: v1.2.0<br>Removed: v3.0.0<br>Modifications: 0<br><extra></extra>",
         "legendgroup": "function",
         "line": {
          "color": "#1f77b4",
          "width": 8
         },
         "mode": "lines",
         "name": "",
         "showlegend": false,
         "type": "scatter",
         "x": [
          2,
          6
         ],
         "y": [
          8,
          8
         ]
        },
        {
         "hovertemplate": "<b>mylib.async_client.AsyncClient</b><br>Type: class<br>Introduced: v1.2.0<br>Removed: v3.0.0<br>Modifications: 0<br><extra></extra>",
         "legendgroup": "class",
         "line": {
          "color": "#ff7f0e",
          "width": 8
         },
         "mode": "lines",
         "name": "",
         "showlegend": false,
         "type": "scatter",
         "x": [
          2,
          6
         ],
         "y": [
          9,
          9
         ]
        },
        {
         "hovertemplate": "<b>mylib.config.validate_config</b><br>Type: function<br>Introduced: v1.2.0<br>Removed: v2.0.0<br>Modifications: 0<br><extra></extra>",
         "legendgroup": "function",
         "line": {
          "color": "#1f77b4",
          "width": 8
         },
         "mode": "lines",
         "name": "",
         "showlegend": false,
         "type": "scatter",
         "x": [
          2,
          3
         ],
         "y": [
          10,
          10
         ]
        },
        {
         "hovertemplate": "<b>mylib.connection.Connection</b><br>Type: class<br>Introduced: v2.0.0<br>Removed: Still Active<br>Modifications: 0<br><extra></extra>",
         "legendgroup": "class",
         "line": {
          "color": "#ff7f0e",
          "width": 8
         },
         "mode": "lines",
         "name": "",
         "showlegend": false,
         "type": "scatter",
         "x": [
          3,
          6
         ],
         "y": [
          11,
          11
         ]
        },
        {
         "hovertemplate": "<b>mylib.auth.authenticate</b><br>Type: function<br>Introduced: v2.0.0<br>Removed: Still Active<br>Modifications: 0<br><extra></extra>",
         "legendgroup": "function",
         "line": {
          "color": "#1f77b4",
          "width": 8
         },
         "mode": "lines",
         "name": "",
         "showlegend": false,
         "type": "scatter",
         "x": [
          3,
          6
         ],
         "y": [
          12,
          12
         ]
        },
        {
         "hovertemplate": "<b>mylib.logging.Logger</b><br>Type: class<br>Introduced: v2.0.0<br>Removed: Still Active<br>Modifications: 0<br><extra></extra>",
         "legendgroup": "class",
         "line": {
          "color": "#ff7f0e",
          "width": 8
         },
         "mode": "lines",
         "name": "",
         "showlegend": false,
         "type": "scatter",
         "x": [
          3,
          6
         ],
         "y": [
          13,
          13
         ]
        },
        {
         "hovertemplate": "<b>mylib.config.Settings</b><br>Type: class<br>Introduced: v2.0.0<br>Removed: Still Active<br>Modifications: 0<br><extra></extra>",
         "legendgroup": "class",
         "line": {
          "color": "#ff7f0e",
          "width": 8
         },
         "mode": "lines",
         "name": "",
         "showlegend": false,
         "type": "scatter",
         "x": [
          3,
          6
         ],
         "y": [
          14,
          14
         ]
        },
        {
         "hovertemplate": "<b>mylib.core.bulk_connect</b><br>Type: function<br>Introduced: v2.1.0<br>Removed: v3.0.0<br>Modifications: 0<br><extra></extra>",
         "legendgroup": "function",
         "line": {
          "color": "#1f77b4",
          "width": 8
         },
         "mode": "lines",
         "name": "",
         "showlegend": false,
         "type": "scatter",
         "x": [
          4,
          6
         ],
         "y": [
          15,
          15
         ]
        },
        {
         "hovertemplate": "<b>mylib.connection.ConnectionPool</b><br>Type: class<br>Introduced: v2.1.0<br>Removed: Still Active<br>Modifications: 0<br><extra></extra>",
         "legendgroup": "class",
         "line": {
          "color": "#ff7f0e",
          "width": 8
         },
         "mode": "lines",
         "name": "",
         "showlegend": false,
         "type": "scatter",
         "x": [
          4,
          6
         ],
         "y": [
          16,
          16
         ]
        },
        {
         "hovertemplate": "<b>mylib.monitoring.Metrics</b><br>Type: class<br>Introduced: v2.2.0<br>Removed: Still Active<br>Modifications: 0<br><extra></extra>",
         "legendgroup": "class",
         "line": {
          "color": "#ff7f0e",
          "width": 8
         },
         "mode": "lines",
         "name": "",
         "showlegend": false,
         "type": "scatter",
         "x": [
          5,
          6
         ],
         "y": [
          17,
          17
         ]
        },
        {
         "hovertemplate": "<b>mylib.monitoring.monitor</b><br>Type: function<br>Introduced: v2.2.0<br>Removed: v3.0.0<br>Modifications: 0<br><extra></extra>",
         "legendgroup": "function",
         "line": {
          "color": "#1f77b4",
          "width": 8
         },
         "mode": "lines",
         "name": "",
         "showlegend": false,
         "type": "scatter",
         "x": [
          5,
          6
         ],
         "y": [
          18,
          18
         ]
        },
        {
         "hovertemplate": "<b>mylib.monitoring.export_metrics</b><br>Type: function<br>Introduced: v2.2.0<br>Removed: v3.0.0<br>Modifications: 0<br><extra></extra>",
         "legendgroup": "function",
         "line": {
          "color": "#1f77b4",
          "width": 8
         },
         "mode": "lines",
         "name": "",
         "showlegend": false,
         "type": "scatter",
         "x": [
          5,
          6
         ],
         "y": [
          19,
          19
         ]
        }
       ],
       "layout": {
        "height": 600,
        "hovermode": "closest",
        "template": {
         "data": {
          "bar": [
           {
            "error_x": {
             "color": "#2a3f5f"
            },
            "error_y": {
             "color": "#2a3f5f"
            },
            "marker": {
             "line": {
              "color": "#E5ECF6",
              "width": 0.5
             },
             "pattern": {
              "fillmode": "overlay",
              "size": 10,
              "solidity": 0.2
             }
            },
            "type": "bar"
           }
          ],
          "barpolar": [
           {
            "marker": {
             "line": {
              "color": "#E5ECF6",
              "width": 0.5
             },
             "pattern": {
              "fillmode": "overlay",
              "size": 10,
              "solidity": 0.2
             }
            },
            "type": "barpolar"
           }
          ],
          "carpet": [
           {
            "aaxis": {
             "endlinecolor": "#2a3f5f",
             "gridcolor": "white",
             "linecolor": "white",
             "minorgridcolor": "white",
             "startlinecolor": "#2a3f5f"
            },
            "baxis": {
             "endlinecolor": "#2a3f5f",
             "gridcolor": "white",
             "linecolor": "white",
             "minorgridcolor": "white",
             "startlinecolor": "#2a3f5f"
            },
            "type": "carpet"
           }
          ],
          "choropleth": [
           {
            "colorbar": {
             "outlinewidth": 0,
             "ticks": ""
            },
            "type": "choropleth"
           }
          ],
          "contour": [
           {
            "colorbar": {
             "outlinewidth": 0,
             "ticks": ""
            },
            "colorscale": [
             [
              0,
              "#0d0887"
             ],
             [
              0.1111111111111111,
              "#46039f"
             ],
             [
              0.2222222222222222,
              "#7201a8"
             ],
             [
              0.3333333333333333,
              "#9c179e"
             ],
             [
              0.4444444444444444,
              "#bd3786"
             ],
             [
              0.5555555555555556,
              "#d8576b"
             ],
             [
              0.6666666666666666,
              "#ed7953"
             ],
             [
              0.7777777777777778,
              "#fb9f3a"
             ],
             [
              0.8888888888888888,
              "#fdca26"
             ],
             [
              1,
              "#f0f921"
             ]
            ],
            "type": "contour"
           }
          ],
          "contourcarpet": [
           {
            "colorbar": {
             "outlinewidth": 0,
             "ticks": ""
            },
            "type": "contourcarpet"
           }
          ],
          "heatmap": [
           {
            "colorbar": {
             "outlinewidth": 0,
             "ticks": ""
            },
            "colorscale": [
             [
              0,
              "#0d0887"
             ],
             [
              0.1111111111111111,
              "#46039f"
             ],
             [
              0.2222222222222222,
              "#7201a8"
             ],
             [
              0.3333333333333333,
              "#9c179e"
             ],
             [
              0.4444444444444444,
              "#bd3786"
             ],
             [
              0.5555555555555556,
              "#d8576b"
             ],
             [
              0.6666666666666666,
              "#ed7953"
             ],
             [
              0.7777777777777778,
              "#fb9f3a"
             ],
             [
              0.8888888888888888,
              "#fdca26"
             ],
             [
              1,
              "#f0f921"
             ]
            ],
            "type": "heatmap"
           }
          ],
          "histogram": [
           {
            "marker": {
             "pattern": {
              "fillmode": "overlay",
              "size": 10,
              "solidity": 0.2
             }
            },
            "type": "histogram"
           }
          ],
          "histogram2d": [
           {
            "colorbar": {
             "outlinewidth": 0,
             "ticks": ""
            },
            "colorscale": [
             [
              0,
              "#0d0887"
             ],
             [
              0.1111111111111111,
              "#46039f"
             ],
             [
              0.2222222222222222,
              "#7201a8"
             ],
             [
              0.3333333333333333,
              "#9c179e"
             ],
             [
              0.4444444444444444,
              "#bd3786"
             ],
             [
              0.5555555555555556,
              "#d8576b"
             ],
             [
              0.6666666666666666,
              "#ed7953"
             ],
             [
              0.7777777777777778,
              "#fb9f3a"
             ],
             [
              0.8888888888888888,
              "#fdca26"
             ],
             [
              1,
              "#f0f921"
             ]
            ],
            "type": "histogram2d"
           }
          ],
          "histogram2dcontour": [
           {
            "colorbar": {
             "outlinewidth": 0,
             "ticks": ""
            },
            "colorscale": [
             [
              0,
              "#0d0887"
             ],
             [
              0.1111111111111111,
              "#46039f"
             ],
             [
              0.2222222222222222,
              "#7201a8"
             ],
             [
              0.3333333333333333,
              "#9c179e"
             ],
             [
              0.4444444444444444,
              "#bd3786"
             ],
             [
              0.5555555555555556,
              "#d8576b"
             ],
             [
              0.6666666666666666,
              "#ed7953"
             ],
             [
              0.7777777777777778,
              "#fb9f3a"
             ],
             [
              0.8888888888888888,
              "#fdca26"
             ],
             [
              1,
              "#f0f921"
             ]
            ],
            "type": "histogram2dcontour"
           }
          ],
          "mesh3d": [
           {
            "colorbar": {
             "outlinewidth": 0,
             "ticks": ""
            },
            "type": "mesh3d"
           }
          ],
          "parcoords": [
           {
            "line": {
             "colorbar": {
              "outlinewidth": 0,
              "ticks": ""
             }
            },
            "type": "parcoords"
           }
          ],
          "pie": [
           {
            "automargin": true,
            "type": "pie"
           }
          ],
          "scatter": [
           {
            "fillpattern": {
             "fillmode": "overlay",
             "size": 10,
             "solidity": 0.2
            },
            "type": "scatter"
           }
          ],
          "scatter3d": [
           {
            "line": {
             "colorbar": {
              "outlinewidth": 0,
              "ticks": ""
             }
            },
            "marker": {
             "colorbar": {
              "outlinewidth": 0,
              "ticks": ""
             }
            },
            "type": "scatter3d"
           }
          ],
          "scattercarpet": [
           {
            "marker": {
             "colorbar": {
              "outlinewidth": 0,
              "ticks": ""
             }
            },
            "type": "scattercarpet"
           }
          ],
          "scattergeo": [
           {
            "marker": {
             "colorbar": {
              "outlinewidth": 0,
              "ticks": ""
             }
            },
            "type": "scattergeo"
           }
          ],
          "scattergl": [
           {
            "marker": {
             "colorbar": {
              "outlinewidth": 0,
              "ticks": ""
             }
            },
            "type": "scattergl"
           }
          ],
          "scattermap": [
           {
            "marker": {
             "colorbar": {
              "outlinewidth": 0,
              "ticks": ""
             }
            },
            "type": "scattermap"
           }
          ],
          "scattermapbox": [
           {
            "marker": {
             "colorbar": {
              "outlinewidth": 0,
              "ticks": ""
             }
            },
            "type": "scattermapbox"
           }
          ],
          "scatterpolar": [
           {
            "marker": {
             "colorbar": {
              "outlinewidth": 0,
              "ticks": ""
             }
            },
            "type": "scatterpolar"
           }
          ],
          "scatterpolargl": [
           {
            "marker": {
             "colorbar": {
              "outlinewidth": 0,
              "ticks": ""
             }
            },
            "type": "scatterpolargl"
           }
          ],
          "scatterternary": [
           {
            "marker": {
             "colorbar": {
              "outlinewidth": 0,
              "ticks": ""
             }
            },
            "type": "scatterternary"
           }
          ],
          "surface": [
           {
            "colorbar": {
             "outlinewidth": 0,
             "ticks": ""
            },
            "colorscale": [
             [
              0,
              "#0d0887"
             ],
             [
              0.1111111111111111,
              "#46039f"
             ],
             [
              0.2222222222222222,
              "#7201a8"
             ],
             [
              0.3333333333333333,
              "#9c179e"
             ],
             [
              0.4444444444444444,
              "#bd3786"
             ],
             [
              0.5555555555555556,
              "#d8576b"
             ],
             [
              0.6666666666666666,
              "#ed7953"
             ],
             [
              0.7777777777777778,
              "#fb9f3a"
             ],
             [
              0.8888888888888888,
              "#fdca26"
             ],
             [
              1,
              "#f0f921"
             ]
            ],
            "type": "surface"
           }
          ],
          "table": [
           {
            "cells": {
             "fill": {
              "color": "#EBF0F8"
             },
             "line": {
              "color": "white"
             }
            },
            "header": {
             "fill": {
              "color": "#C8D4E3"
             },
             "line": {
              "color": "white"
             }
            },
            "type": "table"
           }
          ]
         },
         "layout": {
          "annotationdefaults": {
           "arrowcolor": "#2a3f5f",
           "arrowhead": 0,
           "arrowwidth": 1
          },
          "autotypenumbers": "strict",
          "coloraxis": {
           "colorbar": {
            "outlinewidth": 0,
            "ticks": ""
           }
          },
          "colorscale": {
           "diverging": [
            [
             0,
             "#8e0152"
            ],
            [
             0.1,
             "#c51b7d"
            ],
            [
             0.2,
             "#de77ae"
            ],
            [
             0.3,
             "#f1b6da"
            ],
            [
             0.4,
             "#fde0ef"
            ],
            [
             0.5,
             "#f7f7f7"
            ],
            [
             0.6,
             "#e6f5d0"
            ],
            [
             0.7,
             "#b8e186"
            ],
            [
             0.8,
             "#7fbc41"
            ],
            [
             0.9,
             "#4d9221"
            ],
            [
             1,
             "#276419"
            ]
           ],
           "sequential": [
            [
             0,
             "#0d0887"
            ],
            [
             0.1111111111111111,
             "#46039f"
            ],
            [
             0.2222222222222222,
             "#7201a8"
            ],
            [
             0.3333333333333333,
             "#9c179e"
            ],
            [
             0.4444444444444444,
             "#bd3786"
            ],
            [
             0.5555555555555556,
             "#d8576b"
            ],
            [
             0.6666666666666666,
             "#ed7953"
            ],
            [
             0.7777777777777778,
             "#fb9f3a"
            ],
            [
             0.8888888888888888,
             "#fdca26"
            ],
            [
             1,
             "#f0f921"
            ]
           ],
           "sequentialminus": [
            [
             0,
             "#0d0887"
            ],
            [
             0.1111111111111111,
             "#46039f"
            ],
            [
             0.2222222222222222,
             "#7201a8"
            ],
            [
             0.3333333333333333,
             "#9c179e"
            ],
            [
             0.4444444444444444,
             "#bd3786"
            ],
            [
             0.5555555555555556,
             "#d8576b"
            ],
            [
             0.6666666666666666,
             "#ed7953"
            ],
            [
             0.7777777777777778,
             "#fb9f3a"
            ],
            [
             0.8888888888888888,
             "#fdca26"
            ],
            [
             1,
             "#f0f921"
            ]
           ]
          },
          "colorway": [
           "#636efa",
           "#EF553B",
           "#00cc96",
           "#ab63fa",
           "#FFA15A",
           "#19d3f3",
           "#FF6692",
           "#B6E880",
           "#FF97FF",
           "#FECB52"
          ],
          "font": {
           "color": "#2a3f5f"
          },
          "geo": {
           "bgcolor": "white",
           "lakecolor": "white",
           "landcolor": "#E5ECF6",
           "showlakes": true,
           "showland": true,
           "subunitcolor": "white"
          },
          "hoverlabel": {
           "align": "left"
          },
          "hovermode": "closest",
          "mapbox": {
           "style": "light"
          },
          "paper_bgcolor": "white",
          "plot_bgcolor": "#E5ECF6",
          "polar": {
           "angularaxis": {
            "gridcolor": "white",
            "linecolor": "white",
            "ticks": ""
           },
           "bgcolor": "#E5ECF6",
           "radialaxis": {
            "gridcolor": "white",
            "linecolor": "white",
            "ticks": ""
           }
          },
          "scene": {
           "xaxis": {
            "backgroundcolor": "#E5ECF6",
            "gridcolor": "white",
            "gridwidth": 2,
            "linecolor": "white",
            "showbackground": true,
            "ticks": "",
            "zerolinecolor": "white"
           },
           "yaxis": {
            "backgroundcolor": "#E5ECF6",
            "gridcolor": "white",
            "gridwidth": 2,
            "linecolor": "white",
            "showbackground": true,
            "ticks": "",
            "zerolinecolor": "white"
           },
           "zaxis": {
            "backgroundcolor": "#E5ECF6",
            "gridcolor": "white",
            "gridwidth": 2,
            "linecolor": "white",
            "showbackground": true,
            "ticks": "",
            "zerolinecolor": "white"
           }
          },
          "shapedefaults": {
           "line": {
            "color": "#2a3f5f"
           }
          },
          "ternary": {
           "aaxis": {
            "gridcolor": "white",
            "linecolor": "white",
            "ticks": ""
           },
           "baxis": {
            "gridcolor": "white",
            "linecolor": "white",
            "ticks": ""
           },
           "bgcolor": "#E5ECF6",
           "caxis": {
            "gridcolor": "white",
            "linecolor": "white",
            "ticks": ""
           }
          },
          "title": {
           "x": 0.05
          },
          "xaxis": {
           "automargin": true,
           "gridcolor": "white",
           "linecolor": "white",
           "ticks": "",
           "title": {
            "standoff": 15
           },
           "zerolinecolor": "white",
           "zerolinewidth": 2
          },
          "yaxis": {
           "automargin": true,
           "gridcolor": "white",
           "linecolor": "white",
           "ticks": "",
           "title": {
            "standoff": 15
           },
           "zerolinecolor": "white",
           "zerolinewidth": 2
          }
         }
        },
        "title": {
         "font": {
          "size": 18
         },
         "text": "API Lifecycle Timeline - mylib",
         "x": 0.5
        },
        "xaxis": {
         "tickmode": "array",
         "ticktext": [
          "1.0.0",
          "1.1.0",
          "1.2.0",
          "2.0.0",
          "2.1.0",
          "2.2.0",
          "3.0.0"
         ],
         "tickvals": [
          0,
          1,
          2,
          3,
          4,
          5,
          6
         ],
         "title": {
          "text": "Version"
         }
        },
        "yaxis": {
         "tickmode": "array",
         "ticktext": [
          "Client",
          "connect",
          "Logger",
          "disconnect",
          "VERSION",
          "get_status",
          "reconnect",
          "Config",
          "async_connect",
          "AsyncClient",
          "validate_config",
          "Connection",
          "authenticate",
          "Logger",
          "Settings",
          "bulk_connect",
          "ConnectionPool",
          "Metrics",
          "monitor",
          "export_metrics"
         ],
         "tickvals": [
          0,
          1,
          2,
          3,
          4,
          5,
          6,
          7,
          8,
          9,
          10,
          11,
          12,
          13,
          14,
          15,
          16,
          17,
          18,
          19
         ],
         "title": {
          "text": "API Elements"
         }
        }
       }
      },
      "text/html": [
       "<div>            <script src=\"https://cdnjs.cloudflare.com/ajax/libs/mathjax/2.7.5/MathJax.js?config=TeX-AMS-MML_SVG\"></script><script type=\"text/javascript\">if (window.MathJax && window.MathJax.Hub && window.MathJax.Hub.Config) {window.MathJax.Hub.Config({SVG: {font: \"STIX-Web\"}});}</script>                <script type=\"text/javascript\">window.PlotlyConfig = {MathJaxConfig: 'local'};</script>\n",
       "        <script charset=\"utf-8\" src=\"https://cdn.plot.ly/plotly-3.0.1.min.js\" integrity=\"sha256-oy6Be7Eh6eiQFs5M7oXuPxxm9qbJXEtTpfSI93dW16Q=\" crossorigin=\"anonymous\"></script>                <div id=\"ce026c5c-ab3b-44f4-86f7-d4c1eb1e74b1\" class=\"plotly-graph-div\" style=\"height:600px; width:100%;\"></div>            <script type=\"text/javascript\">                window.PLOTLYENV=window.PLOTLYENV || {};                                if (document.getElementById(\"ce026c5c-ab3b-44f4-86f7-d4c1eb1e74b1\")) {                    Plotly.newPlot(                        \"ce026c5c-ab3b-44f4-86f7-d4c1eb1e74b1\",                        [{\"hovertemplate\":\"\\u003cb\\u003emylib.client.Client\\u003c\\u002fb\\u003e\\u003cbr\\u003eType: class\\u003cbr\\u003eIntroduced: v1.0.0\\u003cbr\\u003eRemoved: Still Active\\u003cbr\\u003eModifications: 1\\u003cbr\\u003e\\u003cextra\\u003e\\u003c\\u002fextra\\u003e\",\"legendgroup\":\"class\",\"line\":{\"color\":\"#ff7f0e\",\"width\":8},\"mode\":\"lines\",\"name\":\"class\",\"showlegend\":true,\"x\":[0,6],\"y\":[0,0],\"type\":\"scatter\"},{\"hovertemplate\":\"\\u003cb\\u003emylib.client.Client\\u003c\\u002fb\\u003e\\u003cbr\\u003eModified in: v2.0.0\\u003cbr\\u003e\\u003cextra\\u003e\\u003c\\u002fextra\\u003e\",\"legendgroup\":\"modifications\",\"marker\":{\"color\":\"red\",\"size\":10,\"symbol\":\"diamond\"},\"mode\":\"markers\",\"name\":\"Modification\",\"showlegend\":true,\"x\":[3],\"y\":[0],\"type\":\"scatter\"},{\"hovertemplate\":\"\\u003cb\\u003emylib.core.connect\\u003c\\u002fb\\u003e\\u003cbr\\u003eType: function\\u003cbr\\u003eIntroduced: v1.0.0\\u003cbr\\u003eRemoved: Still Active\\u003cbr\\u003eModifications: 1\\u003cbr\\u003e\\u003cextra\\u003e\\u003c\\u002fextra\\u003e\",\"legendgroup\":\"function\",\"line\":{\"color\":\"#1f77b4\",\"width\":8},\"mode\":\"lines\",\"name\":\"function\",\"showlegend\":true,\"x\":[0,6],\"y\":[1,1],\"type\":\"scatter\"},{\"hovertemplate\":\"\\u003cb\\u003emylib.core.connect\\u003c\\u002fb\\u003e\\u003cbr\\u003eModified in: v2.0.0\\u003cbr\\u003e\\u003cextra\\u003e\\u003c\\u002fextra\\u003e\",\"legendgroup\":\"modifications\",\"marker\":{\"color\":\"red\",\"size\":10,\"symbol\":\"diamond\"},\"mode\":\"markers\",\"name\":\"\",\"showlegend\":false,\"x\":[3],\"y\":[1],\"type\":\"scatter\"},{\"hovertemplate\":\"\\u003cb\\u003emylib.utils.Logger\\u003c\\u002fb\\u003e\\u003cbr\\u003eType: class\\u003cbr\\u003eIntroduced: v1.0.0\\u003cbr\\u003eRemoved: Still Active\\u003cbr\\u003eModifications: 1\\u003cbr\\u003e\\u003cextra\\u003e\\u003c\\u002fextra\\u003e\",\"legendgroup\":\"class\",\"line\":{\"color\":\"#ff7f0e\",\"width\":8},\"mode\":\"lines\",\"name\":\"\",\"showlegend\":false,\"x\":[0,6],\"y\":[2,2],\"type\":\"scatter\"},{\"hovertemplate\":\"\\u003cb\\u003emylib.utils.Logger\\u003c\\u002fb\\u003e\\u003cbr\\u003eModified in: v2.0.0\\u003cbr\\u003e\\u003cextra\\u003e\\u003c\\u002fextra\\u003e\",\"legendgroup\":\"modifications\",\"marker\":{\"color\":\"red\",\"size\":10,\"symbol\":\"diamond\"},\"mode\":\"markers\",\"name\":\"\",\"showlegend\":false,\"x\":[3],\"y\":[2],\"type\":\"scatter\"},{\"hovertemplate\":\"\\u003cb\\u003emylib.core.disconnect\\u003c\\u002fb\\u003e\\u003cbr\\u003eType: function\\u003cbr\\u003eIntroduced: v1.0.0\\u003cbr\\u003eRemoved: Still Active\\u003cbr\\u003eModifications: 0\\u003cbr\\u003e\\u003cextra\\u003e\\u003c\\u002fextra\\u003e\",\"legendgroup\":\"function\",\"line\":{\"color\":\"#1f77b4\",\"width\":8},\"mode\":\"lines\",\"name\":\"\",\"showlegend\":false,\"x\":[0,6],\"y\":[3,3],\"type\":\"scatter\"},{\"hovertemplate\":\"\\u003cb\\u003emylib.VERSION\\u003c\\u002fb\\u003e\\u003cbr\\u003eType: constant\\u003cbr\\u003eIntroduced: v1.0.0\\u003cbr\\u003eRemoved: Still Active\\u003cbr\\u003eModifications: 0\\u003cbr\\u003e\\u003cextra\\u003e\\u003c\\u002fextra\\u003e\",\"legendgroup\":\"constant\",\"line\":{\"color\":\"#9467bd\",\"width\":8},\"mode\":\"lines\",\"name\":\"constant\",\"showlegend\":true,\"x\":[0,6],\"y\":[4,4],\"type\":\"scatter\"},{\"hovertemplate\":\"\\u003cb\\u003emylib.client.Client.get_status\\u003c\\u002fb\\u003e\\u003cbr\\u003eType: method\\u003cbr\\u003eIntroduced: v1.1.0\\u003cbr\\u003eRemoved: Still Active\\u003cbr\\u003eModifications: 0\\u003cbr\\u003e\\u003cextra\\u003e\\u003c\\u002fextra\\u003e\",\"legendgroup\":\"method\",\"line\":{\"color\":\"#2ca02c\",\"width\":8},\"mode\":\"lines\",\"name\":\"method\",\"showlegend\":true,\"x\":[1,6],\"y\":[5,5],\"type\":\"scatter\"},{\"hovertemplate\":\"\\u003cb\\u003emylib.core.reconnect\\u003c\\u002fb\\u003e\\u003cbr\\u003eType: function\\u003cbr\\u003eIntroduced: v1.1.0\\u003cbr\\u003eRemoved: v3.0.0\\u003cbr\\u003eModifications: 0\\u003cbr\\u003e\\u003cextra\\u003e\\u003c\\u002fextra\\u003e\",\"legendgroup\":\"function\",\"line\":{\"color\":\"#1f77b4\",\"width\":8},\"mode\":\"lines\",\"name\":\"\",\"showlegend\":false,\"x\":[1,6],\"y\":[6,6],\"type\":\"scatter\"},{\"hovertemplate\":\"\\u003cb\\u003emylib.config.Config\\u003c\\u002fb\\u003e\\u003cbr\\u003eType: class\\u003cbr\\u003eIntroduced: v1.1.0\\u003cbr\\u003eRemoved: v2.0.0\\u003cbr\\u003eModifications: 0\\u003cbr\\u003e\\u003cextra\\u003e\\u003c\\u002fextra\\u003e\",\"legendgroup\":\"class\",\"line\":{\"color\":\"#ff7f0e\",\"width\":8},\"mode\":\"lines\",\"name\":\"\",\"showlegend\":false,\"x\":[1,3],\"y\":[7,7],\"type\":\"scatter\"},{\"hovertemplate\":\"\\u003cb\\u003emylib.async_core.async_connect\\u003c\\u002fb\\u003e\\u003cbr\\u003eType: function\\u003cbr\\u003eIntroduced: v1.2.0\\u003cbr\\u003eRemoved: v3.0.0\\u003cbr\\u003eModifications: 0\\u003cbr\\u003e\\u003cextra\\u003e\\u003c\\u002fextra\\u003e\",\"legendgroup\":\"function\",\"line\":{\"color\":\"#1f77b4\",\"width\":8},\"mode\":\"lines\",\"name\":\"\",\"showlegend\":false,\"x\":[2,6],\"y\":[8,8],\"type\":\"scatter\"},{\"hovertemplate\":\"\\u003cb\\u003emylib.async_client.AsyncClient\\u003c\\u002fb\\u003e\\u003cbr\\u003eType: class\\u003cbr\\u003eIntroduced: v1.2.0\\u003cbr\\u003eRemoved: v3.0.0\\u003cbr\\u003eModifications: 0\\u003cbr\\u003e\\u003cextra\\u003e\\u003c\\u002fextra\\u003e\",\"legendgroup\":\"class\",\"line\":{\"color\":\"#ff7f0e\",\"width\":8},\"mode\":\"lines\",\"name\":\"\",\"showlegend\":false,\"x\":[2,6],\"y\":[9,9],\"type\":\"scatter\"},{\"hovertemplate\":\"\\u003cb\\u003emylib.config.validate_config\\u003c\\u002fb\\u003e\\u003cbr\\u003eType: function\\u003cbr\\u003eIntroduced: v1.2.0\\u003cbr\\u003eRemoved: v2.0.0\\u003cbr\\u003eModifications: 0\\u003cbr\\u003e\\u003cextra\\u003e\\u003c\\u002fextra\\u003e\",\"legendgroup\":\"function\",\"line\":{\"color\":\"#1f77b4\",\"width\":8},\"mode\":\"lines\",\"name\":\"\",\"showlegend\":false,\"x\":[2,3],\"y\":[10,10],\"type\":\"scatter\"},{\"hovertemplate\":\"\\u003cb\\u003emylib.connection.Connection\\u003c\\u002fb\\u003e\\u003cbr\\u003eType: class\\u003cbr\\u003eIntroduced: v2.0.0\\u003cbr\\u003eRemoved: Still Active\\u003cbr\\u003eModifications: 0\\u003cbr\\u003e\\u003cextra\\u003e\\u003c\\u002fextra\\u003e\",\"legendgroup\":\"class\",\"line\":{\"color\":\"#ff7f0e\",\"width\":8},\"mode\":\"lines\",\"name\":\"\",\"showlegend\":false,\"x\":[3,6],\"y\":[11,11],\"type\":\"scatter\"},{\"hovertemplate\":\"\\u003cb\\u003emylib.auth.authenticate\\u003c\\u002fb\\u003e\\u003cbr\\u003eType: function\\u003cbr\\u003eIntroduced: v2.0.0\\u003cbr\\u003eRemoved: Still Active\\u003cbr\\u003eModifications: 0\\u003cbr\\u003e\\u003cextra\\u003e\\u003c\\u002fextra\\u003e\",\"legendgroup\":\"function\",\"line\":{\"color\":\"#1f77b4\",\"width\":8},\"mode\":\"lines\",\"name\":\"\",\"showlegend\":false,\"x\":[3,6],\"y\":[12,12],\"type\":\"scatter\"},{\"hovertemplate\":\"\\u003cb\\u003emylib.logging.Logger\\u003c\\u002fb\\u003e\\u003cbr\\u003eType: class\\u003cbr\\u003eIntroduced: v2.0.0\\u003cbr\\u003eRemoved: Still Active\\u003cbr\\u003eModifications: 0\\u003cbr\\u003e\\u003cextra\\u003e\\u003c\\u002fextra\\u003e\",\"legendgroup\":\"class\",\"line\":{\"color\":\"#ff7f0e\",\"width\":8},\"mode\":\"lines\",\"name\":\"\",\"showlegend\":false,\"x\":[3,6],\"y\":[13,13],\"type\":\"scatter\"},{\"hovertemplate\":\"\\u003cb\\u003emylib.config.Settings\\u003c\\u002fb\\u003e\\u003cbr\\u003eType: class\\u003cbr\\u003eIntroduced: v2.0.0\\u003cbr\\u003eRemoved: Still Active\\u003cbr\\u003eModifications: 0\\u003cbr\\u003e\\u003cextra\\u003e\\u003c\\u002fextra\\u003e\",\"legendgroup\":\"class\",\"line\":{\"color\":\"#ff7f0e\",\"width\":8},\"mode\":\"lines\",\"name\":\"\",\"showlegend\":false,\"x\":[3,6],\"y\":[14,14],\"type\":\"scatter\"},{\"hovertemplate\":\"\\u003cb\\u003emylib.core.bulk_connect\\u003c\\u002fb\\u003e\\u003cbr\\u003eType: function\\u003cbr\\u003eIntroduced: v2.1.0\\u003cbr\\u003eRemoved: v3.0.0\\u003cbr\\u003eModifications: 0\\u003cbr\\u003e\\u003cextra\\u003e\\u003c\\u002fextra\\u003e\",\"legendgroup\":\"function\",\"line\":{\"color\":\"#1f77b4\",\"width\":8},\"mode\":\"lines\",\"name\":\"\",\"showlegend\":false,\"x\":[4,6],\"y\":[15,15],\"type\":\"scatter\"},{\"hovertemplate\":\"\\u003cb\\u003emylib.connection.ConnectionPool\\u003c\\u002fb\\u003e\\u003cbr\\u003eType: class\\u003cbr\\u003eIntroduced: v2.1.0\\u003cbr\\u003eRemoved: Still Active\\u003cbr\\u003eModifications: 0\\u003cbr\\u003e\\u003cextra\\u003e\\u003c\\u002fextra\\u003e\",\"legendgroup\":\"class\",\"line\":{\"color\":\"#ff7f0e\",\"width\":8},\"mode\":\"lines\",\"name\":\"\",\"showlegend\":false,\"x\":[4,6],\"y\":[16,16],\"type\":\"scatter\"},{\"hovertemplate\":\"\\u003cb\\u003emylib.monitoring.Metrics\\u003c\\u002fb\\u003e\\u003cbr\\u003eType: class\\u003cbr\\u003eIntroduced: v2.2.0\\u003cbr\\u003eRemoved: Still Active\\u003cbr\\u003eModifications: 0\\u003cbr\\u003e\\u003cextra\\u003e\\u003c\\u002fextra\\u003e\",\"legendgroup\":\"class\",\"line\":{\"color\":\"#ff7f0e\",\"width\":8},\"mode\":\"lines\",\"name\":\"\",\"showlegend\":false,\"x\":[5,6],\"y\":[17,17],\"type\":\"scatter\"},{\"hovertemplate\":\"\\u003cb\\u003emylib.monitoring.monitor\\u003c\\u002fb\\u003e\\u003cbr\\u003eType: function\\u003cbr\\u003eIntroduced: v2.2.0\\u003cbr\\u003eRemoved: v3.0.0\\u003cbr\\u003eModifications: 0\\u003cbr\\u003e\\u003cextra\\u003e\\u003c\\u002fextra\\u003e\",\"legendgroup\":\"function\",\"line\":{\"color\":\"#1f77b4\",\"width\":8},\"mode\":\"lines\",\"name\":\"\",\"showlegend\":false,\"x\":[5,6],\"y\":[18,18],\"type\":\"scatter\"},{\"hovertemplate\":\"\\u003cb\\u003emylib.monitoring.export_metrics\\u003c\\u002fb\\u003e\\u003cbr\\u003eType: function\\u003cbr\\u003eIntroduced: v2.2.0\\u003cbr\\u003eRemoved: v3.0.0\\u003cbr\\u003eModifications: 0\\u003cbr\\u003e\\u003cextra\\u003e\\u003c\\u002fextra\\u003e\",\"legendgroup\":\"function\",\"line\":{\"color\":\"#1f77b4\",\"width\":8},\"mode\":\"lines\",\"name\":\"\",\"showlegend\":false,\"x\":[5,6],\"y\":[19,19],\"type\":\"scatter\"}],                        {\"template\":{\"data\":{\"histogram2dcontour\":[{\"type\":\"histogram2dcontour\",\"colorbar\":{\"outlinewidth\":0,\"ticks\":\"\"},\"colorscale\":[[0.0,\"#0d0887\"],[0.1111111111111111,\"#46039f\"],[0.2222222222222222,\"#7201a8\"],[0.3333333333333333,\"#9c179e\"],[0.4444444444444444,\"#bd3786\"],[0.5555555555555556,\"#d8576b\"],[0.6666666666666666,\"#ed7953\"],[0.7777777777777778,\"#fb9f3a\"],[0.8888888888888888,\"#fdca26\"],[1.0,\"#f0f921\"]]}],\"choropleth\":[{\"type\":\"choropleth\",\"colorbar\":{\"outlinewidth\":0,\"ticks\":\"\"}}],\"histogram2d\":[{\"type\":\"histogram2d\",\"colorbar\":{\"outlinewidth\":0,\"ticks\":\"\"},\"colorscale\":[[0.0,\"#0d0887\"],[0.1111111111111111,\"#46039f\"],[0.2222222222222222,\"#7201a8\"],[0.3333333333333333,\"#9c179e\"],[0.4444444444444444,\"#bd3786\"],[0.5555555555555556,\"#d8576b\"],[0.6666666666666666,\"#ed7953\"],[0.7777777777777778,\"#fb9f3a\"],[0.8888888888888888,\"#fdca26\"],[1.0,\"#f0f921\"]]}],\"heatmap\":[{\"type\":\"heatmap\",\"colorbar\":{\"outlinewidth\":0,\"ticks\":\"\"},\"colorscale\":[[0.0,\"#0d0887\"],[0.1111111111111111,\"#46039f\"],[0.2222222222222222,\"#7201a8\"],[0.3333333333333333,\"#9c179e\"],[0.4444444444444444,\"#bd3786\"],[0.5555555555555556,\"#d8576b\"],[0.6666666666666666,\"#ed7953\"],[0.7777777777777778,\"#fb9f3a\"],[0.8888888888888888,\"#fdca26\"],[1.0,\"#f0f921\"]]}],\"contourcarpet\":[{\"type\":\"contourcarpet\",\"colorbar\":{\"outlinewidth\":0,\"ticks\":\"\"}}],\"contour\":[{\"type\":\"contour\",\"colorbar\":{\"outlinewidth\":0,\"ticks\":\"\"},\"colorscale\":[[0.0,\"#0d0887\"],[0.1111111111111111,\"#46039f\"],[0.2222222222222222,\"#7201a8\"],[0.3333333333333333,\"#9c179e\"],[0.4444444444444444,\"#bd3786\"],[0.5555555555555556,\"#d8576b\"],[0.6666666666666666,\"#ed7953\"],[0.7777777777777778,\"#fb9f3a\"],[0.8888888888888888,\"#fdca26\"],[1.0,\"#f0f921\"]]}],\"surface\":[{\"type\":\"surface\",\"colorbar\":{\"outlinewidth\":0,\"ticks\":\"\"},\"colorscale\":[[0.0,\"#0d0887\"],[0.1111111111111111,\"#46039f\"],[0.2222222222222222,\"#7201a8\"],[0.3333333333333333,\"#9c179e\"],[0.4444444444444444,\"#bd3786\"],[0.5555555555555556,\"#d8576b\"],[0.6666666666666666,\"#ed7953\"],[0.7777777777777778,\"#fb9f3a\"],[0.8888888888888888,\"#fdca26\"],[1.0,\"#f0f921\"]]}],\"mesh3d\":[{\"type\":\"mesh3d\",\"colorbar\":{\"outlinewidth\":0,\"ticks\":\"\"}}],\"scatter\":[{\"fillpattern\":{\"fillmode\":\"overlay\",\"size\":10,\"solidity\":0.2},\"type\":\"scatter\"}],\"parcoords\":[{\"type\":\"parcoords\",\"line\":{\"colorbar\":{\"outlinewidth\":0,\"ticks\":\"\"}}}],\"scatterpolargl\":[{\"type\":\"scatterpolargl\",\"marker\":{\"colorbar\":{\"outlinewidth\":0,\"ticks\":\"\"}}}],\"bar\":[{\"error_x\":{\"color\":\"#2a3f5f\"},\"error_y\":{\"color\":\"#2a3f5f\"},\"marker\":{\"line\":{\"color\":\"#E5ECF6\",\"width\":0.5},\"pattern\":{\"fillmode\":\"overlay\",\"size\":10,\"solidity\":0.2}},\"type\":\"bar\"}],\"scattergeo\":[{\"type\":\"scattergeo\",\"marker\":{\"colorbar\":{\"outlinewidth\":0,\"ticks\":\"\"}}}],\"scatterpolar\":[{\"type\":\"scatterpolar\",\"marker\":{\"colorbar\":{\"outlinewidth\":0,\"ticks\":\"\"}}}],\"histogram\":[{\"marker\":{\"pattern\":{\"fillmode\":\"overlay\",\"size\":10,\"solidity\":0.2}},\"type\":\"histogram\"}],\"scattergl\":[{\"type\":\"scattergl\",\"marker\":{\"colorbar\":{\"outlinewidth\":0,\"ticks\":\"\"}}}],\"scatter3d\":[{\"type\":\"scatter3d\",\"line\":{\"colorbar\":{\"outlinewidth\":0,\"ticks\":\"\"}},\"marker\":{\"colorbar\":{\"outlinewidth\":0,\"ticks\":\"\"}}}],\"scattermap\":[{\"type\":\"scattermap\",\"marker\":{\"colorbar\":{\"outlinewidth\":0,\"ticks\":\"\"}}}],\"scattermapbox\":[{\"type\":\"scattermapbox\",\"marker\":{\"colorbar\":{\"outlinewidth\":0,\"ticks\":\"\"}}}],\"scatterternary\":[{\"type\":\"scatterternary\",\"marker\":{\"colorbar\":{\"outlinewidth\":0,\"ticks\":\"\"}}}],\"scattercarpet\":[{\"type\":\"scattercarpet\",\"marker\":{\"colorbar\":{\"outlinewidth\":0,\"ticks\":\"\"}}}],\"carpet\":[{\"aaxis\":{\"endlinecolor\":\"#2a3f5f\",\"gridcolor\":\"white\",\"linecolor\":\"white\",\"minorgridcolor\":\"white\",\"startlinecolor\":\"#2a3f5f\"},\"baxis\":{\"endlinecolor\":\"#2a3f5f\",\"gridcolor\":\"white\",\"linecolor\":\"white\",\"minorgridcolor\":\"white\",\"startlinecolor\":\"#2a3f5f\"},\"type\":\"carpet\"}],\"table\":[{\"cells\":{\"fill\":{\"color\":\"#EBF0F8\"},\"line\":{\"color\":\"white\"}},\"header\":{\"fill\":{\"color\":\"#C8D4E3\"},\"line\":{\"color\":\"white\"}},\"type\":\"table\"}],\"barpolar\":[{\"marker\":{\"line\":{\"color\":\"#E5ECF6\",\"width\":0.5},\"pattern\":{\"fillmode\":\"overlay\",\"size\":10,\"solidity\":0.2}},\"type\":\"barpolar\"}],\"pie\":[{\"automargin\":true,\"type\":\"pie\"}]},\"layout\":{\"autotypenumbers\":\"strict\",\"colorway\":[\"#636efa\",\"#EF553B\",\"#00cc96\",\"#ab63fa\",\"#FFA15A\",\"#19d3f3\",\"#FF6692\",\"#B6E880\",\"#FF97FF\",\"#FECB52\"],\"font\":{\"color\":\"#2a3f5f\"},\"hovermode\":\"closest\",\"hoverlabel\":{\"align\":\"left\"},\"paper_bgcolor\":\"white\",\"plot_bgcolor\":\"#E5ECF6\",\"polar\":{\"bgcolor\":\"#E5ECF6\",\"angularaxis\":{\"gridcolor\":\"white\",\"linecolor\":\"white\",\"ticks\":\"\"},\"radialaxis\":{\"gridcolor\":\"white\",\"linecolor\":\"white\",\"ticks\":\"\"}},\"ternary\":{\"bgcolor\":\"#E5ECF6\",\"aaxis\":{\"gridcolor\":\"white\",\"linecolor\":\"white\",\"ticks\":\"\"},\"baxis\":{\"gridcolor\":\"white\",\"linecolor\":\"white\",\"ticks\":\"\"},\"caxis\":{\"gridcolor\":\"white\",\"linecolor\":\"white\",\"ticks\":\"\"}},\"coloraxis\":{\"colorbar\":{\"outlinewidth\":0,\"ticks\":\"\"}},\"colorscale\":{\"sequential\":[[0.0,\"#0d0887\"],[0.1111111111111111,\"#46039f\"],[0.2222222222222222,\"#7201a8\"],[0.3333333333333333,\"#9c179e\"],[0.4444444444444444,\"#bd3786\"],[0.5555555555555556,\"#d8576b\"],[0.6666666666666666,\"#ed7953\"],[0.7777777777777778,\"#fb9f3a\"],[0.8888888888888888,\"#fdca26\"],[1.0,\"#f0f921\"]],\"sequentialminus\":[[0.0,\"#0d0887\"],[0.1111111111111111,\"#46039f\"],[0.2222222222222222,\"#7201a8\"],[0.3333333333333333,\"#9c179e\"],[0.4444444444444444,\"#bd3786\"],[0.5555555555555556,\"#d8576b\"],[0.6666666666666666,\"#ed7953\"],[0.7777777777777778,\"#fb9f3a\"],[0.8888888888888888,\"#fdca26\"],[1.0,\"#f0f921\"]],\"diverging\":[[0,\"#8e0152\"],[0.1,\"#c51b7d\"],[0.2,\"#de77ae\"],[0.3,\"#f1b6da\"],[0.4,\"#fde0ef\"],[0.5,\"#f7f7f7\"],[0.6,\"#e6f5d0\"],[0.7,\"#b8e186\"],[0.8,\"#7fbc41\"],[0.9,\"#4d9221\"],[1,\"#276419\"]]},\"xaxis\":{\"gridcolor\":\"white\",\"linecolor\":\"white\",\"ticks\":\"\",\"title\":{\"standoff\":15},\"zerolinecolor\":\"white\",\"automargin\":true,\"zerolinewidth\":2},\"yaxis\":{\"gridcolor\":\"white\",\"linecolor\":\"white\",\"ticks\":\"\",\"title\":{\"standoff\":15},\"zerolinecolor\":\"white\",\"automargin\":true,\"zerolinewidth\":2},\"scene\":{\"xaxis\":{\"backgroundcolor\":\"#E5ECF6\",\"gridcolor\":\"white\",\"linecolor\":\"white\",\"showbackground\":true,\"ticks\":\"\",\"zerolinecolor\":\"white\",\"gridwidth\":2},\"yaxis\":{\"backgroundcolor\":\"#E5ECF6\",\"gridcolor\":\"white\",\"linecolor\":\"white\",\"showbackground\":true,\"ticks\":\"\",\"zerolinecolor\":\"white\",\"gridwidth\":2},\"zaxis\":{\"backgroundcolor\":\"#E5ECF6\",\"gridcolor\":\"white\",\"linecolor\":\"white\",\"showbackground\":true,\"ticks\":\"\",\"zerolinecolor\":\"white\",\"gridwidth\":2}},\"shapedefaults\":{\"line\":{\"color\":\"#2a3f5f\"}},\"annotationdefaults\":{\"arrowcolor\":\"#2a3f5f\",\"arrowhead\":0,\"arrowwidth\":1},\"geo\":{\"bgcolor\":\"white\",\"landcolor\":\"#E5ECF6\",\"subunitcolor\":\"white\",\"showland\":true,\"showlakes\":true,\"lakecolor\":\"white\"},\"title\":{\"x\":0.05},\"mapbox\":{\"style\":\"light\"}}},\"title\":{\"font\":{\"size\":18},\"text\":\"API Lifecycle Timeline - mylib\",\"x\":0.5},\"xaxis\":{\"title\":{\"text\":\"Version\"},\"tickmode\":\"array\",\"tickvals\":[0,1,2,3,4,5,6],\"ticktext\":[\"1.0.0\",\"1.1.0\",\"1.2.0\",\"2.0.0\",\"2.1.0\",\"2.2.0\",\"3.0.0\"]},\"yaxis\":{\"title\":{\"text\":\"API Elements\"},\"tickmode\":\"array\",\"tickvals\":[0,1,2,3,4,5,6,7,8,9,10,11,12,13,14,15,16,17,18,19],\"ticktext\":[\"Client\",\"connect\",\"Logger\",\"disconnect\",\"VERSION\",\"get_status\",\"reconnect\",\"Config\",\"async_connect\",\"AsyncClient\",\"validate_config\",\"Connection\",\"authenticate\",\"Logger\",\"Settings\",\"bulk_connect\",\"ConnectionPool\",\"Metrics\",\"monitor\",\"export_metrics\"]},\"height\":600,\"hovermode\":\"closest\"},                        {\"responsive\": true}                    ).then(function(){\n",
       "                            \n",
       "var gd = document.getElementById('ce026c5c-ab3b-44f4-86f7-d4c1eb1e74b1');\n",
       "var x = new MutationObserver(function (mutations, observer) {{\n",
       "        var display = window.getComputedStyle(gd).display;\n",
       "        if (!display || display === 'none') {{\n",
       "            console.log([gd, 'removed!']);\n",
       "            Plotly.purge(gd);\n",
       "            observer.disconnect();\n",
       "        }}\n",
       "}});\n",
       "\n",
       "// Listen for the removal of the full notebook cells\n",
       "var notebookContainer = gd.closest('#notebook-container');\n",
       "if (notebookContainer) {{\n",
       "    x.observe(notebookContainer, {childList: true});\n",
       "}}\n",
       "\n",
       "// Listen for the clearing of the current output cell\n",
       "var outputEl = gd.closest('.output');\n",
       "if (outputEl) {{\n",
       "    x.observe(outputEl, {childList: true});\n",
       "}}\n",
       "\n",
       "                        })                };            </script>        </div>"
      ]
     },
     "metadata": {},
     "output_type": "display_data"
    },
    {
     "name": "stdout",
     "output_type": "stream",
     "text": [
      "📊 API lifecycle chart created!\n",
      "🔍 Red diamonds indicate API modifications\n",
      "📈 Different colors represent different API types\n"
     ]
    }
   ],
   "source": [
    "def create_api_lifecycle_chart(result):\n",
    "    \"\"\"Create a Gantt-style chart showing the lifecycle of each API.\"\"\"\n",
    "    \n",
    "    # Build lifecycle data for each unique API\n",
    "    api_lifecycles = {}\n",
    "    \n",
    "    # First, collect all APIs and their versions\n",
    "    all_apis = set()\n",
    "    for elements in result.api_elements.values():\n",
    "        for element in elements:\n",
    "            all_apis.add(element.full_name)\n",
    "    \n",
    "    # For each API, find its lifecycle\n",
    "    version_order = {v.version: i for i, v in enumerate(sorted(result.versions, key=lambda x: x.version))}\n",
    "    \n",
    "    for api_name in all_apis:\n",
    "        lifecycle = {\n",
    "            'name': api_name,\n",
    "            'introduced': None,\n",
    "            'removed': None,\n",
    "            'versions_present': [],\n",
    "            'modifications': []\n",
    "        }\n",
    "        \n",
    "        # Find when API was introduced and removed\n",
    "        for change in result.changes:\n",
    "            if change.element.full_name == api_name:\n",
    "                if change.change_type == ChangeType.ADDED:\n",
    "                    lifecycle['introduced'] = change.to_version\n",
    "                elif change.change_type == ChangeType.REMOVED:\n",
    "                    lifecycle['removed'] = change.to_version\n",
    "                elif change.change_type == ChangeType.MODIFIED:\n",
    "                    lifecycle['modifications'].append(change.to_version)\n",
    "        \n",
    "        # Find all versions where API exists\n",
    "        for version, elements in result.api_elements.items():\n",
    "            for element in elements:\n",
    "                if element.full_name == api_name:\n",
    "                    lifecycle['versions_present'].append(version)\n",
    "                    break\n",
    "        \n",
    "        # If no explicit introduction found, assume it was introduced in first version it appears\n",
    "        if lifecycle['introduced'] is None and lifecycle['versions_present']:\n",
    "            lifecycle['introduced'] = min(lifecycle['versions_present'], \n",
    "                                       key=lambda v: version_order.get(v, 999))\n",
    "        \n",
    "        api_lifecycles[api_name] = lifecycle\n",
    "    \n",
    "    # Create the Gantt chart\n",
    "    fig = go.Figure()\n",
    "    \n",
    "    # Sort APIs by introduction version for better visualization\n",
    "    sorted_apis = sorted(api_lifecycles.items(), \n",
    "                        key=lambda x: version_order.get(x[1]['introduced'], 999))\n",
    "    \n",
    "    colors = px.colors.qualitative.Set3\n",
    "    api_types = {}\n",
    "    \n",
    "    # Determine API type for coloring\n",
    "    for version, elements in result.api_elements.items():\n",
    "        for element in elements:\n",
    "            if element.full_name not in api_types:\n",
    "                api_types[element.full_name] = element.type.value\n",
    "    \n",
    "    type_colors = {\n",
    "        'function': '#1f77b4',\n",
    "        'class': '#ff7f0e',\n",
    "        'method': '#2ca02c', \n",
    "        'property': '#d62728',\n",
    "        'constant': '#9467bd',\n",
    "        'module': '#8c564b'\n",
    "    }\n",
    "    \n",
    "    for i, (api_name, lifecycle) in enumerate(sorted_apis[:20]):  # Limit to first 20 for readability\n",
    "        if not lifecycle['versions_present']:\n",
    "            continue\n",
    "            \n",
    "        # Determine start and end positions\n",
    "        start_pos = version_order.get(lifecycle['introduced'], 0)\n",
    "        if lifecycle['removed']:\n",
    "            end_pos = version_order.get(lifecycle['removed'], len(version_order) - 1)\n",
    "        else:\n",
    "            end_pos = len(version_order) - 1\n",
    "        \n",
    "        api_type = api_types.get(api_name, 'function')\n",
    "        color = type_colors.get(api_type, '#1f77b4')\n",
    "        \n",
    "        # Add main lifecycle bar\n",
    "        fig.add_trace(go.Scatter(\n",
    "            x=[start_pos, end_pos],\n",
    "            y=[i, i],\n",
    "            mode='lines',\n",
    "            line=dict(color=color, width=8),\n",
    "            name=api_type if api_type not in [trace.name for trace in fig.data] else \"\",\n",
    "            legendgroup=api_type,\n",
    "            showlegend=api_type not in [trace.name for trace in fig.data],\n",
    "            hovertemplate=f\"<b>{api_name}</b><br>\" +\n",
    "                         f\"Type: {api_type}<br>\" +\n",
    "                         f\"Introduced: v{lifecycle['introduced']}<br>\" +\n",
    "                         f\"Removed: {'v' + lifecycle['removed'] if lifecycle['removed'] else 'Still Active'}<br>\" +\n",
    "                         f\"Modifications: {len(lifecycle['modifications'])}<br>\" +\n",
    "                         \"<extra></extra>\"\n",
    "        ))\n",
    "        \n",
    "        # Add modification markers\n",
    "        for mod_version in lifecycle['modifications']:\n",
    "            mod_pos = version_order.get(mod_version, 0)\n",
    "            fig.add_trace(go.Scatter(\n",
    "                x=[mod_pos],\n",
    "                y=[i],\n",
    "                mode='markers',\n",
    "                marker=dict(color='red', size=10, symbol='diamond'),\n",
    "                name='Modification' if 'Modification' not in [trace.name for trace in fig.data] else \"\",\n",
    "                legendgroup='modifications',\n",
    "                showlegend='Modification' not in [trace.name for trace in fig.data],\n",
    "                hovertemplate=f\"<b>{api_name}</b><br>\" +\n",
    "                             f\"Modified in: v{mod_version}<br>\" +\n",
    "                             \"<extra></extra>\"\n",
    "            ))\n",
    "    \n",
    "    # Update layout\n",
    "    fig.update_layout(\n",
    "        title={\n",
    "            'text': f'API Lifecycle Timeline - {result.package_name}',\n",
    "            'x': 0.5,\n",
    "            'font': {'size': 18}\n",
    "        },\n",
    "        xaxis_title='Version',\n",
    "        yaxis_title='API Elements',\n",
    "        height=max(600, len(sorted_apis[:20]) * 30),\n",
    "        hovermode='closest'\n",
    "    )\n",
    "    \n",
    "    # Set up x-axis\n",
    "    version_labels = [v.version for v in sorted(result.versions, key=lambda x: x.version)]\n",
    "    fig.update_xaxes(\n",
    "        tickmode='array',\n",
    "        tickvals=list(range(len(version_labels))),\n",
    "        ticktext=version_labels\n",
    "    )\n",
    "    \n",
    "    # Set up y-axis\n",
    "    api_names = [name for name, _ in sorted_apis[:20]]\n",
    "    fig.update_yaxes(\n",
    "        tickmode='array',\n",
    "        tickvals=list(range(len(api_names))),\n",
    "        ticktext=[name.split('.')[-1] for name in api_names]  # Show just the API name, not full path\n",
    "    )\n",
    "    \n",
    "    return fig\n",
    "\n",
    "# Create the API lifecycle chart\n",
    "lifecycle_fig = create_api_lifecycle_chart(demo_result)\n",
    "if lifecycle_fig:\n",
    "    lifecycle_fig.show()\n",
    "    print(\"📊 API lifecycle chart created!\")\n",
    "    print(\"🔍 Red diamonds indicate API modifications\")\n",
    "    print(\"📈 Different colors represent different API types\")\n",
    "else:\n",
    "    print(\"❌ Could not create API lifecycle visualization\")"
   ]
  },
  {
   "cell_type": "markdown",
   "id": "9dd0dc5f",
   "metadata": {},
   "source": [
    "## 7. Summary and Next Steps\n",
    "\n",
    "This notebook demonstrated various ways to visualize API evolution data using PyMevol Plus. Here's what we covered:\n",
    "\n",
    "### 📊 Visualization Types Created:\n",
    "1. **Interactive Timeline**: Shows when APIs were added, modified, or removed\n",
    "2. **API Type Distribution**: Reveals the composition of your API over time  \n",
    "3. **Change Patterns Dashboard**: Multi-panel view of change trends and impacts\n",
    "4. **Static Publication Plots**: High-quality plots for reports and papers\n",
    "5. **API Lifecycle Charts**: Gantt-style view of individual API lifecycles\n",
    "\n",
    "### 🎨 Visualization Libraries Used:\n",
    "- **Plotly**: Interactive, web-ready visualizations with hover details and zoom\n",
    "- **Matplotlib + Seaborn**: Publication-quality static plots with fine control\n",
    "- **Pandas**: Data manipulation and aggregation for analysis\n",
    "\n",
    "### 💡 Key Insights from Our Sample Data:\n",
    "- Most changes occur during major version releases (2.0.0, 3.0.0)\n",
    "- Breaking changes are concentrated in major versions\n",
    "- Functions and classes are the most frequently changed API types\n",
    "- Some APIs have short lifecycles, while others persist across many versions\n",
    "\n",
    "### 🚀 Next Steps:\n",
    "1. **Customize for Your Data**: Replace the sample data with your actual analysis results\n",
    "2. **Add Filters**: Implement filtering by date ranges, API types, or change types\n",
    "3. **Export Options**: Add functionality to save plots as PNG, PDF, or SVG\n",
    "4. **Interactive Dashboards**: Consider building a web dashboard with Dash or Streamlit\n",
    "5. **Automated Reports**: Set up automated visualization generation for CI/CD pipelines\n",
    "\n",
    "### 📖 Tips for Effective API Evolution Visualization:\n",
    "- Focus on the story you want to tell with your data\n",
    "- Use consistent color schemes across related visualizations\n",
    "- Include interactive elements for exploration\n",
    "- Provide context with annotations and descriptions\n",
    "- Consider your audience (developers, managers, researchers)"
   ]
  },
  {
   "cell_type": "code",
   "execution_count": 8,
   "id": "76e97504",
   "metadata": {},
   "outputs": [
    {
     "name": "stdout",
     "output_type": "stream",
     "text": [
      "🛠️  Utility functions loaded!\n",
      "📁 Use save_visualization(fig, 'my_chart') to save plots\n",
      "🎨 Use create_custom_color_scheme() for consistent colors\n",
      "🔍 Use filter_analysis_result() to focus on specific data\n",
      "📊 Use export_data_summary() to save data for external analysis\n"
     ]
    }
   ],
   "source": [
    "# Utility functions for customization and export\n",
    "\n",
    "def save_visualization(fig, filename, format='html', width=1200, height=800):\n",
    "    \"\"\"Save a Plotly figure to file.\"\"\"\n",
    "    try:\n",
    "        if format.lower() == 'html':\n",
    "            fig.write_html(f\"{filename}.html\")\n",
    "            print(f\"✅ Saved interactive plot to {filename}.html\")\n",
    "        elif format.lower() in ['png', 'jpg', 'jpeg', 'svg', 'pdf']:\n",
    "            fig.write_image(f\"{filename}.{format}\", width=width, height=height)\n",
    "            print(f\"✅ Saved static plot to {filename}.{format}\")\n",
    "        else:\n",
    "            print(f\"❌ Unsupported format: {format}\")\n",
    "    except Exception as e:\n",
    "        print(f\"❌ Error saving visualization: {e}\")\n",
    "        print(\"💡 For static formats, you may need to install kaleido: pip install kaleido\")\n",
    "\n",
    "def create_custom_color_scheme():\n",
    "    \"\"\"Create a custom color scheme for consistent branding.\"\"\"\n",
    "    return {\n",
    "        'primary': '#2E86C1',      # Blue\n",
    "        'secondary': '#28B463',    # Green  \n",
    "        'accent': '#F39C12',       # Orange\n",
    "        'warning': '#E74C3C',      # Red\n",
    "        'info': '#8E44AD',         # Purple\n",
    "        'neutral': '#95A5A6'       # Gray\n",
    "    }\n",
    "\n",
    "def filter_analysis_result(result, start_version=None, end_version=None, \n",
    "                          api_types=None, change_types=None):\n",
    "    \"\"\"Filter analysis results based on various criteria.\"\"\"\n",
    "    filtered_result = AnalysisResult(\n",
    "        package_name=result.package_name,\n",
    "        versions=result.versions.copy(),\n",
    "        api_elements=result.api_elements.copy(),\n",
    "        changes=result.changes.copy(),\n",
    "        metadata=result.metadata.copy()\n",
    "    )\n",
    "    \n",
    "    # Filter by version range\n",
    "    if start_version or end_version:\n",
    "        version_numbers = [v.version for v in result.versions]\n",
    "        if start_version and start_version in version_numbers:\n",
    "            start_idx = version_numbers.index(start_version)\n",
    "            filtered_result.versions = filtered_result.versions[start_idx:]\n",
    "        if end_version and end_version in version_numbers:\n",
    "            end_idx = version_numbers.index(end_version) + 1\n",
    "            filtered_result.versions = filtered_result.versions[:end_idx]\n",
    "    \n",
    "    # Filter changes\n",
    "    if change_types:\n",
    "        filtered_result.changes = [\n",
    "            c for c in filtered_result.changes \n",
    "            if c.change_type in change_types\n",
    "        ]\n",
    "    \n",
    "    if api_types:\n",
    "        filtered_result.changes = [\n",
    "            c for c in filtered_result.changes \n",
    "            if c.element.type in api_types\n",
    "        ]\n",
    "    \n",
    "    return filtered_result\n",
    "\n",
    "def export_data_summary(result, filename='api_evolution_summary'):\n",
    "    \"\"\"Export a summary of the analysis results to CSV and JSON.\"\"\"\n",
    "    try:\n",
    "        # Create summary data\n",
    "        summary_data = []\n",
    "        for change in result.changes:\n",
    "            summary_data.append({\n",
    "                'version': change.to_version,\n",
    "                'api_name': change.element.name,\n",
    "                'api_full_name': change.element.full_name,\n",
    "                'api_type': change.element.type.value,\n",
    "                'change_type': change.change_type.value,\n",
    "                'is_breaking': not change.is_backwards_compatible,\n",
    "                'description': change.description,\n",
    "                'module': change.element.module_path\n",
    "            })\n",
    "        \n",
    "        # Save as CSV\n",
    "        df = pd.DataFrame(summary_data)\n",
    "        df.to_csv(f\"{filename}.csv\", index=False)\n",
    "        print(f\"✅ Exported data summary to {filename}.csv\")\n",
    "        \n",
    "        # Save as JSON\n",
    "        with open(f\"{filename}.json\", 'w') as f:\n",
    "            json.dump({\n",
    "                'package_name': result.package_name,\n",
    "                'total_versions': len(result.versions),\n",
    "                'total_changes': len(result.changes),\n",
    "                'summary': result.generate_summary(),\n",
    "                'changes': summary_data\n",
    "            }, f, indent=2)\n",
    "        print(f\"✅ Exported data summary to {filename}.json\")\n",
    "        \n",
    "    except Exception as e:\n",
    "        print(f\"❌ Error exporting data: {e}\")\n",
    "\n",
    "# Example usage:\n",
    "print(\"🛠️  Utility functions loaded!\")\n",
    "print(\"📁 Use save_visualization(fig, 'my_chart') to save plots\")\n",
    "print(\"🎨 Use create_custom_color_scheme() for consistent colors\") \n",
    "print(\"🔍 Use filter_analysis_result() to focus on specific data\")\n",
    "print(\"📊 Use export_data_summary() to save data for external analysis\")"
   ]
  }
 ],
 "metadata": {
  "kernelspec": {
   "display_name": "pymevol",
   "language": "python",
   "name": "python3"
  },
  "language_info": {
   "codemirror_mode": {
    "name": "ipython",
    "version": 3
   },
   "file_extension": ".py",
   "mimetype": "text/x-python",
   "name": "python",
   "nbconvert_exporter": "python",
   "pygments_lexer": "ipython3",
   "version": "3.12.11"
  }
 },
 "nbformat": 4,
 "nbformat_minor": 5
}
